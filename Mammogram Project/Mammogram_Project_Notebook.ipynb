{
 "cells": [
  {
   "cell_type": "markdown",
   "metadata": {},
   "source": [
    "# Binary classification on an imbalanced dataset (Breast Cancer detection) "
   ]
  },
  {
   "cell_type": "markdown",
   "metadata": {},
   "source": [
    "In this notebook I will demonstrate how to classify a highly imbalanced dataset in which the number of examples in one class greatly outnumbers the examples in another. I will be working with data collected from the Breast Cancer Surveillance Consortium (BCSC). The goal is to detect 259 positive breast cancer cases from a total of 40000 mammogram screening."
   ]
  },
  {
   "cell_type": "markdown",
   "metadata": {},
   "source": [
    "The notebook is based on the \"Classification on imbalanced data\" turtorial on: \n",
    "- https://www.tensorflow.org/tutorials/structured_data/imbalanced_data\n",
    "- https://github.com/tensorflow/docs/blob/master/site/en/tutorials/structured_data/imbalanced_data.ipynb"
   ]
  },
  {
   "cell_type": "markdown",
   "metadata": {},
   "source": [
    "## Setup"
   ]
  },
  {
   "cell_type": "markdown",
   "metadata": {},
   "source": [
    "Import the required packages."
   ]
  },
  {
   "cell_type": "code",
   "execution_count": 244,
   "metadata": {},
   "outputs": [],
   "source": [
    "import os\n",
    "import tempfile\n",
    "import pandas as pd\n",
    "import numpy as np\n",
    "\n",
    "import sklearn\n",
    "from sklearn.metrics import confusion_matrix\n",
    "from sklearn.model_selection import train_test_split\n",
    "from sklearn.preprocessing import StandardScaler\n",
    "from sklearn.model_selection import train_test_split\n",
    "from sklearn.metrics import mean_squared_error\n",
    "\n",
    "import tensorflow as tf\n",
    "import tensorflow.keras as keras\n",
    "from tensorflow.keras.models import Sequential\n",
    "from tensorflow.keras.layers import Dense\n",
    "from tensorflow.keras.utils import to_categorical\n",
    "\n",
    "import matplotlib as mpl\n",
    "import matplotlib.pyplot as plt\n",
    "import numpy as np\n",
    "import pandas as pd\n",
    "import seaborn as sns"
   ]
  },
  {
   "cell_type": "code",
   "execution_count": 245,
   "metadata": {},
   "outputs": [],
   "source": [
    "#Create a function to plot confusion matrix\n",
    "\n",
    "def plot_cm(labels, predictions, p=0.5):\n",
    "  cm = confusion_matrix(labels, predictions > p)\n",
    "  plt.figure(figsize=(5,5))\n",
    "  sns.heatmap(cm, annot=True, fmt=\"d\")\n",
    "  plt.title('Confusion matrix @{:.2f}'.format(p))\n",
    "  plt.ylabel('Actual label')\n",
    "  plt.xlabel('Predicted label')\n",
    "\n",
    "  print('Legitimate Transactions Detected (True Negatives): ', cm[0][0])\n",
    "  print('Legitimate Transactions Incorrectly Detected (False Positives): ', cm[0][1])\n",
    "  print('Fraudulent Transactions Missed (False Negatives): ', cm[1][0])\n",
    "  print('Fraudulent Transactions Detected (True Positives): ', cm[1][1])\n",
    "  print('Total Fraudulent Transactions: ', np.sum(cm[1]))"
   ]
  },
  {
   "cell_type": "markdown",
   "metadata": {},
   "source": [
    "## Importing the data"
   ]
  },
  {
   "cell_type": "markdown",
   "metadata": {},
   "source": [
    "Next, I will be using data collect from the Breast Cancer Surveillance Consortium (BCSC). This digital mammography dataset includes information from 20,000 digital and 20,000 film screening mammograms performed between January 2005 and December 2008 from women included in the Breast Cancer Surveillance Consortium. Some women contributed more than one examination to the dataset."
   ]
  },
  {
   "cell_type": "markdown",
   "metadata": {},
   "source": [
    "Data collection and sharing was supported by the National Cancer Institute-funded Breast Cancer Surveillance Consortium (HHSN261201100031C). You can learn more about the BCSC at: http://www.bcsc-research.org/."
   ]
  },
  {
   "cell_type": "markdown",
   "metadata": {},
   "source": [
    "The variables in the dataset are defined as so:"
   ]
  },
  {
   "cell_type": "code",
   "execution_count": 246,
   "metadata": {},
   "outputs": [
    {
     "data": {
      "text/html": [
       "<div>\n",
       "<style scoped>\n",
       "    .dataframe tbody tr th:only-of-type {\n",
       "        vertical-align: middle;\n",
       "    }\n",
       "\n",
       "    .dataframe tbody tr th {\n",
       "        vertical-align: top;\n",
       "    }\n",
       "\n",
       "    .dataframe thead th {\n",
       "        text-align: right;\n",
       "    }\n",
       "</style>\n",
       "<table border=\"1\" class=\"dataframe\">\n",
       "  <thead>\n",
       "    <tr style=\"text-align: right;\">\n",
       "      <th></th>\n",
       "      <th>Variable Name</th>\n",
       "      <th>Description</th>\n",
       "      <th>coding</th>\n",
       "    </tr>\n",
       "  </thead>\n",
       "  <tbody>\n",
       "    <tr>\n",
       "      <th>0</th>\n",
       "      <td>age_c</td>\n",
       "      <td>patient's age in years at time of mammogram</td>\n",
       "      <td>Numerical</td>\n",
       "    </tr>\n",
       "    <tr>\n",
       "      <th>1</th>\n",
       "      <td>assess_c</td>\n",
       "      <td>Radiologist's assessment based on the BI-RADS scale</td>\n",
       "      <td>[0 = Needs additional imaging, 1 = Negative, 2 = Benign finding(s), 3 = Probably benign, 4 = Su...</td>\n",
       "    </tr>\n",
       "    <tr>\n",
       "      <th>2</th>\n",
       "      <td>cancer_c</td>\n",
       "      <td>binary indicator of cancer diagnosis within one year of screening mammogram</td>\n",
       "      <td>[0 = no cancer diagnosis, 1 = cancer diagnosis]</td>\n",
       "    </tr>\n",
       "    <tr>\n",
       "      <th>3</th>\n",
       "      <td>compfilm_c</td>\n",
       "      <td>comparison mammogram from prior mammography examination available</td>\n",
       "      <td>[0 = no, 1 = yes, 9 = missing]</td>\n",
       "    </tr>\n",
       "    <tr>\n",
       "      <th>4</th>\n",
       "      <td>density_c</td>\n",
       "      <td>patient's BI-RADS breast density as recorded at time of mammogram</td>\n",
       "      <td>[1 = Almost entirely fatty, 2 = Scattered fibroglandular densities, 3 = Heterogeneously dense, ...</td>\n",
       "    </tr>\n",
       "    <tr>\n",
       "      <th>5</th>\n",
       "      <td>famhx_c</td>\n",
       "      <td>family history of breast cancer in a first degree relative</td>\n",
       "      <td>[0 = no, 1 = yes, 9 = missing]</td>\n",
       "    </tr>\n",
       "    <tr>\n",
       "      <th>6</th>\n",
       "      <td>hrt_c</td>\n",
       "      <td>current use of hormone therapy at time of mammogram</td>\n",
       "      <td>[0 = no, 1 = yes, 9 = missing]</td>\n",
       "    </tr>\n",
       "    <tr>\n",
       "      <th>7</th>\n",
       "      <td>prvmam_c</td>\n",
       "      <td>binary indicator of whether the woman had ever received a prior mammogram</td>\n",
       "      <td>[0 = no, 1 = yes, 9 = missing]</td>\n",
       "    </tr>\n",
       "    <tr>\n",
       "      <th>8</th>\n",
       "      <td>biophx_c</td>\n",
       "      <td>history of breast biopsy</td>\n",
       "      <td>[0 = no, 1 = yes, 9 = missing]</td>\n",
       "    </tr>\n",
       "    <tr>\n",
       "      <th>9</th>\n",
       "      <td>mammtype</td>\n",
       "      <td>film or digital mammogram</td>\n",
       "      <td>[1 = film mammogram, 2 = digital mammogram]</td>\n",
       "    </tr>\n",
       "    <tr>\n",
       "      <th>10</th>\n",
       "      <td>CaTypeO</td>\n",
       "      <td>cancer type</td>\n",
       "      <td>[1 = ductal carcinoma in situ, 2 = invasive cancer, 8 = no cancer diagnosis]</td>\n",
       "    </tr>\n",
       "    <tr>\n",
       "      <th>11</th>\n",
       "      <td>bmi_c</td>\n",
       "      <td>body mass index at time of mammogram</td>\n",
       "      <td>Numerical or -99 if missing</td>\n",
       "    </tr>\n",
       "    <tr>\n",
       "      <th>12</th>\n",
       "      <td>ptid</td>\n",
       "      <td>patient's study id</td>\n",
       "      <td></td>\n",
       "    </tr>\n",
       "  </tbody>\n",
       "</table>\n",
       "</div>"
      ],
      "text/plain": [
       "   Variable Name  \\\n",
       "0          age_c   \n",
       "1       assess_c   \n",
       "2       cancer_c   \n",
       "3     compfilm_c   \n",
       "4      density_c   \n",
       "5        famhx_c   \n",
       "6          hrt_c   \n",
       "7       prvmam_c   \n",
       "8       biophx_c   \n",
       "9       mammtype   \n",
       "10       CaTypeO   \n",
       "11         bmi_c   \n",
       "12          ptid   \n",
       "\n",
       "                                                                    Description  \\\n",
       "0                                   patient's age in years at time of mammogram   \n",
       "1                           Radiologist's assessment based on the BI-RADS scale   \n",
       "2   binary indicator of cancer diagnosis within one year of screening mammogram   \n",
       "3             comparison mammogram from prior mammography examination available   \n",
       "4             patient's BI-RADS breast density as recorded at time of mammogram   \n",
       "5                    family history of breast cancer in a first degree relative   \n",
       "6                           current use of hormone therapy at time of mammogram   \n",
       "7     binary indicator of whether the woman had ever received a prior mammogram   \n",
       "8                                                      history of breast biopsy   \n",
       "9                                                     film or digital mammogram   \n",
       "10                                                                  cancer type   \n",
       "11                                         body mass index at time of mammogram   \n",
       "12                                                           patient's study id   \n",
       "\n",
       "                                                                                                coding  \n",
       "0                                                                                            Numerical  \n",
       "1   [0 = Needs additional imaging, 1 = Negative, 2 = Benign finding(s), 3 = Probably benign, 4 = Su...  \n",
       "2                                                      [0 = no cancer diagnosis, 1 = cancer diagnosis]  \n",
       "3                                                                       [0 = no, 1 = yes, 9 = missing]  \n",
       "4   [1 = Almost entirely fatty, 2 = Scattered fibroglandular densities, 3 = Heterogeneously dense, ...  \n",
       "5                                                                       [0 = no, 1 = yes, 9 = missing]  \n",
       "6                                                                       [0 = no, 1 = yes, 9 = missing]  \n",
       "7                                                                       [0 = no, 1 = yes, 9 = missing]  \n",
       "8                                                                       [0 = no, 1 = yes, 9 = missing]  \n",
       "9                                                          [1 = film mammogram, 2 = digital mammogram]  \n",
       "10                        [1 = ductal carcinoma in situ, 2 = invasive cancer, 8 = no cancer diagnosis]  \n",
       "11                                                                         Numerical or -99 if missing  \n",
       "12                                                                                                      "
      ]
     },
     "execution_count": 246,
     "metadata": {},
     "output_type": "execute_result"
    }
   ],
   "source": [
    "pd.set_option('display.max_rows', 1000)\n",
    "pd.set_option('display.max_columns', 1000)\n",
    "pd.set_option('max_colwidth', 99)\n",
    "\n",
    "var_table = [\n",
    "\n",
    "[\"age_c\",\"patient's age in years at time of mammogram\",\"Numerical\"],\n",
    "\n",
    "[\"assess_c\",\"Radiologist's assessment based on the BI-RADS scale\",[\"0 = Needs additional imaging\",\n",
    "\"1 = Negative\",\n",
    "\"2 = Benign finding(s)\",\n",
    "\"3 = Probably benign\",\n",
    "\"4 = Suspicious abnormality\",\n",
    "\"5 = Highly suggestive of malignancy\"]],\n",
    "\n",
    "[\"cancer_c\",\"binary indicator of cancer diagnosis within one year of screening mammogram\",[\"0 = no cancer diagnosis\",\n",
    "\"1 = cancer diagnosis\"]],\n",
    "\n",
    "[\"compfilm_c\",\"comparison mammogram from prior mammography examination available\",[\"0 = no\",\n",
    "\"1 = yes\",\n",
    "\"9 = missing\"]],\n",
    "    \n",
    "[\"density_c\",\"patient's BI-RADS breast density as recorded at time of mammogram\",[\"1 = Almost entirely fatty\",\n",
    "\"2 = Scattered fibroglandular densities\",\n",
    "\"3 = Heterogeneously dense\",\n",
    "\"4 = Extremely dense\"]],\n",
    "    \n",
    "[\"famhx_c\",\"family history of breast cancer in a first degree relative\",\n",
    "[\"0 = no\",\n",
    "\"1 = yes\",\n",
    "\"9 = missing\"]],\n",
    "    \n",
    "[\"hrt_c\",\"current use of hormone therapy at time of mammogram\", \n",
    "[\"0 = no\",\n",
    "\"1 = yes\",\n",
    "\"9 = missing\"]],\n",
    "    \n",
    "[\"prvmam_c\",\"binary indicator of whether the woman had ever received a prior mammogram\",\n",
    "[\"0 = no\",\n",
    "\"1 = yes\",\n",
    "\"9 = missing\"]],\n",
    "    \n",
    "[\"biophx_c\",\"history of breast biopsy\",\n",
    "[\"0 = no\",\n",
    "\"1 = yes\",\n",
    "\"9 = missing\"]],\n",
    "    \n",
    "[\"mammtype\",\"film or digital mammogram\",    \n",
    "[\"1 = film mammogram\",\n",
    "\"2 = digital mammogram\"]],\n",
    "    \n",
    "[\"CaTypeO\",\"cancer type\",\n",
    "[\"1 = ductal carcinoma in situ\",\n",
    "\"2 = invasive cancer\",\n",
    "\"8 = no cancer diagnosis\"]],\n",
    "    \n",
    "[\"bmi_c\",\"body mass index at time of mammogram\",\"Numerical or -99 if missing\"],\n",
    "    \n",
    "[\"ptid\",\"patient's study id\",\"\"]\n",
    " \n",
    "]\n",
    "\n",
    "tdf = pd.DataFrame(var_table,columns = [\"Variable Name\",\"Description\",\"coding\"])\n",
    "tdf"
   ]
  },
  {
   "cell_type": "code",
   "execution_count": 247,
   "metadata": {},
   "outputs": [
    {
     "data": {
      "text/html": [
       "<div>\n",
       "<style scoped>\n",
       "    .dataframe tbody tr th:only-of-type {\n",
       "        vertical-align: middle;\n",
       "    }\n",
       "\n",
       "    .dataframe tbody tr th {\n",
       "        vertical-align: top;\n",
       "    }\n",
       "\n",
       "    .dataframe thead th {\n",
       "        text-align: right;\n",
       "    }\n",
       "</style>\n",
       "<table border=\"1\" class=\"dataframe\">\n",
       "  <thead>\n",
       "    <tr style=\"text-align: right;\">\n",
       "      <th></th>\n",
       "      <th>age_c</th>\n",
       "      <th>assess_c</th>\n",
       "      <th>compfilm_c</th>\n",
       "      <th>density_c</th>\n",
       "      <th>famhx_c</th>\n",
       "      <th>hrt_c</th>\n",
       "      <th>prvmam_c</th>\n",
       "      <th>biophx_c</th>\n",
       "      <th>mammtype</th>\n",
       "      <th>CaTypeO</th>\n",
       "      <th>bmi_c</th>\n",
       "      <th>ptid</th>\n",
       "      <th>cancer_c</th>\n",
       "    </tr>\n",
       "  </thead>\n",
       "  <tbody>\n",
       "    <tr>\n",
       "      <th>0</th>\n",
       "      <td>62</td>\n",
       "      <td>1</td>\n",
       "      <td>1</td>\n",
       "      <td>2</td>\n",
       "      <td>0</td>\n",
       "      <td>0</td>\n",
       "      <td>1</td>\n",
       "      <td>0</td>\n",
       "      <td>1</td>\n",
       "      <td>8</td>\n",
       "      <td>24.023544</td>\n",
       "      <td>1</td>\n",
       "      <td>0</td>\n",
       "    </tr>\n",
       "    <tr>\n",
       "      <th>1</th>\n",
       "      <td>65</td>\n",
       "      <td>1</td>\n",
       "      <td>1</td>\n",
       "      <td>4</td>\n",
       "      <td>0</td>\n",
       "      <td>0</td>\n",
       "      <td>1</td>\n",
       "      <td>0</td>\n",
       "      <td>1</td>\n",
       "      <td>8</td>\n",
       "      <td>-99.000000</td>\n",
       "      <td>2</td>\n",
       "      <td>0</td>\n",
       "    </tr>\n",
       "    <tr>\n",
       "      <th>2</th>\n",
       "      <td>69</td>\n",
       "      <td>0</td>\n",
       "      <td>1</td>\n",
       "      <td>2</td>\n",
       "      <td>0</td>\n",
       "      <td>0</td>\n",
       "      <td>1</td>\n",
       "      <td>0</td>\n",
       "      <td>1</td>\n",
       "      <td>8</td>\n",
       "      <td>29.052429</td>\n",
       "      <td>3</td>\n",
       "      <td>0</td>\n",
       "    </tr>\n",
       "    <tr>\n",
       "      <th>3</th>\n",
       "      <td>64</td>\n",
       "      <td>2</td>\n",
       "      <td>1</td>\n",
       "      <td>2</td>\n",
       "      <td>0</td>\n",
       "      <td>0</td>\n",
       "      <td>1</td>\n",
       "      <td>0</td>\n",
       "      <td>1</td>\n",
       "      <td>8</td>\n",
       "      <td>-99.000000</td>\n",
       "      <td>4</td>\n",
       "      <td>0</td>\n",
       "    </tr>\n",
       "    <tr>\n",
       "      <th>4</th>\n",
       "      <td>63</td>\n",
       "      <td>3</td>\n",
       "      <td>1</td>\n",
       "      <td>2</td>\n",
       "      <td>0</td>\n",
       "      <td>0</td>\n",
       "      <td>1</td>\n",
       "      <td>1</td>\n",
       "      <td>1</td>\n",
       "      <td>8</td>\n",
       "      <td>33.729523</td>\n",
       "      <td>5</td>\n",
       "      <td>0</td>\n",
       "    </tr>\n",
       "  </tbody>\n",
       "</table>\n",
       "</div>"
      ],
      "text/plain": [
       "   age_c  assess_c  compfilm_c  density_c  famhx_c  hrt_c  prvmam_c  biophx_c  \\\n",
       "0     62         1           1          2        0      0         1         0   \n",
       "1     65         1           1          4        0      0         1         0   \n",
       "2     69         0           1          2        0      0         1         0   \n",
       "3     64         2           1          2        0      0         1         0   \n",
       "4     63         3           1          2        0      0         1         1   \n",
       "\n",
       "   mammtype  CaTypeO      bmi_c  ptid  cancer_c  \n",
       "0         1        8  24.023544     1         0  \n",
       "1         1        8 -99.000000     2         0  \n",
       "2         1        8  29.052429     3         0  \n",
       "3         1        8 -99.000000     4         0  \n",
       "4         1        8  33.729523     5         0  "
      ]
     },
     "execution_count": 247,
     "metadata": {},
     "output_type": "execute_result"
    }
   ],
   "source": [
    "#Import in the data\n",
    "df = pd.read_csv('dataset.csv')\n",
    "\n",
    "#Set the correct column names\n",
    "df = df[['age_c','assess_c','compfilm_c','density_c','famhx_c',\n",
    "         'hrt_c','prvmam_c','biophx_c','mammtype','CaTypeO','bmi_c',\n",
    "         'ptid','cancer_c',]]\n",
    "\n",
    "df.head()"
   ]
  },
  {
   "cell_type": "markdown",
   "metadata": {},
   "source": [
    "## Exploratory Data Analysis"
   ]
  },
  {
   "cell_type": "code",
   "execution_count": 248,
   "metadata": {},
   "outputs": [
    {
     "data": {
      "text/plain": [
       "(40000, 13)"
      ]
     },
     "execution_count": 248,
     "metadata": {},
     "output_type": "execute_result"
    }
   ],
   "source": [
    "#Find the shape of the dataset\n",
    "df.shape"
   ]
  },
  {
   "cell_type": "code",
   "execution_count": 249,
   "metadata": {},
   "outputs": [
    {
     "data": {
      "text/html": [
       "<div>\n",
       "<style scoped>\n",
       "    .dataframe tbody tr th:only-of-type {\n",
       "        vertical-align: middle;\n",
       "    }\n",
       "\n",
       "    .dataframe tbody tr th {\n",
       "        vertical-align: top;\n",
       "    }\n",
       "\n",
       "    .dataframe thead th {\n",
       "        text-align: right;\n",
       "    }\n",
       "</style>\n",
       "<table border=\"1\" class=\"dataframe\">\n",
       "  <thead>\n",
       "    <tr style=\"text-align: right;\">\n",
       "      <th></th>\n",
       "      <th>age_c</th>\n",
       "      <th>assess_c</th>\n",
       "      <th>compfilm_c</th>\n",
       "      <th>density_c</th>\n",
       "      <th>famhx_c</th>\n",
       "      <th>hrt_c</th>\n",
       "      <th>prvmam_c</th>\n",
       "      <th>biophx_c</th>\n",
       "      <th>mammtype</th>\n",
       "      <th>CaTypeO</th>\n",
       "      <th>bmi_c</th>\n",
       "      <th>ptid</th>\n",
       "      <th>cancer_c</th>\n",
       "    </tr>\n",
       "  </thead>\n",
       "  <tbody>\n",
       "    <tr>\n",
       "      <th>count</th>\n",
       "      <td>40000.000000</td>\n",
       "      <td>40000.000000</td>\n",
       "      <td>40000.000000</td>\n",
       "      <td>40000.000000</td>\n",
       "      <td>40000.000000</td>\n",
       "      <td>40000.000000</td>\n",
       "      <td>40000.000000</td>\n",
       "      <td>40000.000000</td>\n",
       "      <td>40000.000000</td>\n",
       "      <td>40000.000000</td>\n",
       "      <td>40000.000000</td>\n",
       "      <td>40000.000000</td>\n",
       "      <td>40000.000000</td>\n",
       "    </tr>\n",
       "    <tr>\n",
       "      <th>mean</th>\n",
       "      <td>69.555850</td>\n",
       "      <td>1.203450</td>\n",
       "      <td>1.903450</td>\n",
       "      <td>2.229725</td>\n",
       "      <td>0.219875</td>\n",
       "      <td>0.504925</td>\n",
       "      <td>1.108200</td>\n",
       "      <td>0.444675</td>\n",
       "      <td>1.500000</td>\n",
       "      <td>7.959750</td>\n",
       "      <td>-46.164809</td>\n",
       "      <td>18376.250225</td>\n",
       "      <td>0.006475</td>\n",
       "    </tr>\n",
       "    <tr>\n",
       "      <th>std</th>\n",
       "      <td>7.202974</td>\n",
       "      <td>0.575775</td>\n",
       "      <td>2.589304</td>\n",
       "      <td>0.716355</td>\n",
       "      <td>0.762853</td>\n",
       "      <td>1.854633</td>\n",
       "      <td>0.959435</td>\n",
       "      <td>1.309191</td>\n",
       "      <td>0.500006</td>\n",
       "      <td>0.499686</td>\n",
       "      <td>62.225752</td>\n",
       "      <td>10601.991024</td>\n",
       "      <td>0.080207</td>\n",
       "    </tr>\n",
       "    <tr>\n",
       "      <th>min</th>\n",
       "      <td>60.000000</td>\n",
       "      <td>0.000000</td>\n",
       "      <td>0.000000</td>\n",
       "      <td>1.000000</td>\n",
       "      <td>0.000000</td>\n",
       "      <td>0.000000</td>\n",
       "      <td>0.000000</td>\n",
       "      <td>0.000000</td>\n",
       "      <td>1.000000</td>\n",
       "      <td>1.000000</td>\n",
       "      <td>-99.000000</td>\n",
       "      <td>1.000000</td>\n",
       "      <td>0.000000</td>\n",
       "    </tr>\n",
       "    <tr>\n",
       "      <th>25%</th>\n",
       "      <td>63.000000</td>\n",
       "      <td>1.000000</td>\n",
       "      <td>1.000000</td>\n",
       "      <td>2.000000</td>\n",
       "      <td>0.000000</td>\n",
       "      <td>0.000000</td>\n",
       "      <td>1.000000</td>\n",
       "      <td>0.000000</td>\n",
       "      <td>1.000000</td>\n",
       "      <td>8.000000</td>\n",
       "      <td>-99.000000</td>\n",
       "      <td>9202.750000</td>\n",
       "      <td>0.000000</td>\n",
       "    </tr>\n",
       "    <tr>\n",
       "      <th>50%</th>\n",
       "      <td>68.000000</td>\n",
       "      <td>1.000000</td>\n",
       "      <td>1.000000</td>\n",
       "      <td>2.000000</td>\n",
       "      <td>0.000000</td>\n",
       "      <td>0.000000</td>\n",
       "      <td>1.000000</td>\n",
       "      <td>0.000000</td>\n",
       "      <td>1.500000</td>\n",
       "      <td>8.000000</td>\n",
       "      <td>-99.000000</td>\n",
       "      <td>18392.500000</td>\n",
       "      <td>0.000000</td>\n",
       "    </tr>\n",
       "    <tr>\n",
       "      <th>75%</th>\n",
       "      <td>75.000000</td>\n",
       "      <td>2.000000</td>\n",
       "      <td>1.000000</td>\n",
       "      <td>3.000000</td>\n",
       "      <td>0.000000</td>\n",
       "      <td>0.000000</td>\n",
       "      <td>1.000000</td>\n",
       "      <td>1.000000</td>\n",
       "      <td>2.000000</td>\n",
       "      <td>8.000000</td>\n",
       "      <td>24.691544</td>\n",
       "      <td>27562.250000</td>\n",
       "      <td>0.000000</td>\n",
       "    </tr>\n",
       "    <tr>\n",
       "      <th>max</th>\n",
       "      <td>89.000000</td>\n",
       "      <td>5.000000</td>\n",
       "      <td>9.000000</td>\n",
       "      <td>4.000000</td>\n",
       "      <td>9.000000</td>\n",
       "      <td>9.000000</td>\n",
       "      <td>9.000000</td>\n",
       "      <td>9.000000</td>\n",
       "      <td>2.000000</td>\n",
       "      <td>8.000000</td>\n",
       "      <td>71.721314</td>\n",
       "      <td>36714.000000</td>\n",
       "      <td>1.000000</td>\n",
       "    </tr>\n",
       "  </tbody>\n",
       "</table>\n",
       "</div>"
      ],
      "text/plain": [
       "              age_c      assess_c    compfilm_c     density_c       famhx_c  \\\n",
       "count  40000.000000  40000.000000  40000.000000  40000.000000  40000.000000   \n",
       "mean      69.555850      1.203450      1.903450      2.229725      0.219875   \n",
       "std        7.202974      0.575775      2.589304      0.716355      0.762853   \n",
       "min       60.000000      0.000000      0.000000      1.000000      0.000000   \n",
       "25%       63.000000      1.000000      1.000000      2.000000      0.000000   \n",
       "50%       68.000000      1.000000      1.000000      2.000000      0.000000   \n",
       "75%       75.000000      2.000000      1.000000      3.000000      0.000000   \n",
       "max       89.000000      5.000000      9.000000      4.000000      9.000000   \n",
       "\n",
       "              hrt_c      prvmam_c      biophx_c      mammtype       CaTypeO  \\\n",
       "count  40000.000000  40000.000000  40000.000000  40000.000000  40000.000000   \n",
       "mean       0.504925      1.108200      0.444675      1.500000      7.959750   \n",
       "std        1.854633      0.959435      1.309191      0.500006      0.499686   \n",
       "min        0.000000      0.000000      0.000000      1.000000      1.000000   \n",
       "25%        0.000000      1.000000      0.000000      1.000000      8.000000   \n",
       "50%        0.000000      1.000000      0.000000      1.500000      8.000000   \n",
       "75%        0.000000      1.000000      1.000000      2.000000      8.000000   \n",
       "max        9.000000      9.000000      9.000000      2.000000      8.000000   \n",
       "\n",
       "              bmi_c          ptid      cancer_c  \n",
       "count  40000.000000  40000.000000  40000.000000  \n",
       "mean     -46.164809  18376.250225      0.006475  \n",
       "std       62.225752  10601.991024      0.080207  \n",
       "min      -99.000000      1.000000      0.000000  \n",
       "25%      -99.000000   9202.750000      0.000000  \n",
       "50%      -99.000000  18392.500000      0.000000  \n",
       "75%       24.691544  27562.250000      0.000000  \n",
       "max       71.721314  36714.000000      1.000000  "
      ]
     },
     "execution_count": 249,
     "metadata": {},
     "output_type": "execute_result"
    }
   ],
   "source": [
    "#Check dataframe\n",
    "df.describe()"
   ]
  },
  {
   "cell_type": "code",
   "execution_count": 250,
   "metadata": {},
   "outputs": [
    {
     "name": "stdout",
     "output_type": "stream",
     "text": [
      "<class 'pandas.core.frame.DataFrame'>\n",
      "RangeIndex: 40000 entries, 0 to 39999\n",
      "Data columns (total 13 columns):\n",
      " #   Column      Non-Null Count  Dtype  \n",
      "---  ------      --------------  -----  \n",
      " 0   age_c       40000 non-null  int64  \n",
      " 1   assess_c    40000 non-null  int64  \n",
      " 2   compfilm_c  40000 non-null  int64  \n",
      " 3   density_c   40000 non-null  int64  \n",
      " 4   famhx_c     40000 non-null  int64  \n",
      " 5   hrt_c       40000 non-null  int64  \n",
      " 6   prvmam_c    40000 non-null  int64  \n",
      " 7   biophx_c    40000 non-null  int64  \n",
      " 8   mammtype    40000 non-null  int64  \n",
      " 9   CaTypeO     40000 non-null  int64  \n",
      " 10  bmi_c       40000 non-null  float64\n",
      " 11  ptid        40000 non-null  int64  \n",
      " 12  cancer_c    40000 non-null  int64  \n",
      "dtypes: float64(1), int64(12)\n",
      "memory usage: 4.0 MB\n"
     ]
    }
   ],
   "source": [
    "#There are no missing entries\n",
    "df.info()"
   ]
  },
  {
   "cell_type": "code",
   "execution_count": 251,
   "metadata": {},
   "outputs": [
    {
     "data": {
      "text/plain": [
       "0    39741\n",
       "1      259\n",
       "Name: cancer_c, dtype: int64"
      ]
     },
     "execution_count": 251,
     "metadata": {},
     "output_type": "execute_result"
    }
   ],
   "source": [
    "#Check how many positives and negatives in the dataset\n",
    "df['cancer_c'].value_counts()"
   ]
  },
  {
   "cell_type": "code",
   "execution_count": 252,
   "metadata": {},
   "outputs": [
    {
     "data": {
      "text/plain": [
       "<matplotlib.axes._subplots.AxesSubplot at 0x229a576bfc8>"
      ]
     },
     "execution_count": 252,
     "metadata": {},
     "output_type": "execute_result"
    },
    {
     "data": {
      "image/png": "[encoded data removed]",
      "text/plain": [
       "<Figure size 864x720 with 2 Axes>"
      ]
     },
     "metadata": {
      "needs_background": "light"
     },
     "output_type": "display_data"
    }
   ],
   "source": [
    "#Lets take a look at how each variable correlated with each other\n",
    "Var_Corr = df.corr()\n",
    "#plot the heatmap and annotate it\n",
    "sns.heatmap(Var_Corr, xticklabels=Var_Corr.columns, yticklabels=Var_Corr.columns, annot=True, cmap='coolwarm')"
   ]
  },
  {
   "cell_type": "markdown",
   "metadata": {},
   "source": [
    "## Data Processing"
   ]
  },
  {
   "cell_type": "markdown",
   "metadata": {},
   "source": [
    "To prevent any variable from gaining too much inflience in the overall prediction, I am going to normalize all the variables in the dataset. "
   ]
  },
  {
   "cell_type": "code",
   "execution_count": 253,
   "metadata": {},
   "outputs": [
    {
     "data": {
      "text/html": [
       "<div>\n",
       "<style scoped>\n",
       "    .dataframe tbody tr th:only-of-type {\n",
       "        vertical-align: middle;\n",
       "    }\n",
       "\n",
       "    .dataframe tbody tr th {\n",
       "        vertical-align: top;\n",
       "    }\n",
       "\n",
       "    .dataframe thead th {\n",
       "        text-align: right;\n",
       "    }\n",
       "</style>\n",
       "<table border=\"1\" class=\"dataframe\">\n",
       "  <thead>\n",
       "    <tr style=\"text-align: right;\">\n",
       "      <th></th>\n",
       "      <th>age_c</th>\n",
       "      <th>assess_c</th>\n",
       "      <th>compfilm_c</th>\n",
       "      <th>density_c</th>\n",
       "      <th>famhx_c</th>\n",
       "      <th>hrt_c</th>\n",
       "      <th>prvmam_c</th>\n",
       "      <th>biophx_c</th>\n",
       "      <th>mammtype</th>\n",
       "      <th>CaTypeO</th>\n",
       "      <th>bmi_c</th>\n",
       "      <th>ptid</th>\n",
       "      <th>cancer_c</th>\n",
       "    </tr>\n",
       "  </thead>\n",
       "  <tbody>\n",
       "    <tr>\n",
       "      <th>0</th>\n",
       "      <td>-1.048990</td>\n",
       "      <td>-0.353350</td>\n",
       "      <td>-0.348916</td>\n",
       "      <td>-0.320686</td>\n",
       "      <td>-0.288227</td>\n",
       "      <td>-0.272251</td>\n",
       "      <td>-0.112775</td>\n",
       "      <td>-0.339656</td>\n",
       "      <td>-0.999987</td>\n",
       "      <td>0.080551</td>\n",
       "      <td>1.127963</td>\n",
       "      <td>-1.733189</td>\n",
       "      <td>-0.080728</td>\n",
       "    </tr>\n",
       "    <tr>\n",
       "      <th>1</th>\n",
       "      <td>-0.632496</td>\n",
       "      <td>-0.353350</td>\n",
       "      <td>-0.348916</td>\n",
       "      <td>2.471226</td>\n",
       "      <td>-0.288227</td>\n",
       "      <td>-0.272251</td>\n",
       "      <td>-0.112775</td>\n",
       "      <td>-0.339656</td>\n",
       "      <td>-0.999987</td>\n",
       "      <td>0.080551</td>\n",
       "      <td>-0.849089</td>\n",
       "      <td>-1.733094</td>\n",
       "      <td>-0.080728</td>\n",
       "    </tr>\n",
       "    <tr>\n",
       "      <th>2</th>\n",
       "      <td>-0.077170</td>\n",
       "      <td>-2.090141</td>\n",
       "      <td>-0.348916</td>\n",
       "      <td>-0.320686</td>\n",
       "      <td>-0.288227</td>\n",
       "      <td>-0.272251</td>\n",
       "      <td>-0.112775</td>\n",
       "      <td>-0.339656</td>\n",
       "      <td>-0.999987</td>\n",
       "      <td>0.080551</td>\n",
       "      <td>1.208780</td>\n",
       "      <td>-1.733000</td>\n",
       "      <td>-0.080728</td>\n",
       "    </tr>\n",
       "    <tr>\n",
       "      <th>3</th>\n",
       "      <td>-0.771327</td>\n",
       "      <td>1.383441</td>\n",
       "      <td>-0.348916</td>\n",
       "      <td>-0.320686</td>\n",
       "      <td>-0.288227</td>\n",
       "      <td>-0.272251</td>\n",
       "      <td>-0.112775</td>\n",
       "      <td>-0.339656</td>\n",
       "      <td>-0.999987</td>\n",
       "      <td>0.080551</td>\n",
       "      <td>-0.849089</td>\n",
       "      <td>-1.732906</td>\n",
       "      <td>-0.080728</td>\n",
       "    </tr>\n",
       "    <tr>\n",
       "      <th>4</th>\n",
       "      <td>-0.910159</td>\n",
       "      <td>3.120231</td>\n",
       "      <td>-0.348916</td>\n",
       "      <td>-0.320686</td>\n",
       "      <td>-0.288227</td>\n",
       "      <td>-0.272251</td>\n",
       "      <td>-0.112775</td>\n",
       "      <td>0.424174</td>\n",
       "      <td>-0.999987</td>\n",
       "      <td>0.080551</td>\n",
       "      <td>1.283943</td>\n",
       "      <td>-1.732811</td>\n",
       "      <td>-0.080728</td>\n",
       "    </tr>\n",
       "  </tbody>\n",
       "</table>\n",
       "</div>"
      ],
      "text/plain": [
       "      age_c  assess_c  compfilm_c  density_c   famhx_c     hrt_c  prvmam_c  \\\n",
       "0 -1.048990 -0.353350   -0.348916  -0.320686 -0.288227 -0.272251 -0.112775   \n",
       "1 -0.632496 -0.353350   -0.348916   2.471226 -0.288227 -0.272251 -0.112775   \n",
       "2 -0.077170 -2.090141   -0.348916  -0.320686 -0.288227 -0.272251 -0.112775   \n",
       "3 -0.771327  1.383441   -0.348916  -0.320686 -0.288227 -0.272251 -0.112775   \n",
       "4 -0.910159  3.120231   -0.348916  -0.320686 -0.288227 -0.272251 -0.112775   \n",
       "\n",
       "   biophx_c  mammtype   CaTypeO     bmi_c      ptid  cancer_c  \n",
       "0 -0.339656 -0.999987  0.080551  1.127963 -1.733189 -0.080728  \n",
       "1 -0.339656 -0.999987  0.080551 -0.849089 -1.733094 -0.080728  \n",
       "2 -0.339656 -0.999987  0.080551  1.208780 -1.733000 -0.080728  \n",
       "3 -0.339656 -0.999987  0.080551 -0.849089 -1.732906 -0.080728  \n",
       "4  0.424174 -0.999987  0.080551  1.283943 -1.732811 -0.080728  "
      ]
     },
     "execution_count": 253,
     "metadata": {},
     "output_type": "execute_result"
    }
   ],
   "source": [
    "normalized_df=(df-df.mean())/df.std()\n",
    "ndf = normalized_df\n",
    "#Print out dataframe to check output\n",
    "ndf.head()"
   ]
  },
  {
   "cell_type": "code",
   "execution_count": 254,
   "metadata": {},
   "outputs": [
    {
     "data": {
      "text/plain": [
       "(40000, 13)"
      ]
     },
     "execution_count": 254,
     "metadata": {},
     "output_type": "execute_result"
    }
   ],
   "source": [
    "#Check dataframe shape\n",
    "ndf.shape"
   ]
  },
  {
   "cell_type": "code",
   "execution_count": 255,
   "metadata": {},
   "outputs": [
    {
     "data": {
      "text/html": [
       "<div>\n",
       "<style scoped>\n",
       "    .dataframe tbody tr th:only-of-type {\n",
       "        vertical-align: middle;\n",
       "    }\n",
       "\n",
       "    .dataframe tbody tr th {\n",
       "        vertical-align: top;\n",
       "    }\n",
       "\n",
       "    .dataframe thead th {\n",
       "        text-align: right;\n",
       "    }\n",
       "</style>\n",
       "<table border=\"1\" class=\"dataframe\">\n",
       "  <thead>\n",
       "    <tr style=\"text-align: right;\">\n",
       "      <th></th>\n",
       "      <th>age_c</th>\n",
       "      <th>assess_c</th>\n",
       "      <th>compfilm_c</th>\n",
       "      <th>density_c</th>\n",
       "      <th>famhx_c</th>\n",
       "      <th>hrt_c</th>\n",
       "      <th>prvmam_c</th>\n",
       "      <th>biophx_c</th>\n",
       "      <th>mammtype</th>\n",
       "      <th>CaTypeO</th>\n",
       "      <th>bmi_c</th>\n",
       "      <th>ptid</th>\n",
       "      <th>cancer_c</th>\n",
       "    </tr>\n",
       "  </thead>\n",
       "  <tbody>\n",
       "    <tr>\n",
       "      <th>count</th>\n",
       "      <td>4.000000e+04</td>\n",
       "      <td>4.000000e+04</td>\n",
       "      <td>4.000000e+04</td>\n",
       "      <td>4.000000e+04</td>\n",
       "      <td>4.000000e+04</td>\n",
       "      <td>4.000000e+04</td>\n",
       "      <td>4.000000e+04</td>\n",
       "      <td>4.000000e+04</td>\n",
       "      <td>4.000000e+04</td>\n",
       "      <td>4.000000e+04</td>\n",
       "      <td>4.000000e+04</td>\n",
       "      <td>4.000000e+04</td>\n",
       "      <td>4.000000e+04</td>\n",
       "    </tr>\n",
       "    <tr>\n",
       "      <th>mean</th>\n",
       "      <td>-6.730394e-16</td>\n",
       "      <td>7.451345e-16</td>\n",
       "      <td>-3.626238e-16</td>\n",
       "      <td>-7.276069e-16</td>\n",
       "      <td>2.246622e-15</td>\n",
       "      <td>-2.484266e-15</td>\n",
       "      <td>7.357046e-16</td>\n",
       "      <td>2.690459e-16</td>\n",
       "      <td>6.106227e-19</td>\n",
       "      <td>8.437563e-16</td>\n",
       "      <td>-2.021981e-14</td>\n",
       "      <td>7.104928e-16</td>\n",
       "      <td>6.411927e-16</td>\n",
       "    </tr>\n",
       "    <tr>\n",
       "      <th>std</th>\n",
       "      <td>1.000000e+00</td>\n",
       "      <td>1.000000e+00</td>\n",
       "      <td>1.000000e+00</td>\n",
       "      <td>1.000000e+00</td>\n",
       "      <td>1.000000e+00</td>\n",
       "      <td>1.000000e+00</td>\n",
       "      <td>1.000000e+00</td>\n",
       "      <td>1.000000e+00</td>\n",
       "      <td>1.000000e+00</td>\n",
       "      <td>1.000000e+00</td>\n",
       "      <td>1.000000e+00</td>\n",
       "      <td>1.000000e+00</td>\n",
       "      <td>1.000000e+00</td>\n",
       "    </tr>\n",
       "    <tr>\n",
       "      <th>min</th>\n",
       "      <td>-1.326653e+00</td>\n",
       "      <td>-2.090141e+00</td>\n",
       "      <td>-7.351203e-01</td>\n",
       "      <td>-1.716642e+00</td>\n",
       "      <td>-2.882273e-01</td>\n",
       "      <td>-2.722507e-01</td>\n",
       "      <td>-1.155055e+00</td>\n",
       "      <td>-3.396562e-01</td>\n",
       "      <td>-9.999875e-01</td>\n",
       "      <td>-1.392824e+01</td>\n",
       "      <td>-8.490888e-01</td>\n",
       "      <td>-1.733189e+00</td>\n",
       "      <td>-8.072816e-02</td>\n",
       "    </tr>\n",
       "    <tr>\n",
       "      <th>25%</th>\n",
       "      <td>-9.101588e-01</td>\n",
       "      <td>-3.533501e-01</td>\n",
       "      <td>-3.489161e-01</td>\n",
       "      <td>-3.206860e-01</td>\n",
       "      <td>-2.882273e-01</td>\n",
       "      <td>-2.722507e-01</td>\n",
       "      <td>-1.127747e-01</td>\n",
       "      <td>-3.396562e-01</td>\n",
       "      <td>-9.999875e-01</td>\n",
       "      <td>8.055057e-02</td>\n",
       "      <td>-8.490888e-01</td>\n",
       "      <td>-8.652620e-01</td>\n",
       "      <td>-8.072816e-02</td>\n",
       "    </tr>\n",
       "    <tr>\n",
       "      <th>50%</th>\n",
       "      <td>-2.160011e-01</td>\n",
       "      <td>-3.533501e-01</td>\n",
       "      <td>-3.489161e-01</td>\n",
       "      <td>-3.206860e-01</td>\n",
       "      <td>-2.882273e-01</td>\n",
       "      <td>-2.722507e-01</td>\n",
       "      <td>-1.127747e-01</td>\n",
       "      <td>-3.396562e-01</td>\n",
       "      <td>0.000000e+00</td>\n",
       "      <td>8.055057e-02</td>\n",
       "      <td>-8.490888e-01</td>\n",
       "      <td>1.532710e-03</td>\n",
       "      <td>-8.072816e-02</td>\n",
       "    </tr>\n",
       "    <tr>\n",
       "      <th>75%</th>\n",
       "      <td>7.558198e-01</td>\n",
       "      <td>1.383441e+00</td>\n",
       "      <td>-3.489161e-01</td>\n",
       "      <td>1.075270e+00</td>\n",
       "      <td>-2.882273e-01</td>\n",
       "      <td>-2.722507e-01</td>\n",
       "      <td>-1.127747e-01</td>\n",
       "      <td>4.241741e-01</td>\n",
       "      <td>9.999875e-01</td>\n",
       "      <td>8.055057e-02</td>\n",
       "      <td>1.138698e+00</td>\n",
       "      <td>8.664410e-01</td>\n",
       "      <td>-8.072816e-02</td>\n",
       "    </tr>\n",
       "    <tr>\n",
       "      <th>max</th>\n",
       "      <td>2.699462e+00</td>\n",
       "      <td>6.593813e+00</td>\n",
       "      <td>2.740717e+00</td>\n",
       "      <td>2.471226e+00</td>\n",
       "      <td>1.150959e+01</td>\n",
       "      <td>4.580463e+00</td>\n",
       "      <td>8.225465e+00</td>\n",
       "      <td>6.534816e+00</td>\n",
       "      <td>9.999875e-01</td>\n",
       "      <td>8.055057e-02</td>\n",
       "      <td>1.894491e+00</td>\n",
       "      <td>1.729652e+00</td>\n",
       "      <td>1.238694e+01</td>\n",
       "    </tr>\n",
       "  </tbody>\n",
       "</table>\n",
       "</div>"
      ],
      "text/plain": [
       "              age_c      assess_c    compfilm_c     density_c       famhx_c  \\\n",
       "count  4.000000e+04  4.000000e+04  4.000000e+04  4.000000e+04  4.000000e+04   \n",
       "mean  -6.730394e-16  7.451345e-16 -3.626238e-16 -7.276069e-16  2.246622e-15   \n",
       "std    1.000000e+00  1.000000e+00  1.000000e+00  1.000000e+00  1.000000e+00   \n",
       "min   -1.326653e+00 -2.090141e+00 -7.351203e-01 -1.716642e+00 -2.882273e-01   \n",
       "25%   -9.101588e-01 -3.533501e-01 -3.489161e-01 -3.206860e-01 -2.882273e-01   \n",
       "50%   -2.160011e-01 -3.533501e-01 -3.489161e-01 -3.206860e-01 -2.882273e-01   \n",
       "75%    7.558198e-01  1.383441e+00 -3.489161e-01  1.075270e+00 -2.882273e-01   \n",
       "max    2.699462e+00  6.593813e+00  2.740717e+00  2.471226e+00  1.150959e+01   \n",
       "\n",
       "              hrt_c      prvmam_c      biophx_c      mammtype       CaTypeO  \\\n",
       "count  4.000000e+04  4.000000e+04  4.000000e+04  4.000000e+04  4.000000e+04   \n",
       "mean  -2.484266e-15  7.357046e-16  2.690459e-16  6.106227e-19  8.437563e-16   \n",
       "std    1.000000e+00  1.000000e+00  1.000000e+00  1.000000e+00  1.000000e+00   \n",
       "min   -2.722507e-01 -1.155055e+00 -3.396562e-01 -9.999875e-01 -1.392824e+01   \n",
       "25%   -2.722507e-01 -1.127747e-01 -3.396562e-01 -9.999875e-01  8.055057e-02   \n",
       "50%   -2.722507e-01 -1.127747e-01 -3.396562e-01  0.000000e+00  8.055057e-02   \n",
       "75%   -2.722507e-01 -1.127747e-01  4.241741e-01  9.999875e-01  8.055057e-02   \n",
       "max    4.580463e+00  8.225465e+00  6.534816e+00  9.999875e-01  8.055057e-02   \n",
       "\n",
       "              bmi_c          ptid      cancer_c  \n",
       "count  4.000000e+04  4.000000e+04  4.000000e+04  \n",
       "mean  -2.021981e-14  7.104928e-16  6.411927e-16  \n",
       "std    1.000000e+00  1.000000e+00  1.000000e+00  \n",
       "min   -8.490888e-01 -1.733189e+00 -8.072816e-02  \n",
       "25%   -8.490888e-01 -8.652620e-01 -8.072816e-02  \n",
       "50%   -8.490888e-01  1.532710e-03 -8.072816e-02  \n",
       "75%    1.138698e+00  8.664410e-01 -8.072816e-02  \n",
       "max    1.894491e+00  1.729652e+00  1.238694e+01  "
      ]
     },
     "execution_count": 255,
     "metadata": {},
     "output_type": "execute_result"
    }
   ],
   "source": [
    "#Check dataframe\n",
    "ndf.describe()"
   ]
  },
  {
   "cell_type": "code",
   "execution_count": 256,
   "metadata": {},
   "outputs": [
    {
     "name": "stdout",
     "output_type": "stream",
     "text": [
      "<class 'pandas.core.frame.DataFrame'>\n",
      "RangeIndex: 40000 entries, 0 to 39999\n",
      "Data columns (total 13 columns):\n",
      " #   Column      Non-Null Count  Dtype  \n",
      "---  ------      --------------  -----  \n",
      " 0   age_c       40000 non-null  float64\n",
      " 1   assess_c    40000 non-null  float64\n",
      " 2   compfilm_c  40000 non-null  float64\n",
      " 3   density_c   40000 non-null  float64\n",
      " 4   famhx_c     40000 non-null  float64\n",
      " 5   hrt_c       40000 non-null  float64\n",
      " 6   prvmam_c    40000 non-null  float64\n",
      " 7   biophx_c    40000 non-null  float64\n",
      " 8   mammtype    40000 non-null  float64\n",
      " 9   CaTypeO     40000 non-null  float64\n",
      " 10  bmi_c       40000 non-null  float64\n",
      " 11  ptid        40000 non-null  float64\n",
      " 12  cancer_c    40000 non-null  float64\n",
      "dtypes: float64(13)\n",
      "memory usage: 4.0 MB\n"
     ]
    }
   ],
   "source": [
    "#check for missing entries\n",
    "ndf.info()"
   ]
  },
  {
   "cell_type": "code",
   "execution_count": 257,
   "metadata": {},
   "outputs": [],
   "source": [
    "#Change column name 'cancer_c' to 'cancer' for easier excution\n",
    "ndf['cancer'] = df['cancer_c']\n",
    "ndf = ndf.drop(columns = ['cancer_c'])"
   ]
  },
  {
   "cell_type": "code",
   "execution_count": 258,
   "metadata": {},
   "outputs": [
    {
     "data": {
      "text/plain": [
       "0    39741\n",
       "1      259\n",
       "Name: cancer, dtype: int64"
      ]
     },
     "execution_count": 258,
     "metadata": {},
     "output_type": "execute_result"
    }
   ],
   "source": [
    "#Check number of positives and negatives again\n",
    "ndf.cancer.value_counts()"
   ]
  },
  {
   "cell_type": "code",
   "execution_count": 259,
   "metadata": {},
   "outputs": [
    {
     "data": {
      "text/html": [
       "<div>\n",
       "<style scoped>\n",
       "    .dataframe tbody tr th:only-of-type {\n",
       "        vertical-align: middle;\n",
       "    }\n",
       "\n",
       "    .dataframe tbody tr th {\n",
       "        vertical-align: top;\n",
       "    }\n",
       "\n",
       "    .dataframe thead th {\n",
       "        text-align: right;\n",
       "    }\n",
       "</style>\n",
       "<table border=\"1\" class=\"dataframe\">\n",
       "  <thead>\n",
       "    <tr style=\"text-align: right;\">\n",
       "      <th></th>\n",
       "      <th>age_c</th>\n",
       "      <th>assess_c</th>\n",
       "      <th>compfilm_c</th>\n",
       "      <th>density_c</th>\n",
       "      <th>famhx_c</th>\n",
       "      <th>hrt_c</th>\n",
       "      <th>prvmam_c</th>\n",
       "      <th>biophx_c</th>\n",
       "      <th>mammtype</th>\n",
       "      <th>CaTypeO</th>\n",
       "      <th>bmi_c</th>\n",
       "      <th>ptid</th>\n",
       "      <th>cancer</th>\n",
       "    </tr>\n",
       "  </thead>\n",
       "  <tbody>\n",
       "    <tr>\n",
       "      <th>0</th>\n",
       "      <td>2.144135</td>\n",
       "      <td>-0.353350</td>\n",
       "      <td>-0.348916</td>\n",
       "      <td>1.075270</td>\n",
       "      <td>-0.288227</td>\n",
       "      <td>-0.272251</td>\n",
       "      <td>-0.112775</td>\n",
       "      <td>-0.339656</td>\n",
       "      <td>0.999987</td>\n",
       "      <td>0.080551</td>\n",
       "      <td>-0.849089</td>\n",
       "      <td>0.514125</td>\n",
       "      <td>0</td>\n",
       "    </tr>\n",
       "    <tr>\n",
       "      <th>1</th>\n",
       "      <td>-0.910159</td>\n",
       "      <td>-0.353350</td>\n",
       "      <td>-0.348916</td>\n",
       "      <td>-0.320686</td>\n",
       "      <td>-0.288227</td>\n",
       "      <td>-0.272251</td>\n",
       "      <td>-0.112775</td>\n",
       "      <td>-0.339656</td>\n",
       "      <td>-0.999987</td>\n",
       "      <td>0.080551</td>\n",
       "      <td>-0.849089</td>\n",
       "      <td>1.562419</td>\n",
       "      <td>0</td>\n",
       "    </tr>\n",
       "    <tr>\n",
       "      <th>2</th>\n",
       "      <td>-0.493664</td>\n",
       "      <td>-0.353350</td>\n",
       "      <td>-0.348916</td>\n",
       "      <td>2.471226</td>\n",
       "      <td>1.022641</td>\n",
       "      <td>-0.272251</td>\n",
       "      <td>-0.112775</td>\n",
       "      <td>-0.339656</td>\n",
       "      <td>-0.999987</td>\n",
       "      <td>0.080551</td>\n",
       "      <td>-0.849089</td>\n",
       "      <td>-1.631132</td>\n",
       "      <td>0</td>\n",
       "    </tr>\n",
       "    <tr>\n",
       "      <th>3</th>\n",
       "      <td>1.172314</td>\n",
       "      <td>-0.353350</td>\n",
       "      <td>-0.348916</td>\n",
       "      <td>1.075270</td>\n",
       "      <td>-0.288227</td>\n",
       "      <td>0.266940</td>\n",
       "      <td>-0.112775</td>\n",
       "      <td>-0.339656</td>\n",
       "      <td>-0.999987</td>\n",
       "      <td>0.080551</td>\n",
       "      <td>-0.849089</td>\n",
       "      <td>-0.306004</td>\n",
       "      <td>0</td>\n",
       "    </tr>\n",
       "    <tr>\n",
       "      <th>4</th>\n",
       "      <td>-0.632496</td>\n",
       "      <td>-2.090141</td>\n",
       "      <td>-0.348916</td>\n",
       "      <td>-0.320686</td>\n",
       "      <td>-0.288227</td>\n",
       "      <td>-0.272251</td>\n",
       "      <td>-0.112775</td>\n",
       "      <td>-0.339656</td>\n",
       "      <td>-0.999987</td>\n",
       "      <td>0.080551</td>\n",
       "      <td>-0.849089</td>\n",
       "      <td>-0.889762</td>\n",
       "      <td>0</td>\n",
       "    </tr>\n",
       "    <tr>\n",
       "      <th>...</th>\n",
       "      <td>...</td>\n",
       "      <td>...</td>\n",
       "      <td>...</td>\n",
       "      <td>...</td>\n",
       "      <td>...</td>\n",
       "      <td>...</td>\n",
       "      <td>...</td>\n",
       "      <td>...</td>\n",
       "      <td>...</td>\n",
       "      <td>...</td>\n",
       "      <td>...</td>\n",
       "      <td>...</td>\n",
       "      <td>...</td>\n",
       "    </tr>\n",
       "    <tr>\n",
       "      <th>39995</th>\n",
       "      <td>-0.632496</td>\n",
       "      <td>1.383441</td>\n",
       "      <td>2.740717</td>\n",
       "      <td>-1.716642</td>\n",
       "      <td>-0.288227</td>\n",
       "      <td>-0.272251</td>\n",
       "      <td>-0.112775</td>\n",
       "      <td>-0.339656</td>\n",
       "      <td>0.999987</td>\n",
       "      <td>0.080551</td>\n",
       "      <td>-0.849089</td>\n",
       "      <td>-1.616795</td>\n",
       "      <td>0</td>\n",
       "    </tr>\n",
       "    <tr>\n",
       "      <th>39996</th>\n",
       "      <td>-1.326653</td>\n",
       "      <td>-0.353350</td>\n",
       "      <td>-0.348916</td>\n",
       "      <td>-0.320686</td>\n",
       "      <td>-0.288227</td>\n",
       "      <td>-0.272251</td>\n",
       "      <td>-0.112775</td>\n",
       "      <td>-0.339656</td>\n",
       "      <td>0.999987</td>\n",
       "      <td>0.080551</td>\n",
       "      <td>1.285663</td>\n",
       "      <td>-0.408060</td>\n",
       "      <td>0</td>\n",
       "    </tr>\n",
       "    <tr>\n",
       "      <th>39997</th>\n",
       "      <td>1.033483</td>\n",
       "      <td>1.383441</td>\n",
       "      <td>-0.348916</td>\n",
       "      <td>1.075270</td>\n",
       "      <td>-0.288227</td>\n",
       "      <td>-0.272251</td>\n",
       "      <td>-0.112775</td>\n",
       "      <td>0.424174</td>\n",
       "      <td>-0.999987</td>\n",
       "      <td>0.080551</td>\n",
       "      <td>-0.849089</td>\n",
       "      <td>-0.177632</td>\n",
       "      <td>0</td>\n",
       "    </tr>\n",
       "    <tr>\n",
       "      <th>39998</th>\n",
       "      <td>1.311146</td>\n",
       "      <td>-0.353350</td>\n",
       "      <td>2.740717</td>\n",
       "      <td>1.075270</td>\n",
       "      <td>-0.288227</td>\n",
       "      <td>-0.272251</td>\n",
       "      <td>-0.112775</td>\n",
       "      <td>-0.339656</td>\n",
       "      <td>-0.999987</td>\n",
       "      <td>0.080551</td>\n",
       "      <td>-0.849089</td>\n",
       "      <td>-0.242148</td>\n",
       "      <td>0</td>\n",
       "    </tr>\n",
       "    <tr>\n",
       "      <th>39999</th>\n",
       "      <td>-1.048990</td>\n",
       "      <td>-0.353350</td>\n",
       "      <td>-0.348916</td>\n",
       "      <td>-0.320686</td>\n",
       "      <td>-0.288227</td>\n",
       "      <td>-0.272251</td>\n",
       "      <td>-0.112775</td>\n",
       "      <td>0.424174</td>\n",
       "      <td>0.999987</td>\n",
       "      <td>0.080551</td>\n",
       "      <td>1.224624</td>\n",
       "      <td>-0.121793</td>\n",
       "      <td>0</td>\n",
       "    </tr>\n",
       "  </tbody>\n",
       "</table>\n",
       "<p>40000 rows × 13 columns</p>\n",
       "</div>"
      ],
      "text/plain": [
       "          age_c  assess_c  compfilm_c  density_c   famhx_c     hrt_c  \\\n",
       "0      2.144135 -0.353350   -0.348916   1.075270 -0.288227 -0.272251   \n",
       "1     -0.910159 -0.353350   -0.348916  -0.320686 -0.288227 -0.272251   \n",
       "2     -0.493664 -0.353350   -0.348916   2.471226  1.022641 -0.272251   \n",
       "3      1.172314 -0.353350   -0.348916   1.075270 -0.288227  0.266940   \n",
       "4     -0.632496 -2.090141   -0.348916  -0.320686 -0.288227 -0.272251   \n",
       "...         ...       ...         ...        ...       ...       ...   \n",
       "39995 -0.632496  1.383441    2.740717  -1.716642 -0.288227 -0.272251   \n",
       "39996 -1.326653 -0.353350   -0.348916  -0.320686 -0.288227 -0.272251   \n",
       "39997  1.033483  1.383441   -0.348916   1.075270 -0.288227 -0.272251   \n",
       "39998  1.311146 -0.353350    2.740717   1.075270 -0.288227 -0.272251   \n",
       "39999 -1.048990 -0.353350   -0.348916  -0.320686 -0.288227 -0.272251   \n",
       "\n",
       "       prvmam_c  biophx_c  mammtype   CaTypeO     bmi_c      ptid  cancer  \n",
       "0     -0.112775 -0.339656  0.999987  0.080551 -0.849089  0.514125       0  \n",
       "1     -0.112775 -0.339656 -0.999987  0.080551 -0.849089  1.562419       0  \n",
       "2     -0.112775 -0.339656 -0.999987  0.080551 -0.849089 -1.631132       0  \n",
       "3     -0.112775 -0.339656 -0.999987  0.080551 -0.849089 -0.306004       0  \n",
       "4     -0.112775 -0.339656 -0.999987  0.080551 -0.849089 -0.889762       0  \n",
       "...         ...       ...       ...       ...       ...       ...     ...  \n",
       "39995 -0.112775 -0.339656  0.999987  0.080551 -0.849089 -1.616795       0  \n",
       "39996 -0.112775 -0.339656  0.999987  0.080551  1.285663 -0.408060       0  \n",
       "39997 -0.112775  0.424174 -0.999987  0.080551 -0.849089 -0.177632       0  \n",
       "39998 -0.112775 -0.339656 -0.999987  0.080551 -0.849089 -0.242148       0  \n",
       "39999 -0.112775  0.424174  0.999987  0.080551  1.224624 -0.121793       0  \n",
       "\n",
       "[40000 rows x 13 columns]"
      ]
     },
     "execution_count": 259,
     "metadata": {},
     "output_type": "execute_result"
    }
   ],
   "source": [
    "#Shuffle dataframe rows(sample all without replacement)\n",
    "ndf = ndf.sample(frac=1).reset_index(drop=True)\n",
    "ndf"
   ]
  },
  {
   "cell_type": "code",
   "execution_count": 260,
   "metadata": {},
   "outputs": [
    {
     "name": "stdout",
     "output_type": "stream",
     "text": [
      "[[ 2.14413532 -0.35335008 -0.34891614 ...  0.08055057 -0.84908884\n",
      "   0.51412511]\n",
      " [-0.91015883 -0.35335008 -0.34891614 ...  0.08055057 -0.84908884\n",
      "   1.56241877]\n",
      " [-0.49366418 -0.35335008 -0.34891614 ...  0.08055057 -0.84908884\n",
      "  -1.63113232]\n",
      " ...\n",
      " [ 1.0334829   1.38344068 -0.34891614 ...  0.08055057 -0.84908884\n",
      "  -0.17763175]\n",
      " [ 1.31114601 -0.35335008  2.74071709 ...  0.08055057 -0.84908884\n",
      "  -0.24214793]\n",
      " [-1.04899039 -0.35335008 -0.34891614 ...  0.08055057  1.22462408\n",
      "  -0.12179318]]\n",
      "[0 0 0 ... 0 0 0]\n"
     ]
    }
   ],
   "source": [
    "#Assign variables to X and labels to y and convert to arrays\n",
    "X = ndf.iloc[:,:-1].values\n",
    "y = ndf.iloc[:,-1].values\n",
    "\n",
    "print(X)\n",
    "print(y)"
   ]
  },
  {
   "cell_type": "code",
   "execution_count": 261,
   "metadata": {},
   "outputs": [
    {
     "name": "stdout",
     "output_type": "stream",
     "text": [
      "X_train (32000, 12)\n",
      "y_train (32000,)\n",
      "X_test (8000, 12)\n",
      "y_test (8000,)\n"
     ]
    }
   ],
   "source": [
    "#Split the dataset to 80% training and 20% testing\n",
    "X_train, X_test, y_train, y_test = train_test_split(X,y,shuffle=True, test_size = 0.2)\n",
    "\n",
    "#Check output shape \n",
    "print('X_train',X_train.shape)\n",
    "print('y_train',y_train.shape)\n",
    "print('X_test',X_test.shape)\n",
    "print('y_test',y_test.shape)\n",
    "\n",
    "#Clip data to get rid out outliers(Anything over 5std)\n",
    "train_features = np.clip(X_train, -5, 5)\n",
    "test_features = np.clip(X_test, -5, 5)\n",
    "train_labels = y_train\n",
    "test_labels = y_test"
   ]
  },
  {
   "cell_type": "code",
   "execution_count": 262,
   "metadata": {},
   "outputs": [],
   "source": [
    "#Define confusion matrix metrics\n",
    "METRICS = [\n",
    "      keras.metrics.TruePositives(name='tp'),\n",
    "      keras.metrics.FalsePositives(name='fp'),\n",
    "      keras.metrics.TrueNegatives(name='tn'),\n",
    "      keras.metrics.FalseNegatives(name='fn'), \n",
    "      keras.metrics.BinaryAccuracy(name='accuracy'),\n",
    "      keras.metrics.Precision(name='precision'),\n",
    "      keras.metrics.Recall(name='recall'),\n",
    "      keras.metrics.AUC(name='auc'),\n",
    "]\n",
    "\n",
    "#Create a funtion to create the neural network model\n",
    "def make_model(metrics = METRICS, output_bias=None):\n",
    "  if output_bias is not None:\n",
    "    output_bias = tf.keras.initializers.Constant(output_bias)\n",
    "  model = keras.Sequential([\n",
    "      keras.layers.Dense(\n",
    "          16, activation='relu',\n",
    "          input_shape=(train_features.shape[-1],)),\n",
    "      keras.layers.Dropout(0.5),\n",
    "      keras.layers.Dense(1, activation='sigmoid',\n",
    "                         bias_initializer=output_bias),\n",
    "  ])\n",
    "\n",
    "  model.compile(\n",
    "      optimizer=keras.optimizers.Adam(lr=1e-3),\n",
    "      loss=keras.losses.BinaryCrossentropy(),\n",
    "      metrics=metrics)\n",
    "\n",
    "  return model\n",
    "\n",
    "#Define the hyperparameters of the model\n",
    "EPOCHS = 100\n",
    "BATCH_SIZE = 2048\n",
    "\n",
    "#Define early stopping criteria, I will be using AUC as the metric. \n",
    "#If the AUC doesnt improve after 10 epocs, it will stop training.\n",
    "early_stopping = tf.keras.callbacks.EarlyStopping(\n",
    "    monitor='auc', \n",
    "    verbose=1,\n",
    "    patience=10,\n",
    "    mode='max',\n",
    "    restore_best_weights=True)"
   ]
  },
  {
   "cell_type": "code",
   "execution_count": 263,
   "metadata": {},
   "outputs": [
    {
     "name": "stdout",
     "output_type": "stream",
     "text": [
      "Model: \"sequential_39\"\n",
      "_________________________________________________________________\n",
      "Layer (type)                 Output Shape              Param #   \n",
      "=================================================================\n",
      "dense_78 (Dense)             (None, 16)                208       \n",
      "_________________________________________________________________\n",
      "dropout_39 (Dropout)         (None, 16)                0         \n",
      "_________________________________________________________________\n",
      "dense_79 (Dense)             (None, 1)                 17        \n",
      "=================================================================\n",
      "Total params: 225\n",
      "Trainable params: 225\n",
      "Non-trainable params: 0\n",
      "_________________________________________________________________\n"
     ]
    }
   ],
   "source": [
    "#Show model summary\n",
    "model = make_model()\n",
    "model.summary()"
   ]
  },
  {
   "cell_type": "markdown",
   "metadata": {},
   "source": [
    "## Test model without optimizations"
   ]
  },
  {
   "cell_type": "markdown",
   "metadata": {},
   "source": [
    "To see how well the model predicts, I am going to test the model before any training and optimizations."
   ]
  },
  {
   "cell_type": "code",
   "execution_count": 264,
   "metadata": {},
   "outputs": [
    {
     "data": {
      "text/plain": [
       "array([[0.03537288],\n",
       "       [0.07821113],\n",
       "       [0.171756  ],\n",
       "       [0.22946891],\n",
       "       [0.17679116],\n",
       "       [0.05780935],\n",
       "       [0.11025295],\n",
       "       [0.12557638],\n",
       "       [0.05920811],\n",
       "       [0.07844544]], dtype=float32)"
      ]
     },
     "execution_count": 264,
     "metadata": {},
     "output_type": "execute_result"
    }
   ],
   "source": [
    "#make prediction with bias = 0\n",
    "model.predict(train_features[:10])"
   ]
  },
  {
   "cell_type": "markdown",
   "metadata": {},
   "source": [
    "As we can see, it predicted mostly positives for the first 10 predictions. Now lets take a look at how well it predicts on the test dataset."
   ]
  },
  {
   "cell_type": "code",
   "execution_count": 265,
   "metadata": {},
   "outputs": [
    {
     "name": "stdout",
     "output_type": "stream",
     "text": [
      "loss :  0.15063159418106079\n",
      "tp :  0.0\n",
      "fp :  16.0\n",
      "tn :  7934.0\n",
      "fn :  50.0\n",
      "accuracy :  0.99175\n",
      "precision :  0.0\n",
      "recall :  0.0\n",
      "auc :  0.1602629\n",
      "\n",
      "Legitimate Transactions Detected (True Negatives):  7934\n",
      "Legitimate Transactions Incorrectly Detected (False Positives):  16\n",
      "Fraudulent Transactions Missed (False Negatives):  50\n",
      "Fraudulent Transactions Detected (True Positives):  0\n",
      "Total Fraudulent Transactions:  50\n"
     ]
    },
    {
     "data": {
      "image/png": "[encoded data removed]",
      "text/plain": [
       "<Figure size 360x360 with 2 Axes>"
      ]
     },
     "metadata": {
      "needs_background": "light"
     },
     "output_type": "display_data"
    }
   ],
   "source": [
    "#Evaluate model\n",
    "train_predictions_baseline = model.predict(train_features, batch_size=BATCH_SIZE)\n",
    "test_predictions_baseline = model.predict(test_features, batch_size=BATCH_SIZE)\n",
    "\n",
    "baseline_results = model.evaluate(test_features, test_labels,\n",
    "                                  batch_size=BATCH_SIZE, verbose=0)\n",
    "for name, value in zip(model.metrics_names, baseline_results):\n",
    "  print(name, ': ', value)\n",
    "print()\n",
    "\n",
    "plot_cm(test_labels, test_predictions_baseline)"
   ]
  },
  {
   "cell_type": "markdown",
   "metadata": {},
   "source": [
    "Judging from the comfusion matrix, there seems to be alot of false positives. Lets see if we can impriove the predictions."
   ]
  },
  {
   "cell_type": "markdown",
   "metadata": {},
   "source": [
    "## Using the optimal bias"
   ]
  },
  {
   "cell_type": "markdown",
   "metadata": {},
   "source": [
    "The initial predictions were not great as the data is imbalanced. To improve the predictions, I am going to adjust the bias to reflect the unbalanced nature of the dataset. This will help with initial convergence."
   ]
  },
  {
   "cell_type": "code",
   "execution_count": 266,
   "metadata": {},
   "outputs": [
    {
     "name": "stdout",
     "output_type": "stream",
     "text": [
      "Examples:\n",
      "    Total: 40000\n",
      "    Positive: 259 (0.65% of total)\n",
      "\n"
     ]
    }
   ],
   "source": [
    "#Find how many positive and negative\n",
    "neg, pos = np.bincount(ndf['cancer'])\n",
    "total = neg + pos\n",
    "print('Examples:\\n    Total: {}\\n    Positive: {} ({:.2f}% of total)\\n'.format(\n",
    "    total, pos, 100 * pos / total))"
   ]
  },
  {
   "cell_type": "code",
   "execution_count": 267,
   "metadata": {},
   "outputs": [
    {
     "data": {
      "text/plain": [
       "array([-5.03331062])"
      ]
     },
     "execution_count": 267,
     "metadata": {},
     "output_type": "execute_result"
    }
   ],
   "source": [
    "#create the optimal bias\n",
    "initial_bias = np.log([pos/neg])\n",
    "initial_bias"
   ]
  },
  {
   "cell_type": "code",
   "execution_count": 268,
   "metadata": {},
   "outputs": [
    {
     "data": {
      "text/plain": [
       "array([[0.06865048],\n",
       "       [0.01792511],\n",
       "       [0.01213306],\n",
       "       [0.00819212],\n",
       "       [0.007532  ],\n",
       "       [0.00920063],\n",
       "       [0.00659376],\n",
       "       [0.00571695],\n",
       "       [0.01646033],\n",
       "       [0.0057539 ]], dtype=float32)"
      ]
     },
     "execution_count": 268,
     "metadata": {},
     "output_type": "execute_result"
    }
   ],
   "source": [
    "#make prediction with new bias\n",
    "model = make_model(output_bias = initial_bias)\n",
    "model.predict(train_features[:10])"
   ]
  },
  {
   "cell_type": "markdown",
   "metadata": {},
   "source": [
    "The new predictions are mostly negative now."
   ]
  },
  {
   "cell_type": "code",
   "execution_count": 269,
   "metadata": {},
   "outputs": [
    {
     "name": "stdout",
     "output_type": "stream",
     "text": [
      "Loss: 0.9403\n"
     ]
    }
   ],
   "source": [
    "#Print the loss with original bias\n",
    "og_model = make_model(output_bias = 0)\n",
    "og_results = og_model.evaluate(train_features, train_labels, batch_size=BATCH_SIZE, verbose=0)\n",
    "print(\"Loss: {:0.4f}\".format(og_results[0]))"
   ]
  },
  {
   "cell_type": "code",
   "execution_count": 270,
   "metadata": {},
   "outputs": [
    {
     "name": "stdout",
     "output_type": "stream",
     "text": [
      "Loss: 0.0493\n"
     ]
    }
   ],
   "source": [
    "#Print the loss with the new bias\n",
    "results = model.evaluate(train_features, train_labels, batch_size=BATCH_SIZE, verbose=0)\n",
    "print(\"Loss: {:0.4f}\".format(results[0]))"
   ]
  },
  {
   "cell_type": "code",
   "execution_count": 271,
   "metadata": {},
   "outputs": [
    {
     "name": "stdout",
     "output_type": "stream",
     "text": [
      "With the new bias, the loss improved by a factor of 19.\n"
     ]
    }
   ],
   "source": [
    "fnum = int(round(og_results[0]/results[0]))\n",
    "\n",
    "print('With the new bias, the loss improved by a factor of {}.'.format(fnum))"
   ]
  },
  {
   "cell_type": "code",
   "execution_count": 272,
   "metadata": {},
   "outputs": [
    {
     "name": "stdout",
     "output_type": "stream",
     "text": [
      "loss :  0.047733722448348996\n",
      "tp :  0.0\n",
      "fp :  0.0\n",
      "tn :  7950.0\n",
      "fn :  50.0\n",
      "accuracy :  0.99375\n",
      "precision :  0.0\n",
      "recall :  0.0\n",
      "auc :  0.17829685\n",
      "\n",
      "Legitimate Transactions Detected (True Negatives):  7950\n",
      "Legitimate Transactions Incorrectly Detected (False Positives):  0\n",
      "Fraudulent Transactions Missed (False Negatives):  50\n",
      "Fraudulent Transactions Detected (True Positives):  0\n",
      "Total Fraudulent Transactions:  50\n"
     ]
    },
    {
     "data": {
      "image/png": "[encoded data removed]",
      "text/plain": [
       "<Figure size 360x360 with 2 Axes>"
      ]
     },
     "metadata": {
      "needs_background": "light"
     },
     "output_type": "display_data"
    }
   ],
   "source": [
    "#Evaluate model\n",
    "train_predictions_baseline = model.predict(train_features, batch_size=BATCH_SIZE)\n",
    "test_predictions_baseline = model.predict(test_features, batch_size=BATCH_SIZE)\n",
    "\n",
    "baseline_results = model.evaluate(test_features, test_labels,\n",
    "                                  batch_size=BATCH_SIZE, verbose=0)\n",
    "for name, value in zip(model.metrics_names, baseline_results):\n",
    "  print(name, ': ', value)\n",
    "print()\n",
    "\n",
    "plot_cm(test_labels, test_predictions_baseline)"
   ]
  },
  {
   "cell_type": "markdown",
   "metadata": {},
   "source": [
    "As we can see the model prediction for false positives has improved but the true negatives has gotten worse."
   ]
  },
  {
   "cell_type": "markdown",
   "metadata": {},
   "source": [
    "## Ploting the convergence of model with new bias"
   ]
  },
  {
   "cell_type": "code",
   "execution_count": 273,
   "metadata": {},
   "outputs": [],
   "source": [
    "#Save the new bias weights\n",
    "initial_weights = os.path.join(tempfile.mkdtemp(),'initial_weights')\n",
    "model.save_weights(initial_weights)"
   ]
  },
  {
   "cell_type": "code",
   "execution_count": 274,
   "metadata": {},
   "outputs": [],
   "source": [
    "#Model with original bias\n",
    "model = make_model()\n",
    "model.load_weights(initial_weights)\n",
    "model.layers[-1].bias.assign([0.0])\n",
    "zero_bias_history = model.fit(\n",
    "    train_features,\n",
    "    train_labels,\n",
    "    batch_size=BATCH_SIZE,\n",
    "    epochs=20, \n",
    "    verbose=0)"
   ]
  },
  {
   "cell_type": "code",
   "execution_count": 275,
   "metadata": {},
   "outputs": [],
   "source": [
    "#Model with optimized bias\n",
    "model = make_model()\n",
    "model.load_weights(initial_weights)\n",
    "careful_bias_history = model.fit(\n",
    "    train_features,\n",
    "    train_labels,\n",
    "    batch_size=BATCH_SIZE,\n",
    "    epochs=20, \n",
    "    verbose=0)"
   ]
  },
  {
   "cell_type": "code",
   "execution_count": 276,
   "metadata": {},
   "outputs": [
    {
     "data": {
      "image/png": "[encoded data removed]",
      "text/plain": [
       "<Figure size 864x720 with 1 Axes>"
      ]
     },
     "metadata": {
      "needs_background": "light"
     },
     "output_type": "display_data"
    }
   ],
   "source": [
    "#Plot the line graphs\n",
    "mpl.rcParams['figure.figsize'] = (12, 10)\n",
    "colors = plt.rcParams['axes.prop_cycle'].by_key()['color']\n",
    "\n",
    "def plot_loss(history, label, n):\n",
    "  # Use a log scale to show the wide range of values.\n",
    "  plt.semilogy(history.epoch,  history.history['loss'],\n",
    "               color=colors[n], label='Train dataset '+label)\n",
    "  #plt.semilogy(history.epoch,  history.history['val_loss'],\n",
    "  #        color=colors[n], label='Val '+label,\n",
    "  #        linestyle=\"--\")\n",
    "  plt.xlabel('Epoch')\n",
    "  plt.ylabel('Loss')\n",
    "  \n",
    "  plt.legend()\n",
    "\n",
    "plot_loss(zero_bias_history, \"Original Bias\", 0)\n",
    "plot_loss(careful_bias_history, \"Optimized Bias\", 1)"
   ]
  },
  {
   "cell_type": "markdown",
   "metadata": {},
   "source": [
    "As we can see, with the bias optimization, the model started and ended in a better position(in terms of the loss) than the model without bias optimization. Next, lets train the model to see if we can improve the predictions."
   ]
  },
  {
   "cell_type": "markdown",
   "metadata": {},
   "source": [
    "## Train the model"
   ]
  },
  {
   "cell_type": "code",
   "execution_count": 277,
   "metadata": {},
   "outputs": [
    {
     "name": "stdout",
     "output_type": "stream",
     "text": [
      "Train on 32000 samples\n",
      "Epoch 1/100\n",
      "32000/32000 [==============================] - 1s 40us/sample - loss: 0.0572 - tp: 0.0000e+00 - fp: 75.0000 - tn: 31716.0000 - fn: 209.0000 - accuracy: 0.9911 - precision: 0.0000e+00 - recall: 0.0000e+00 - auc: 0.3751\n",
      "Epoch 2/100\n",
      "32000/32000 [==============================] - 0s 3us/sample - loss: 0.0529 - tp: 0.0000e+00 - fp: 41.0000 - tn: 31750.0000 - fn: 209.0000 - accuracy: 0.9922 - precision: 0.0000e+00 - recall: 0.0000e+00 - auc: 0.3892\n",
      "Epoch 3/100\n",
      "32000/32000 [==============================] - 0s 3us/sample - loss: 0.0472 - tp: 0.0000e+00 - fp: 23.0000 - tn: 31768.0000 - fn: 209.0000 - accuracy: 0.9927 - precision: 0.0000e+00 - recall: 0.0000e+00 - auc: 0.4567\n",
      "Epoch 4/100\n",
      "32000/32000 [==============================] - 0s 3us/sample - loss: 0.0455 - tp: 1.0000 - fp: 21.0000 - tn: 31770.0000 - fn: 208.0000 - accuracy: 0.9928 - precision: 0.0455 - recall: 0.0048 - auc: 0.4952    \n",
      "Epoch 5/100\n",
      "32000/32000 [==============================] - 0s 3us/sample - loss: 0.0431 - tp: 0.0000e+00 - fp: 15.0000 - tn: 31776.0000 - fn: 209.0000 - accuracy: 0.9930 - precision: 0.0000e+00 - recall: 0.0000e+00 - auc: 0.5549\n",
      "Epoch 6/100\n",
      "32000/32000 [==============================] - 0s 3us/sample - loss: 0.0399 - tp: 0.0000e+00 - fp: 12.0000 - tn: 31779.0000 - fn: 209.0000 - accuracy: 0.9931 - precision: 0.0000e+00 - recall: 0.0000e+00 - auc: 0.6414\n",
      "Epoch 7/100\n",
      "32000/32000 [==============================] - 0s 3us/sample - loss: 0.0375 - tp: 0.0000e+00 - fp: 7.0000 - tn: 31784.0000 - fn: 209.0000 - accuracy: 0.9933 - precision: 0.0000e+00 - recall: 0.0000e+00 - auc: 0.7069\n",
      "Epoch 8/100\n",
      "32000/32000 [==============================] - 0s 3us/sample - loss: 0.0365 - tp: 0.0000e+00 - fp: 10.0000 - tn: 31781.0000 - fn: 209.0000 - accuracy: 0.9932 - precision: 0.0000e+00 - recall: 0.0000e+00 - auc: 0.7153\n",
      "Epoch 9/100\n",
      "32000/32000 [==============================] - 0s 3us/sample - loss: 0.0345 - tp: 3.0000 - fp: 7.0000 - tn: 31784.0000 - fn: 206.0000 - accuracy: 0.9933 - precision: 0.3000 - recall: 0.0144 - auc: 0.7548       \n",
      "Epoch 10/100\n",
      "32000/32000 [==============================] - 0s 3us/sample - loss: 0.0313 - tp: 4.0000 - fp: 8.0000 - tn: 31783.0000 - fn: 205.0000 - accuracy: 0.9933 - precision: 0.3333 - recall: 0.0191 - auc: 0.8340\n",
      "Epoch 11/100\n",
      "32000/32000 [==============================] - 0s 3us/sample - loss: 0.0290 - tp: 10.0000 - fp: 6.0000 - tn: 31785.0000 - fn: 199.0000 - accuracy: 0.9936 - precision: 0.6250 - recall: 0.0478 - auc: 0.8533\n",
      "Epoch 12/100\n",
      "32000/32000 [==============================] - 0s 3us/sample - loss: 0.0272 - tp: 16.0000 - fp: 6.0000 - tn: 31785.0000 - fn: 193.0000 - accuracy: 0.9938 - precision: 0.7273 - recall: 0.0766 - auc: 0.9015  \n",
      "Epoch 13/100\n",
      "32000/32000 [==============================] - 0s 3us/sample - loss: 0.0259 - tp: 17.0000 - fp: 6.0000 - tn: 31785.0000 - fn: 192.0000 - accuracy: 0.9938 - precision: 0.7391 - recall: 0.0813 - auc: 0.8976\n",
      "Epoch 14/100\n",
      "32000/32000 [==============================] - 0s 3us/sample - loss: 0.0249 - tp: 29.0000 - fp: 5.0000 - tn: 31786.0000 - fn: 180.0000 - accuracy: 0.9942 - precision: 0.8529 - recall: 0.1388 - auc: 0.9081     \n",
      "Epoch 15/100\n",
      "32000/32000 [==============================] - 0s 3us/sample - loss: 0.0217 - tp: 44.0000 - fp: 2.0000 - tn: 31789.0000 - fn: 165.0000 - accuracy: 0.9948 - precision: 0.9565 - recall: 0.2105 - auc: 0.9303\n",
      "Epoch 16/100\n",
      "32000/32000 [==============================] - 0s 3us/sample - loss: 0.0208 - tp: 55.0000 - fp: 0.0000e+00 - tn: 31791.0000 - fn: 154.0000 - accuracy: 0.9952 - precision: 1.0000 - recall: 0.2632 - auc: 0.9396\n",
      "Epoch 17/100\n",
      "32000/32000 [==============================] - 0s 4us/sample - loss: 0.0208 - tp: 49.0000 - fp: 7.0000 - tn: 31784.0000 - fn: 160.0000 - accuracy: 0.9948 - precision: 0.8750 - recall: 0.2344 - auc: 0.9357\n",
      "Epoch 18/100\n",
      "32000/32000 [==============================] - 0s 3us/sample - loss: 0.0178 - tp: 68.0000 - fp: 2.0000 - tn: 31789.0000 - fn: 141.0000 - accuracy: 0.9955 - precision: 0.9714 - recall: 0.3254 - auc: 0.9480\n",
      "Epoch 19/100\n",
      "32000/32000 [==============================] - 0s 3us/sample - loss: 0.0156 - tp: 89.0000 - fp: 2.0000 - tn: 31789.0000 - fn: 120.0000 - accuracy: 0.9962 - precision: 0.9780 - recall: 0.4258 - auc: 0.9724\n",
      "Epoch 20/100\n",
      "32000/32000 [==============================] - 0s 3us/sample - loss: 0.0144 - tp: 94.0000 - fp: 1.0000 - tn: 31790.0000 - fn: 115.0000 - accuracy: 0.9964 - precision: 0.9895 - recall: 0.4498 - auc: 0.9726\n",
      "Epoch 21/100\n",
      "32000/32000 [==============================] - 0s 3us/sample - loss: 0.0144 - tp: 102.0000 - fp: 1.0000 - tn: 31790.0000 - fn: 107.0000 - accuracy: 0.9966 - precision: 0.9903 - recall: 0.4880 - auc: 0.9767\n",
      "Epoch 22/100\n",
      "32000/32000 [==============================] - 0s 4us/sample - loss: 0.0121 - tp: 113.0000 - fp: 0.0000e+00 - tn: 31791.0000 - fn: 96.0000 - accuracy: 0.9970 - precision: 1.0000 - recall: 0.5407 - auc: 0.9874\n",
      "Epoch 23/100\n",
      "32000/32000 [==============================] - 0s 3us/sample - loss: 0.0122 - tp: 117.0000 - fp: 1.0000 - tn: 31790.0000 - fn: 92.0000 - accuracy: 0.9971 - precision: 0.9915 - recall: 0.5598 - auc: 0.9834\n",
      "Epoch 24/100\n",
      "32000/32000 [==============================] - 0s 3us/sample - loss: 0.0118 - tp: 119.0000 - fp: 4.0000 - tn: 31787.0000 - fn: 90.0000 - accuracy: 0.9971 - precision: 0.9675 - recall: 0.5694 - auc: 0.9882\n",
      "Epoch 25/100\n",
      "32000/32000 [==============================] - 0s 3us/sample - loss: 0.0113 - tp: 125.0000 - fp: 2.0000 - tn: 31789.0000 - fn: 84.0000 - accuracy: 0.9973 - precision: 0.9843 - recall: 0.5981 - auc: 0.9797\n",
      "Epoch 26/100\n",
      "32000/32000 [==============================] - 0s 3us/sample - loss: 0.0110 - tp: 121.0000 - fp: 1.0000 - tn: 31790.0000 - fn: 88.0000 - accuracy: 0.9972 - precision: 0.9918 - recall: 0.5789 - auc: 0.9894\n",
      "Epoch 27/100\n",
      "32000/32000 [==============================] - 0s 3us/sample - loss: 0.0103 - tp: 122.0000 - fp: 2.0000 - tn: 31789.0000 - fn: 87.0000 - accuracy: 0.9972 - precision: 0.9839 - recall: 0.5837 - auc: 0.9909\n",
      "Epoch 28/100\n",
      "32000/32000 [==============================] - 0s 3us/sample - loss: 0.0094 - tp: 136.0000 - fp: 1.0000 - tn: 31790.0000 - fn: 73.0000 - accuracy: 0.9977 - precision: 0.9927 - recall: 0.6507 - auc: 0.9869\n",
      "Epoch 29/100\n",
      "32000/32000 [==============================] - 0s 2us/sample - loss: 0.0084 - tp: 146.0000 - fp: 0.0000e+00 - tn: 31791.0000 - fn: 63.0000 - accuracy: 0.9980 - precision: 1.0000 - recall: 0.6986 - auc: 0.9865\n",
      "Epoch 30/100\n",
      "32000/32000 [==============================] - 0s 3us/sample - loss: 0.0082 - tp: 146.0000 - fp: 0.0000e+00 - tn: 31791.0000 - fn: 63.0000 - accuracy: 0.9980 - precision: 1.0000 - recall: 0.6986 - auc: 0.9919\n",
      "Epoch 31/100\n",
      "32000/32000 [==============================] - 0s 3us/sample - loss: 0.0085 - tp: 147.0000 - fp: 1.0000 - tn: 31790.0000 - fn: 62.0000 - accuracy: 0.9980 - precision: 0.9932 - recall: 0.7033 - auc: 0.9907\n",
      "Epoch 32/100\n",
      "32000/32000 [==============================] - 0s 3us/sample - loss: 0.0079 - tp: 150.0000 - fp: 0.0000e+00 - tn: 31791.0000 - fn: 59.0000 - accuracy: 0.9982 - precision: 1.0000 - recall: 0.7177 - auc: 0.9979\n",
      "Epoch 33/100\n",
      "32000/32000 [==============================] - 0s 3us/sample - loss: 0.0077 - tp: 147.0000 - fp: 1.0000 - tn: 31790.0000 - fn: 62.0000 - accuracy: 0.9980 - precision: 0.9932 - recall: 0.7033 - auc: 0.9923\n",
      "Epoch 34/100\n",
      "32000/32000 [==============================] - 0s 3us/sample - loss: 0.0077 - tp: 151.0000 - fp: 1.0000 - tn: 31790.0000 - fn: 58.0000 - accuracy: 0.9982 - precision: 0.9934 - recall: 0.7225 - auc: 0.9859\n",
      "Epoch 35/100\n",
      "32000/32000 [==============================] - 0s 3us/sample - loss: 0.0077 - tp: 149.0000 - fp: 1.0000 - tn: 31790.0000 - fn: 60.0000 - accuracy: 0.9981 - precision: 0.9933 - recall: 0.7129 - auc: 0.9923\n",
      "Epoch 36/100\n",
      "32000/32000 [==============================] - 0s 3us/sample - loss: 0.0072 - tp: 153.0000 - fp: 2.0000 - tn: 31789.0000 - fn: 56.0000 - accuracy: 0.9982 - precision: 0.9871 - recall: 0.7321 - auc: 0.9918\n",
      "Epoch 37/100\n"
     ]
    },
    {
     "name": "stdout",
     "output_type": "stream",
     "text": [
      "32000/32000 [==============================] - 0s 3us/sample - loss: 0.0057 - tp: 169.0000 - fp: 1.0000 - tn: 31790.0000 - fn: 40.0000 - accuracy: 0.9987 - precision: 0.9941 - recall: 0.8086 - auc: 0.9965\n",
      "Epoch 38/100\n",
      "32000/32000 [==============================] - 0s 3us/sample - loss: 0.0059 - tp: 167.0000 - fp: 0.0000e+00 - tn: 31791.0000 - fn: 42.0000 - accuracy: 0.9987 - precision: 1.0000 - recall: 0.7990 - auc: 0.9987\n",
      "Epoch 39/100\n",
      "32000/32000 [==============================] - 0s 3us/sample - loss: 0.0054 - tp: 171.0000 - fp: 1.0000 - tn: 31790.0000 - fn: 38.0000 - accuracy: 0.9988 - precision: 0.9942 - recall: 0.8182 - auc: 0.9941\n",
      "Epoch 40/100\n",
      "32000/32000 [==============================] - 0s 3us/sample - loss: 0.0058 - tp: 169.0000 - fp: 0.0000e+00 - tn: 31791.0000 - fn: 40.0000 - accuracy: 0.9987 - precision: 1.0000 - recall: 0.8086 - auc: 0.9933\n",
      "Epoch 41/100\n",
      "32000/32000 [==============================] - 0s 3us/sample - loss: 0.0053 - tp: 171.0000 - fp: 0.0000e+00 - tn: 31791.0000 - fn: 38.0000 - accuracy: 0.9988 - precision: 1.0000 - recall: 0.8182 - auc: 0.9969\n",
      "Epoch 42/100\n",
      "32000/32000 [==============================] - 0s 3us/sample - loss: 0.0046 - tp: 180.0000 - fp: 1.0000 - tn: 31790.0000 - fn: 29.0000 - accuracy: 0.9991 - precision: 0.9945 - recall: 0.8612 - auc: 0.9944\n",
      "Epoch 43/100\n",
      "32000/32000 [==============================] - 0s 3us/sample - loss: 0.0057 - tp: 162.0000 - fp: 0.0000e+00 - tn: 31791.0000 - fn: 47.0000 - accuracy: 0.9985 - precision: 1.0000 - recall: 0.7751 - auc: 0.9970\n",
      "Epoch 44/100\n",
      "32000/32000 [==============================] - 0s 3us/sample - loss: 0.0049 - tp: 173.0000 - fp: 0.0000e+00 - tn: 31791.0000 - fn: 36.0000 - accuracy: 0.9989 - precision: 1.0000 - recall: 0.8278 - auc: 0.9998\n",
      "Epoch 45/100\n",
      "32000/32000 [==============================] - 0s 3us/sample - loss: 0.0040 - tp: 182.0000 - fp: 0.0000e+00 - tn: 31791.0000 - fn: 27.0000 - accuracy: 0.9992 - precision: 1.0000 - recall: 0.8708 - auc: 0.9995\n",
      "Epoch 46/100\n",
      "32000/32000 [==============================] - 0s 3us/sample - loss: 0.0040 - tp: 182.0000 - fp: 0.0000e+00 - tn: 31791.0000 - fn: 27.0000 - accuracy: 0.9992 - precision: 1.0000 - recall: 0.8708 - auc: 0.9999\n",
      "Epoch 47/100\n",
      "32000/32000 [==============================] - 0s 2us/sample - loss: 0.0036 - tp: 191.0000 - fp: 0.0000e+00 - tn: 31791.0000 - fn: 18.0000 - accuracy: 0.9994 - precision: 1.0000 - recall: 0.9139 - auc: 0.9997\n",
      "Epoch 48/100\n",
      "32000/32000 [==============================] - 0s 2us/sample - loss: 0.0050 - tp: 169.0000 - fp: 0.0000e+00 - tn: 31791.0000 - fn: 40.0000 - accuracy: 0.9987 - precision: 1.0000 - recall: 0.8086 - auc: 0.9917\n",
      "Epoch 49/100\n",
      "32000/32000 [==============================] - 0s 3us/sample - loss: 0.0043 - tp: 179.0000 - fp: 0.0000e+00 - tn: 31791.0000 - fn: 30.0000 - accuracy: 0.9991 - precision: 1.0000 - recall: 0.8565 - auc: 0.9970\n",
      "Epoch 50/100\n",
      "32000/32000 [==============================] - 0s 3us/sample - loss: 0.0042 - tp: 180.0000 - fp: 0.0000e+00 - tn: 31791.0000 - fn: 29.0000 - accuracy: 0.9991 - precision: 1.0000 - recall: 0.8612 - auc: 0.9944\n",
      "Epoch 51/100\n",
      "32000/32000 [==============================] - 0s 3us/sample - loss: 0.0039 - tp: 178.0000 - fp: 0.0000e+00 - tn: 31791.0000 - fn: 31.0000 - accuracy: 0.9990 - precision: 1.0000 - recall: 0.8517 - auc: 0.9924\n",
      "Epoch 52/100\n",
      "32000/32000 [==============================] - 0s 3us/sample - loss: 0.0035 - tp: 187.0000 - fp: 0.0000e+00 - tn: 31791.0000 - fn: 22.0000 - accuracy: 0.9993 - precision: 1.0000 - recall: 0.8947 - auc: 0.9947\n",
      "Epoch 53/100\n",
      "32000/32000 [==============================] - 0s 3us/sample - loss: 0.0039 - tp: 184.0000 - fp: 0.0000e+00 - tn: 31791.0000 - fn: 25.0000 - accuracy: 0.9992 - precision: 1.0000 - recall: 0.8804 - auc: 0.9947\n",
      "Epoch 54/100\n",
      "32000/32000 [==============================] - 0s 3us/sample - loss: 0.0032 - tp: 190.0000 - fp: 0.0000e+00 - tn: 31791.0000 - fn: 19.0000 - accuracy: 0.9994 - precision: 1.0000 - recall: 0.9091 - auc: 0.9950\n",
      "Epoch 55/100\n",
      "32000/32000 [==============================] - 0s 3us/sample - loss: 0.0036 - tp: 177.0000 - fp: 0.0000e+00 - tn: 31791.0000 - fn: 32.0000 - accuracy: 0.9990 - precision: 1.0000 - recall: 0.8469 - auc: 0.9973\n",
      "Epoch 56/100\n",
      "16384/32000 [==============>...............] - ETA: 0s - loss: 0.0038 - tp: 100.0000 - fp: 0.0000e+00 - tn: 16267.0000 - fn: 17.0000 - accuracy: 0.9990 - precision: 1.0000 - recall: 0.8547 - auc: 0.9955Restoring model weights from the end of the best epoch.\n",
      "32000/32000 [==============================] - 0s 3us/sample - loss: 0.0036 - tp: 182.0000 - fp: 0.0000e+00 - tn: 31791.0000 - fn: 27.0000 - accuracy: 0.9992 - precision: 1.0000 - recall: 0.8708 - auc: 0.9924\n",
      "Epoch 00056: early stopping\n"
     ]
    }
   ],
   "source": [
    "model = make_model()\n",
    "model.load_weights(initial_weights)\n",
    "baseline_history = model.fit(\n",
    "    train_features,\n",
    "    train_labels,\n",
    "    batch_size=BATCH_SIZE,\n",
    "    epochs=EPOCHS,\n",
    "    callbacks = [early_stopping])"
   ]
  },
  {
   "cell_type": "code",
   "execution_count": 278,
   "metadata": {},
   "outputs": [
    {
     "name": "stdout",
     "output_type": "stream",
     "text": [
      "loss :  0.0010720726577565073\n",
      "tp :  50.0\n",
      "fp :  0.0\n",
      "tn :  7950.0\n",
      "fn :  0.0\n",
      "accuracy :  1.0\n",
      "precision :  1.0\n",
      "recall :  1.0\n",
      "auc :  1.0\n",
      "\n",
      "Legitimate Transactions Detected (True Negatives):  7950\n",
      "Legitimate Transactions Incorrectly Detected (False Positives):  0\n",
      "Fraudulent Transactions Missed (False Negatives):  0\n",
      "Fraudulent Transactions Detected (True Positives):  50\n",
      "Total Fraudulent Transactions:  50\n"
     ]
    },
    {
     "data": {
      "image/png": "[encoded data removed]",
      "text/plain": [
       "<Figure size 360x360 with 2 Axes>"
      ]
     },
     "metadata": {
      "needs_background": "light"
     },
     "output_type": "display_data"
    }
   ],
   "source": [
    "#Evaluate model\n",
    "train_predictions_baseline = model.predict(train_features, batch_size=BATCH_SIZE)\n",
    "test_predictions_baseline = model.predict(test_features, batch_size=BATCH_SIZE)\n",
    "\n",
    "baseline_results = model.evaluate(test_features, test_labels,\n",
    "                                  batch_size=BATCH_SIZE, verbose=0)\n",
    "for name, value in zip(model.metrics_names, baseline_results):\n",
    "  print(name, ': ', value)\n",
    "print()\n",
    "\n",
    "plot_cm(test_labels, test_predictions_baseline)"
   ]
  },
  {
   "cell_type": "markdown",
   "metadata": {},
   "source": [
    "After the training the model got the correct predictions on the test dataset. Next, lets test the model on the whole dataset."
   ]
  },
  {
   "cell_type": "markdown",
   "metadata": {},
   "source": [
    "## Test model on the whole dataset"
   ]
  },
  {
   "cell_type": "code",
   "execution_count": 279,
   "metadata": {},
   "outputs": [
    {
     "name": "stdout",
     "output_type": "stream",
     "text": [
      "loss :  0.0009000805385410785\n",
      "tp :  259.0\n",
      "fp :  0.0\n",
      "tn :  39741.0\n",
      "fn :  0.0\n",
      "accuracy :  1.0\n",
      "precision :  1.0\n",
      "recall :  1.0\n",
      "auc :  1.0\n",
      "\n",
      "Legitimate Transactions Detected (True Negatives):  39741\n",
      "Legitimate Transactions Incorrectly Detected (False Positives):  0\n",
      "Fraudulent Transactions Missed (False Negatives):  0\n",
      "Fraudulent Transactions Detected (True Positives):  259\n",
      "Total Fraudulent Transactions:  259\n"
     ]
    },
    {
     "data": {
      "image/png": "[encoded data removed]",
      "text/plain": [
       "<Figure size 360x360 with 2 Axes>"
      ]
     },
     "metadata": {
      "needs_background": "light"
     },
     "output_type": "display_data"
    }
   ],
   "source": [
    "#Evaluate model with the total dataset\n",
    "\n",
    "all_predictions_baseline = model.predict(X, batch_size=BATCH_SIZE)\n",
    "\n",
    "baseline_results = model.evaluate(X, y,\n",
    "                                  batch_size=BATCH_SIZE, verbose=0)\n",
    "for name, value in zip(model.metrics_names, baseline_results):\n",
    "  print(name, ': ', value)\n",
    "print()\n",
    "\n",
    "plot_cm(y, all_predictions_baseline)"
   ]
  },
  {
   "cell_type": "markdown",
   "metadata": {},
   "source": [
    "And there you have it! In the dataset there was 259 positive cases and 39741 negative cases. After adjusting the bias and training the model, the model has gotten good enough to predict all the postive results in the dataset. "
   ]
  },
  {
   "cell_type": "markdown",
   "metadata": {},
   "source": [
    "Imbalanced data classification is an inherantly difficult task since there are so few samples to learn from. You should always start with the data first and do your best to collect as many samples as possible and give substantial thought to what features may be relevant so the model can get the most out of your minority class. At some point your model may struggle to improve and yield the results you want, so it is important to keep in mind the context of your problem and the trade offs between different types of errors."
   ]
  },
  {
   "cell_type": "markdown",
   "metadata": {},
   "source": [
    "## Optimal: Calculating Class weights and trian model"
   ]
  },
  {
   "cell_type": "markdown",
   "metadata": {},
   "source": [
    "Had there still been trouble with model predicting on the dataset I would optimize the model by calulating the class weights and retraining the model to improve the predictions."
   ]
  },
  {
   "cell_type": "code",
   "execution_count": 280,
   "metadata": {},
   "outputs": [
    {
     "name": "stdout",
     "output_type": "stream",
     "text": [
      "Weight for class 0: 0.50\n",
      "Weight for class 1: 77.22\n"
     ]
    }
   ],
   "source": [
    "# Scaling by total/2 helps keep the loss to a similar magnitude.\n",
    "# The sum of the weights of all examples stays the same.\n",
    "weight_for_0 = (1 / neg)*(total)/2.0 \n",
    "weight_for_1 = (1 / pos)*(total)/2.0\n",
    "\n",
    "class_weight = {0: weight_for_0, 1: weight_for_1}\n",
    "\n",
    "print('Weight for class 0: {:.2f}'.format(weight_for_0))\n",
    "print('Weight for class 1: {:.2f}'.format(weight_for_1))"
   ]
  },
  {
   "cell_type": "code",
   "execution_count": 281,
   "metadata": {},
   "outputs": [
    {
     "name": "stdout",
     "output_type": "stream",
     "text": [
      "WARNING:tensorflow:sample_weight modes were coerced from\n",
      "  ...\n",
      "    to  \n",
      "  ['...']\n",
      "Train on 32000 samples\n",
      "Epoch 1/100\n",
      "32000/32000 [==============================] - 1s 37us/sample - loss: 2.8546 - tp: 0.0000e+00 - fp: 115.0000 - tn: 31676.0000 - fn: 209.0000 - accuracy: 0.9899 - precision: 0.0000e+00 - recall: 0.0000e+00 - auc: 0.3620\n",
      "Epoch 2/100\n",
      "32000/32000 [==============================] - 0s 3us/sample - loss: 2.6028 - tp: 1.0000 - fp: 149.0000 - tn: 31642.0000 - fn: 208.0000 - accuracy: 0.9888 - precision: 0.0067 - recall: 0.0048 - auc: 0.4297  \n",
      "Epoch 3/100\n",
      "32000/32000 [==============================] - 0s 3us/sample - loss: 2.3612 - tp: 2.0000 - fp: 231.0000 - tn: 31560.0000 - fn: 207.0000 - accuracy: 0.9863 - precision: 0.0086 - recall: 0.0096 - auc: 0.4676  \n",
      "Epoch 4/100\n",
      "32000/32000 [==============================] - 0s 3us/sample - loss: 2.1195 - tp: 5.0000 - fp: 303.0000 - tn: 31488.0000 - fn: 204.0000 - accuracy: 0.9842 - precision: 0.0162 - recall: 0.0239 - auc: 0.5358 \n",
      "Epoch 5/100\n",
      "32000/32000 [==============================] - 0s 3us/sample - loss: 1.9014 - tp: 12.0000 - fp: 468.0000 - tn: 31323.0000 - fn: 197.0000 - accuracy: 0.9792 - precision: 0.0250 - recall: 0.0574 - auc: 0.5898\n",
      "Epoch 6/100\n",
      "32000/32000 [==============================] - 0s 3us/sample - loss: 1.7474 - tp: 20.0000 - fp: 574.0000 - tn: 31217.0000 - fn: 189.0000 - accuracy: 0.9762 - precision: 0.0337 - recall: 0.0957 - auc: 0.6111\n",
      "Epoch 7/100\n",
      "32000/32000 [==============================] - 0s 3us/sample - loss: 1.5186 - tp: 30.0000 - fp: 713.0000 - tn: 31078.0000 - fn: 179.0000 - accuracy: 0.9721 - precision: 0.0404 - recall: 0.1435 - auc: 0.6748\n",
      "Epoch 8/100\n",
      "32000/32000 [==============================] - 0s 3us/sample - loss: 1.3738 - tp: 39.0000 - fp: 920.0000 - tn: 30871.0000 - fn: 170.0000 - accuracy: 0.9659 - precision: 0.0407 - recall: 0.1866 - auc: 0.6994\n",
      "Epoch 9/100\n",
      "32000/32000 [==============================] - 0s 3us/sample - loss: 1.1683 - tp: 59.0000 - fp: 1026.0000 - tn: 30765.0000 - fn: 150.0000 - accuracy: 0.9632 - precision: 0.0544 - recall: 0.2823 - auc: 0.7426\n",
      "Epoch 10/100\n",
      "32000/32000 [==============================] - 0s 3us/sample - loss: 1.1090 - tp: 64.0000 - fp: 1264.0000 - tn: 30527.0000 - fn: 145.0000 - accuracy: 0.9560 - precision: 0.0482 - recall: 0.3062 - auc: 0.7657\n",
      "Epoch 11/100\n",
      "32000/32000 [==============================] - 0s 2us/sample - loss: 0.9242 - tp: 79.0000 - fp: 1422.0000 - tn: 30369.0000 - fn: 130.0000 - accuracy: 0.9515 - precision: 0.0526 - recall: 0.3780 - auc: 0.7994\n",
      "Epoch 12/100\n",
      "32000/32000 [==============================] - 0s 2us/sample - loss: 0.8776 - tp: 88.0000 - fp: 1515.0000 - tn: 30276.0000 - fn: 121.0000 - accuracy: 0.9489 - precision: 0.0549 - recall: 0.4211 - auc: 0.8100\n",
      "Epoch 13/100\n",
      "32000/32000 [==============================] - 0s 3us/sample - loss: 0.7456 - tp: 107.0000 - fp: 1670.0000 - tn: 30121.0000 - fn: 102.0000 - accuracy: 0.9446 - precision: 0.0602 - recall: 0.5120 - auc: 0.8424\n",
      "Epoch 14/100\n",
      "32000/32000 [==============================] - 0s 3us/sample - loss: 0.6669 - tp: 125.0000 - fp: 1818.0000 - tn: 29973.0000 - fn: 84.0000 - accuracy: 0.9406 - precision: 0.0643 - recall: 0.5981 - auc: 0.8471\n",
      "Epoch 15/100\n",
      "32000/32000 [==============================] - 0s 3us/sample - loss: 0.6684 - tp: 123.0000 - fp: 1811.0000 - tn: 29980.0000 - fn: 86.0000 - accuracy: 0.9407 - precision: 0.0636 - recall: 0.5885 - auc: 0.8500\n",
      "Epoch 16/100\n",
      "32000/32000 [==============================] - 0s 2us/sample - loss: 0.6294 - tp: 129.0000 - fp: 1858.0000 - tn: 29933.0000 - fn: 80.0000 - accuracy: 0.9394 - precision: 0.0649 - recall: 0.6172 - auc: 0.8539\n",
      "Epoch 17/100\n",
      "32000/32000 [==============================] - 0s 3us/sample - loss: 0.5690 - tp: 141.0000 - fp: 1901.0000 - tn: 29890.0000 - fn: 68.0000 - accuracy: 0.9385 - precision: 0.0690 - recall: 0.6746 - auc: 0.8753\n",
      "Epoch 18/100\n",
      "32000/32000 [==============================] - 0s 3us/sample - loss: 0.5500 - tp: 141.0000 - fp: 1869.0000 - tn: 29922.0000 - fn: 68.0000 - accuracy: 0.9395 - precision: 0.0701 - recall: 0.6746 - auc: 0.8762\n",
      "Epoch 19/100\n",
      "32000/32000 [==============================] - 0s 3us/sample - loss: 0.4680 - tp: 147.0000 - fp: 1851.0000 - tn: 29940.0000 - fn: 62.0000 - accuracy: 0.9402 - precision: 0.0736 - recall: 0.7033 - auc: 0.9035\n",
      "Epoch 20/100\n",
      "32000/32000 [==============================] - 0s 3us/sample - loss: 0.5005 - tp: 149.0000 - fp: 1871.0000 - tn: 29920.0000 - fn: 60.0000 - accuracy: 0.9397 - precision: 0.0738 - recall: 0.7129 - auc: 0.8854\n",
      "Epoch 21/100\n",
      "32000/32000 [==============================] - 0s 2us/sample - loss: 0.4970 - tp: 149.0000 - fp: 1825.0000 - tn: 29966.0000 - fn: 60.0000 - accuracy: 0.9411 - precision: 0.0755 - recall: 0.7129 - auc: 0.8908\n",
      "Epoch 22/100\n",
      "32000/32000 [==============================] - 0s 3us/sample - loss: 0.4370 - tp: 156.0000 - fp: 1773.0000 - tn: 30018.0000 - fn: 53.0000 - accuracy: 0.9429 - precision: 0.0809 - recall: 0.7464 - auc: 0.9110\n",
      "Epoch 23/100\n",
      "32000/32000 [==============================] - 0s 2us/sample - loss: 0.3804 - tp: 164.0000 - fp: 1769.0000 - tn: 30022.0000 - fn: 45.0000 - accuracy: 0.9433 - precision: 0.0848 - recall: 0.7847 - auc: 0.9252\n",
      "Epoch 24/100\n",
      "32000/32000 [==============================] - 0s 2us/sample - loss: 0.3957 - tp: 165.0000 - fp: 1730.0000 - tn: 30061.0000 - fn: 44.0000 - accuracy: 0.9446 - precision: 0.0871 - recall: 0.7895 - auc: 0.9196\n",
      "Epoch 25/100\n",
      "32000/32000 [==============================] - 0s 2us/sample - loss: 0.3606 - tp: 165.0000 - fp: 1627.0000 - tn: 30164.0000 - fn: 44.0000 - accuracy: 0.9478 - precision: 0.0921 - recall: 0.7895 - auc: 0.9288\n",
      "Epoch 26/100\n",
      "32000/32000 [==============================] - 0s 3us/sample - loss: 0.3808 - tp: 170.0000 - fp: 1602.0000 - tn: 30189.0000 - fn: 39.0000 - accuracy: 0.9487 - precision: 0.0959 - recall: 0.8134 - auc: 0.9198\n",
      "Epoch 27/100\n",
      "32000/32000 [==============================] - 0s 2us/sample - loss: 0.3049 - tp: 175.0000 - fp: 1494.0000 - tn: 30297.0000 - fn: 34.0000 - accuracy: 0.9523 - precision: 0.1049 - recall: 0.8373 - auc: 0.9464\n",
      "Epoch 28/100\n",
      "32000/32000 [==============================] - 0s 2us/sample - loss: 0.3508 - tp: 167.0000 - fp: 1480.0000 - tn: 30311.0000 - fn: 42.0000 - accuracy: 0.9524 - precision: 0.1014 - recall: 0.7990 - auc: 0.9363\n",
      "Epoch 29/100\n",
      "32000/32000 [==============================] - 0s 2us/sample - loss: 0.2883 - tp: 178.0000 - fp: 1454.0000 - tn: 30337.0000 - fn: 31.0000 - accuracy: 0.9536 - precision: 0.1091 - recall: 0.8517 - auc: 0.9492\n",
      "Epoch 30/100\n",
      "32000/32000 [==============================] - 0s 2us/sample - loss: 0.2960 - tp: 172.0000 - fp: 1344.0000 - tn: 30447.0000 - fn: 37.0000 - accuracy: 0.9568 - precision: 0.1135 - recall: 0.8230 - auc: 0.9515\n",
      "Epoch 31/100\n",
      "32000/32000 [==============================] - 0s 2us/sample - loss: 0.2319 - tp: 181.0000 - fp: 1280.0000 - tn: 30511.0000 - fn: 28.0000 - accuracy: 0.9591 - precision: 0.1239 - recall: 0.8660 - auc: 0.9689\n",
      "Epoch 32/100\n",
      "32000/32000 [==============================] - 0s 2us/sample - loss: 0.3130 - tp: 170.0000 - fp: 1250.0000 - tn: 30541.0000 - fn: 39.0000 - accuracy: 0.9597 - precision: 0.1197 - recall: 0.8134 - auc: 0.9454\n",
      "Epoch 33/100\n",
      "32000/32000 [==============================] - 0s 2us/sample - loss: 0.2655 - tp: 174.0000 - fp: 1256.0000 - tn: 30535.0000 - fn: 35.0000 - accuracy: 0.9597 - precision: 0.1217 - recall: 0.8325 - auc: 0.9570\n",
      "Epoch 34/100\n",
      "32000/32000 [==============================] - 0s 2us/sample - loss: 0.2122 - tp: 180.0000 - fp: 1248.0000 - tn: 30543.0000 - fn: 29.0000 - accuracy: 0.9601 - precision: 0.1261 - recall: 0.8612 - auc: 0.9737\n",
      "Epoch 35/100\n",
      "32000/32000 [==============================] - 0s 2us/sample - loss: 0.2371 - tp: 182.0000 - fp: 1136.0000 - tn: 30655.0000 - fn: 27.0000 - accuracy: 0.9637 - precision: 0.1381 - recall: 0.8708 - auc: 0.9640\n",
      "Epoch 36/100\n",
      "32000/32000 [==============================] - 0s 2us/sample - loss: 0.2184 - tp: 184.0000 - fp: 1104.0000 - tn: 30687.0000 - fn: 25.0000 - accuracy: 0.9647 - precision: 0.1429 - recall: 0.8804 - auc: 0.9669\n",
      "Epoch 37/100\n"
     ]
    },
    {
     "name": "stdout",
     "output_type": "stream",
     "text": [
      "32000/32000 [==============================] - 0s 3us/sample - loss: 0.1785 - tp: 190.0000 - fp: 1125.0000 - tn: 30666.0000 - fn: 19.0000 - accuracy: 0.9643 - precision: 0.1445 - recall: 0.9091 - auc: 0.9775\n",
      "Epoch 38/100\n",
      "32000/32000 [==============================] - 0s 2us/sample - loss: 0.2368 - tp: 181.0000 - fp: 1046.0000 - tn: 30745.0000 - fn: 28.0000 - accuracy: 0.9664 - precision: 0.1475 - recall: 0.8660 - auc: 0.9666\n",
      "Epoch 39/100\n",
      "32000/32000 [==============================] - 0s 2us/sample - loss: 0.2056 - tp: 184.0000 - fp: 1028.0000 - tn: 30763.0000 - fn: 25.0000 - accuracy: 0.9671 - precision: 0.1518 - recall: 0.8804 - auc: 0.9766\n",
      "Epoch 40/100\n",
      "32000/32000 [==============================] - 0s 2us/sample - loss: 0.1341 - tp: 193.0000 - fp: 959.0000 - tn: 30832.0000 - fn: 16.0000 - accuracy: 0.9695 - precision: 0.1675 - recall: 0.9234 - auc: 0.9889\n",
      "Epoch 41/100\n",
      "32000/32000 [==============================] - 0s 2us/sample - loss: 0.2104 - tp: 186.0000 - fp: 958.0000 - tn: 30833.0000 - fn: 23.0000 - accuracy: 0.9693 - precision: 0.1626 - recall: 0.8900 - auc: 0.9727\n",
      "Epoch 42/100\n",
      "32000/32000 [==============================] - 0s 2us/sample - loss: 0.1700 - tp: 192.0000 - fp: 914.0000 - tn: 30877.0000 - fn: 17.0000 - accuracy: 0.9709 - precision: 0.1736 - recall: 0.9187 - auc: 0.9798\n",
      "Epoch 43/100\n",
      "32000/32000 [==============================] - 0s 2us/sample - loss: 0.1896 - tp: 184.0000 - fp: 889.0000 - tn: 30902.0000 - fn: 25.0000 - accuracy: 0.9714 - precision: 0.1715 - recall: 0.8804 - auc: 0.9780\n",
      "Epoch 44/100\n",
      "32000/32000 [==============================] - 0s 2us/sample - loss: 0.1520 - tp: 192.0000 - fp: 834.0000 - tn: 30957.0000 - fn: 17.0000 - accuracy: 0.9734 - precision: 0.1871 - recall: 0.9187 - auc: 0.9858\n",
      "Epoch 45/100\n",
      "32000/32000 [==============================] - 0s 2us/sample - loss: 0.1613 - tp: 190.0000 - fp: 820.0000 - tn: 30971.0000 - fn: 19.0000 - accuracy: 0.9738 - precision: 0.1881 - recall: 0.9091 - auc: 0.9830\n",
      "Epoch 46/100\n",
      "32000/32000 [==============================] - 0s 2us/sample - loss: 0.1522 - tp: 190.0000 - fp: 780.0000 - tn: 31011.0000 - fn: 19.0000 - accuracy: 0.9750 - precision: 0.1959 - recall: 0.9091 - auc: 0.9850\n",
      "Epoch 47/100\n",
      "32000/32000 [==============================] - 0s 2us/sample - loss: 0.1301 - tp: 195.0000 - fp: 787.0000 - tn: 31004.0000 - fn: 14.0000 - accuracy: 0.9750 - precision: 0.1986 - recall: 0.9330 - auc: 0.9869\n",
      "Epoch 48/100\n",
      "32000/32000 [==============================] - 0s 3us/sample - loss: 0.0965 - tp: 200.0000 - fp: 727.0000 - tn: 31064.0000 - fn: 9.0000 - accuracy: 0.9770 - precision: 0.2157 - recall: 0.9569 - auc: 0.9953\n",
      "Epoch 49/100\n",
      "32000/32000 [==============================] - 0s 4us/sample - loss: 0.1558 - tp: 186.0000 - fp: 684.0000 - tn: 31107.0000 - fn: 23.0000 - accuracy: 0.9779 - precision: 0.2138 - recall: 0.8900 - auc: 0.9872\n",
      "Epoch 50/100\n",
      "32000/32000 [==============================] - 0s 3us/sample - loss: 0.1430 - tp: 194.0000 - fp: 671.0000 - tn: 31120.0000 - fn: 15.0000 - accuracy: 0.9786 - precision: 0.2243 - recall: 0.9282 - auc: 0.9852\n",
      "Epoch 51/100\n",
      "32000/32000 [==============================] - 0s 3us/sample - loss: 0.1357 - tp: 194.0000 - fp: 633.0000 - tn: 31158.0000 - fn: 15.0000 - accuracy: 0.9797 - precision: 0.2346 - recall: 0.9282 - auc: 0.9873\n",
      "Epoch 52/100\n",
      "32000/32000 [==============================] - 0s 3us/sample - loss: 0.1266 - tp: 196.0000 - fp: 607.0000 - tn: 31184.0000 - fn: 13.0000 - accuracy: 0.9806 - precision: 0.2441 - recall: 0.9378 - auc: 0.9865\n",
      "Epoch 53/100\n",
      "32000/32000 [==============================] - 0s 3us/sample - loss: 0.1357 - tp: 188.0000 - fp: 586.0000 - tn: 31205.0000 - fn: 21.0000 - accuracy: 0.9810 - precision: 0.2429 - recall: 0.8995 - auc: 0.9890\n",
      "Epoch 54/100\n",
      "32000/32000 [==============================] - 0s 3us/sample - loss: 0.1523 - tp: 191.0000 - fp: 594.0000 - tn: 31197.0000 - fn: 18.0000 - accuracy: 0.9809 - precision: 0.2433 - recall: 0.9139 - auc: 0.9836\n",
      "Epoch 55/100\n",
      "32000/32000 [==============================] - 0s 4us/sample - loss: 0.1285 - tp: 194.0000 - fp: 580.0000 - tn: 31211.0000 - fn: 15.0000 - accuracy: 0.9814 - precision: 0.2506 - recall: 0.9282 - auc: 0.9883\n",
      "Epoch 56/100\n",
      "32000/32000 [==============================] - 0s 3us/sample - loss: 0.1596 - tp: 186.0000 - fp: 551.0000 - tn: 31240.0000 - fn: 23.0000 - accuracy: 0.9821 - precision: 0.2524 - recall: 0.8900 - auc: 0.9830\n",
      "Epoch 57/100\n",
      "32000/32000 [==============================] - 0s 3us/sample - loss: 0.1015 - tp: 199.0000 - fp: 563.0000 - tn: 31228.0000 - fn: 10.0000 - accuracy: 0.9821 - precision: 0.2612 - recall: 0.9522 - auc: 0.9934\n",
      "Epoch 58/100\n",
      "32000/32000 [==============================] - 0s 3us/sample - loss: 0.0891 - tp: 199.0000 - fp: 539.0000 - tn: 31252.0000 - fn: 10.0000 - accuracy: 0.9828 - precision: 0.2696 - recall: 0.9522 - auc: 0.9962\n",
      "Epoch 59/100\n",
      "32000/32000 [==============================] - 0s 3us/sample - loss: 0.1073 - tp: 197.0000 - fp: 527.0000 - tn: 31264.0000 - fn: 12.0000 - accuracy: 0.9832 - precision: 0.2721 - recall: 0.9426 - auc: 0.9914\n",
      "Epoch 60/100\n",
      "32000/32000 [==============================] - 0s 3us/sample - loss: 0.0905 - tp: 198.0000 - fp: 499.0000 - tn: 31292.0000 - fn: 11.0000 - accuracy: 0.9841 - precision: 0.2841 - recall: 0.9474 - auc: 0.9953\n",
      "Epoch 61/100\n",
      "32000/32000 [==============================] - 0s 3us/sample - loss: 0.1166 - tp: 196.0000 - fp: 503.0000 - tn: 31288.0000 - fn: 13.0000 - accuracy: 0.9839 - precision: 0.2804 - recall: 0.9378 - auc: 0.9913\n",
      "Epoch 62/100\n",
      "32000/32000 [==============================] - 0s 3us/sample - loss: 0.1124 - tp: 192.0000 - fp: 444.0000 - tn: 31347.0000 - fn: 17.0000 - accuracy: 0.9856 - precision: 0.3019 - recall: 0.9187 - auc: 0.9926\n",
      "Epoch 63/100\n",
      "32000/32000 [==============================] - 0s 3us/sample - loss: 0.0898 - tp: 202.0000 - fp: 442.0000 - tn: 31349.0000 - fn: 7.0000 - accuracy: 0.9860 - precision: 0.3137 - recall: 0.9665 - auc: 0.9917\n",
      "Epoch 64/100\n",
      "32000/32000 [==============================] - 0s 2us/sample - loss: 0.0985 - tp: 200.0000 - fp: 451.0000 - tn: 31340.0000 - fn: 9.0000 - accuracy: 0.9856 - precision: 0.3072 - recall: 0.9569 - auc: 0.9894\n",
      "Epoch 65/100\n",
      "32000/32000 [==============================] - 0s 2us/sample - loss: 0.0999 - tp: 196.0000 - fp: 431.0000 - tn: 31360.0000 - fn: 13.0000 - accuracy: 0.9861 - precision: 0.3126 - recall: 0.9378 - auc: 0.9912\n",
      "Epoch 66/100\n",
      "32000/32000 [==============================] - 0s 3us/sample - loss: 0.1075 - tp: 195.0000 - fp: 427.0000 - tn: 31364.0000 - fn: 14.0000 - accuracy: 0.9862 - precision: 0.3135 - recall: 0.9330 - auc: 0.9906\n",
      "Epoch 67/100\n",
      "32000/32000 [==============================] - 0s 3us/sample - loss: 0.0859 - tp: 199.0000 - fp: 369.0000 - tn: 31422.0000 - fn: 10.0000 - accuracy: 0.9882 - precision: 0.3504 - recall: 0.9522 - auc: 0.9935\n",
      "Epoch 68/100\n",
      "20480/32000 [==================>...........] - ETA: 0s - loss: 0.0869 - tp: 132.0000 - fp: 266.0000 - tn: 20076.0000 - fn: 6.0000 - accuracy: 0.9867 - precision: 0.3317 - recall: 0.9565 - auc: 0.9950Restoring model weights from the end of the best epoch.\n",
      "32000/32000 [==============================] - 0s 3us/sample - loss: 0.0815 - tp: 201.0000 - fp: 406.0000 - tn: 31385.0000 - fn: 8.0000 - accuracy: 0.9871 - precision: 0.3311 - recall: 0.9617 - auc: 0.9936\n",
      "Epoch 00068: early stopping\n"
     ]
    }
   ],
   "source": [
    "weighted_model = make_model()\n",
    "weighted_model.load_weights(initial_weights)\n",
    "\n",
    "weighted_history = weighted_model.fit(\n",
    "    train_features,\n",
    "    train_labels,\n",
    "    batch_size=BATCH_SIZE,\n",
    "    epochs=EPOCHS,\n",
    "    callbacks = [early_stopping],\n",
    "    # The class weights go here\n",
    "    class_weight=class_weight) "
   ]
  },
  {
   "cell_type": "code",
   "execution_count": 282,
   "metadata": {},
   "outputs": [
    {
     "name": "stdout",
     "output_type": "stream",
     "text": [
      "loss :  0.016909409016370773\n",
      "tp :  50.0\n",
      "fp :  0.0\n",
      "tn :  7950.0\n",
      "fn :  0.0\n",
      "accuracy :  1.0\n",
      "precision :  1.0\n",
      "recall :  1.0\n",
      "auc :  1.0\n",
      "\n",
      "Legitimate Transactions Detected (True Negatives):  7950\n",
      "Legitimate Transactions Incorrectly Detected (False Positives):  0\n",
      "Fraudulent Transactions Missed (False Negatives):  0\n",
      "Fraudulent Transactions Detected (True Positives):  50\n",
      "Total Fraudulent Transactions:  50\n"
     ]
    },
    {
     "data": {
      "image/png": "[encoded data removed]",
      "text/plain": [
       "<Figure size 360x360 with 2 Axes>"
      ]
     },
     "metadata": {
      "needs_background": "light"
     },
     "output_type": "display_data"
    }
   ],
   "source": [
    "#Evaluate model\n",
    "train_predictions_weighted = weighted_model.predict(train_features, batch_size=BATCH_SIZE)\n",
    "test_predictions_weighted = weighted_model.predict(test_features, batch_size=BATCH_SIZE)\n",
    "\n",
    "weighted_results = weighted_model.evaluate(test_features, test_labels,\n",
    "                                           batch_size=BATCH_SIZE, verbose=0)\n",
    "for name, value in zip(weighted_model.metrics_names, weighted_results):\n",
    "  print(name, ': ', value)\n",
    "print()\n",
    "\n",
    "plot_cm(test_labels, test_predictions_weighted)"
   ]
  },
  {
   "cell_type": "markdown",
   "metadata": {},
   "source": [
    "## Optional: Oversample and train model"
   ]
  },
  {
   "cell_type": "markdown",
   "metadata": {},
   "source": [
    "Another way to optimize the model is by oversample the positive class in the dataset to improve the predictions."
   ]
  },
  {
   "cell_type": "code",
   "execution_count": 283,
   "metadata": {},
   "outputs": [
    {
     "name": "stdout",
     "output_type": "stream",
     "text": [
      "(31791, 12)\n",
      "(63582, 12)\n"
     ]
    }
   ],
   "source": [
    "bool_train_labels = train_labels != 0\n",
    "\n",
    "pos_features = train_features[bool_train_labels]\n",
    "neg_features = train_features[~bool_train_labels]\n",
    "\n",
    "pos_labels = train_labels[bool_train_labels]\n",
    "neg_labels = train_labels[~bool_train_labels]\n",
    "\n",
    "ids = np.arange(len(pos_features))\n",
    "choices = np.random.choice(ids, len(neg_features))\n",
    "\n",
    "res_pos_features = pos_features[choices]\n",
    "res_pos_labels = pos_labels[choices]\n",
    "\n",
    "print(res_pos_features.shape)\n",
    "\n",
    "resampled_features = np.concatenate([res_pos_features, neg_features], axis=0)\n",
    "resampled_labels = np.concatenate([res_pos_labels, neg_labels], axis=0)\n",
    "\n",
    "order = np.arange(len(resampled_labels))\n",
    "np.random.shuffle(order)\n",
    "resampled_features = resampled_features[order]\n",
    "resampled_labels = resampled_labels[order]\n",
    "\n",
    "print(resampled_features.shape)"
   ]
  },
  {
   "cell_type": "code",
   "execution_count": 284,
   "metadata": {},
   "outputs": [
    {
     "name": "stdout",
     "output_type": "stream",
     "text": [
      "Features:\n",
      " [ 1.17231445 -2.09014084 -0.34891614  2.47122642 -0.28822726  0.26693968\n",
      " -0.11277469  0.42417405 -0.9999875  -5.         -0.84908884  1.6215586 ]\n",
      "\n",
      "Label:  1\n"
     ]
    }
   ],
   "source": [
    "BUFFER_SIZE = 100000\n",
    "\n",
    "def make_ds(features, labels):\n",
    "  ds = tf.data.Dataset.from_tensor_slices((features, labels))#.cache()\n",
    "  ds = ds.shuffle(BUFFER_SIZE).repeat()\n",
    "  return ds\n",
    "\n",
    "pos_ds = make_ds(pos_features, pos_labels)\n",
    "neg_ds = make_ds(neg_features, neg_labels)\n",
    "\n",
    "for features, label in pos_ds.take(1):\n",
    "  print(\"Features:\\n\", features.numpy())\n",
    "  print()\n",
    "  print(\"Label: \", label.numpy())"
   ]
  },
  {
   "cell_type": "code",
   "execution_count": 285,
   "metadata": {},
   "outputs": [
    {
     "name": "stdout",
     "output_type": "stream",
     "text": [
      "0.4912109375\n"
     ]
    }
   ],
   "source": [
    "resampled_ds = tf.data.experimental.sample_from_datasets([pos_ds, neg_ds], weights=[0.5, 0.5])\n",
    "resampled_ds = resampled_ds.batch(BATCH_SIZE).prefetch(2)\n",
    "\n",
    "for features, label in resampled_ds.take(1):\n",
    "  print(label.numpy().mean())"
   ]
  },
  {
   "cell_type": "code",
   "execution_count": 286,
   "metadata": {},
   "outputs": [
    {
     "name": "stdout",
     "output_type": "stream",
     "text": [
      "Train for 39.0 steps\n",
      "Epoch 1/100\n",
      "39/39 [==============================] - 3s 83ms/step - loss: 1.0432 - tp: 17506.0000 - fp: 23744.0000 - tn: 16174.0000 - fn: 22448.0000 - accuracy: 0.4217 - precision: 0.4244 - recall: 0.4382 - auc: 0.3919\n",
      "Epoch 2/100\n",
      "39/39 [==============================] - 2s 39ms/step - loss: 0.7835 - tp: 24281.0000 - fp: 19823.0000 - tn: 20047.0000 - fn: 15721.0000 - accuracy: 0.5550 - precision: 0.5505 - recall: 0.6070 - auc: 0.5872\n",
      "Epoch 3/100\n",
      "39/39 [==============================] - 1s 37ms/step - loss: 0.6085 - tp: 29519.0000 - fp: 15106.0000 - tn: 24807.0000 - fn: 10440.0000 - accuracy: 0.6802 - precision: 0.6615 - recall: 0.7387 - auc: 0.7511\n",
      "Epoch 4/100\n",
      "39/39 [==============================] - 1s 36ms/step - loss: 0.4832 - tp: 32698.0000 - fp: 10616.0000 - tn: 29269.0000 - fn: 7289.0000 - accuracy: 0.7758 - precision: 0.7549 - recall: 0.8177 - auc: 0.8552\n",
      "Epoch 5/100\n",
      "39/39 [==============================] - 1s 34ms/step - loss: 0.4007 - tp: 34349.0000 - fp: 7364.0000 - tn: 32615.0000 - fn: 5544.0000 - accuracy: 0.8384 - precision: 0.8235 - recall: 0.8610 - auc: 0.9098\n",
      "Epoch 6/100\n",
      "39/39 [==============================] - 1s 33ms/step - loss: 0.3322 - tp: 35519.0000 - fp: 4777.0000 - tn: 35150.0000 - fn: 4426.0000 - accuracy: 0.8848 - precision: 0.8815 - recall: 0.8892 - auc: 0.9448\n",
      "Epoch 7/100\n",
      "39/39 [==============================] - 1s 38ms/step - loss: 0.2828 - tp: 36489.0000 - fp: 3319.0000 - tn: 36550.0000 - fn: 3514.0000 - accuracy: 0.9145 - precision: 0.9166 - recall: 0.9122 - auc: 0.9638\n",
      "Epoch 8/100\n",
      "39/39 [==============================] - 1s 36ms/step - loss: 0.2459 - tp: 36999.0000 - fp: 2298.0000 - tn: 37493.0000 - fn: 3082.0000 - accuracy: 0.9326 - precision: 0.9415 - recall: 0.9231 - auc: 0.9740\n",
      "Epoch 9/100\n",
      "39/39 [==============================] - 1s 38ms/step - loss: 0.2139 - tp: 37400.0000 - fp: 1619.0000 - tn: 38281.0000 - fn: 2572.0000 - accuracy: 0.9475 - precision: 0.9585 - recall: 0.9357 - auc: 0.9822\n",
      "Epoch 10/100\n",
      "39/39 [==============================] - 1s 35ms/step - loss: 0.1908 - tp: 37651.0000 - fp: 1243.0000 - tn: 38588.0000 - fn: 2390.0000 - accuracy: 0.9545 - precision: 0.9680 - recall: 0.9403 - auc: 0.9862\n",
      "Epoch 11/100\n",
      "39/39 [==============================] - 1s 36ms/step - loss: 0.1685 - tp: 37876.0000 - fp: 1008.0000 - tn: 38941.0000 - fn: 2047.0000 - accuracy: 0.9618 - precision: 0.9741 - recall: 0.9487 - auc: 0.9902\n",
      "Epoch 12/100\n",
      "39/39 [==============================] - 2s 42ms/step - loss: 0.1525 - tp: 38093.0000 - fp: 803.0000 - tn: 39193.0000 - fn: 1783.0000 - accuracy: 0.9676 - precision: 0.9794 - recall: 0.9553 - auc: 0.9921\n",
      "Epoch 13/100\n",
      "39/39 [==============================] - 1s 36ms/step - loss: 0.1391 - tp: 38015.0000 - fp: 657.0000 - tn: 39470.0000 - fn: 1730.0000 - accuracy: 0.9701 - precision: 0.9830 - recall: 0.9565 - auc: 0.9934\n",
      "Epoch 14/100\n",
      "39/39 [==============================] - 2s 39ms/step - loss: 0.1260 - tp: 38541.0000 - fp: 555.0000 - tn: 39273.0000 - fn: 1503.0000 - accuracy: 0.9742 - precision: 0.9858 - recall: 0.9625 - auc: 0.9949\n",
      "Epoch 15/100\n",
      "39/39 [==============================] - 1s 32ms/step - loss: 0.1156 - tp: 38856.0000 - fp: 484.0000 - tn: 39111.0000 - fn: 1421.0000 - accuracy: 0.9761 - precision: 0.9877 - recall: 0.9647 - auc: 0.9955\n",
      "Epoch 16/100\n",
      "39/39 [==============================] - 1s 33ms/step - loss: 0.1076 - tp: 38408.0000 - fp: 495.0000 - tn: 39573.0000 - fn: 1396.0000 - accuracy: 0.9763 - precision: 0.9873 - recall: 0.9649 - auc: 0.9960\n",
      "Epoch 17/100\n",
      "39/39 [==============================] - 1s 31ms/step - loss: 0.0999 - tp: 38723.0000 - fp: 424.0000 - tn: 39346.0000 - fn: 1379.0000 - accuracy: 0.9774 - precision: 0.9892 - recall: 0.9656 - auc: 0.9963\n",
      "Epoch 18/100\n",
      "39/39 [==============================] - 1s 31ms/step - loss: 0.0914 - tp: 38795.0000 - fp: 374.0000 - tn: 39492.0000 - fn: 1211.0000 - accuracy: 0.9802 - precision: 0.9905 - recall: 0.9697 - auc: 0.9971\n",
      "Epoch 19/100\n",
      "39/39 [==============================] - 1s 31ms/step - loss: 0.0857 - tp: 38924.0000 - fp: 345.0000 - tn: 39406.0000 - fn: 1197.0000 - accuracy: 0.9807 - precision: 0.9912 - recall: 0.9702 - auc: 0.9974\n",
      "Epoch 20/100\n",
      "39/39 [==============================] - 1s 32ms/step - loss: 0.0811 - tp: 38935.0000 - fp: 325.0000 - tn: 39455.0000 - fn: 1157.0000 - accuracy: 0.9814 - precision: 0.9917 - recall: 0.9711 - auc: 0.9976\n",
      "Epoch 21/100\n",
      "39/39 [==============================] - 1s 34ms/step - loss: 0.0768 - tp: 38913.0000 - fp: 289.0000 - tn: 39522.0000 - fn: 1148.0000 - accuracy: 0.9820 - precision: 0.9926 - recall: 0.9713 - auc: 0.9977\n",
      "Epoch 22/100\n",
      "39/39 [==============================] - 1s 33ms/step - loss: 0.0734 - tp: 38912.0000 - fp: 257.0000 - tn: 39645.0000 - fn: 1058.0000 - accuracy: 0.9835 - precision: 0.9934 - recall: 0.9735 - auc: 0.9979\n",
      "Epoch 23/100\n",
      "39/39 [==============================] - 1s 32ms/step - loss: 0.0691 - tp: 39010.0000 - fp: 258.0000 - tn: 39603.0000 - fn: 1001.0000 - accuracy: 0.9842 - precision: 0.9934 - recall: 0.9750 - auc: 0.9982\n",
      "Epoch 24/100\n",
      "39/39 [==============================] - 1s 33ms/step - loss: 0.0659 - tp: 39116.0000 - fp: 221.0000 - tn: 39537.0000 - fn: 998.0000 - accuracy: 0.9847 - precision: 0.9944 - recall: 0.9751 - auc: 0.9983\n",
      "Epoch 25/100\n",
      "39/39 [==============================] - 1s 32ms/step - loss: 0.0609 - tp: 39012.0000 - fp: 200.0000 - tn: 39748.0000 - fn: 912.0000 - accuracy: 0.9861 - precision: 0.9949 - recall: 0.9772 - auc: 0.9988\n",
      "Epoch 26/100\n",
      "39/39 [==============================] - 1s 33ms/step - loss: 0.0569 - tp: 39273.0000 - fp: 165.0000 - tn: 39704.0000 - fn: 730.0000 - accuracy: 0.9888 - precision: 0.9958 - recall: 0.9818 - auc: 0.9990\n",
      "Epoch 27/100\n",
      "39/39 [==============================] - 1s 31ms/step - loss: 0.0533 - tp: 39339.0000 - fp: 123.0000 - tn: 39871.0000 - fn: 539.0000 - accuracy: 0.9917 - precision: 0.9969 - recall: 0.9865 - auc: 0.9992\n",
      "Epoch 28/100\n",
      "39/39 [==============================] - 1s 34ms/step - loss: 0.0493 - tp: 39356.0000 - fp: 125.0000 - tn: 39929.0000 - fn: 462.0000 - accuracy: 0.9927 - precision: 0.9968 - recall: 0.9884 - auc: 0.9992\n",
      "Epoch 29/100\n",
      "39/39 [==============================] - 1s 35ms/step - loss: 0.0469 - tp: 39272.0000 - fp: 86.0000 - tn: 40062.0000 - fn: 452.0000 - accuracy: 0.9933 - precision: 0.9978 - recall: 0.9886 - auc: 0.9993\n",
      "Epoch 30/100\n",
      "39/39 [==============================] - 1s 30ms/step - loss: 0.0446 - tp: 39521.0000 - fp: 96.0000 - tn: 39790.0000 - fn: 465.0000 - accuracy: 0.9930 - precision: 0.9976 - recall: 0.9884 - auc: 0.9994\n",
      "Epoch 31/100\n",
      "39/39 [==============================] - 1s 30ms/step - loss: 0.0428 - tp: 39362.0000 - fp: 71.0000 - tn: 39961.0000 - fn: 478.0000 - accuracy: 0.9931 - precision: 0.9982 - recall: 0.9880 - auc: 0.9993\n",
      "Epoch 32/100\n",
      "39/39 [==============================] - 1s 31ms/step - loss: 0.0395 - tp: 39574.0000 - fp: 84.0000 - tn: 39809.0000 - fn: 405.0000 - accuracy: 0.9939 - precision: 0.9979 - recall: 0.9899 - auc: 0.9995\n",
      "Epoch 33/100\n",
      "39/39 [==============================] - 1s 30ms/step - loss: 0.0384 - tp: 39572.0000 - fp: 50.0000 - tn: 39820.0000 - fn: 430.0000 - accuracy: 0.9940 - precision: 0.9987 - recall: 0.9893 - auc: 0.9995\n",
      "Epoch 34/100\n",
      "39/39 [==============================] - 1s 30ms/step - loss: 0.0367 - tp: 39682.0000 - fp: 51.0000 - tn: 39750.0000 - fn: 389.0000 - accuracy: 0.9945 - precision: 0.9987 - recall: 0.9903 - auc: 0.9995\n",
      "Epoch 35/100\n",
      "39/39 [==============================] - 1s 30ms/step - loss: 0.0360 - tp: 39527.0000 - fp: 43.0000 - tn: 39886.0000 - fn: 416.0000 - accuracy: 0.9943 - precision: 0.9989 - recall: 0.9896 - auc: 0.9995\n",
      "Epoch 36/100\n",
      "39/39 [==============================] - 1s 33ms/step - loss: 0.0344 - tp: 39487.0000 - fp: 39.0000 - tn: 39988.0000 - fn: 358.0000 - accuracy: 0.9950 - precision: 0.9990 - recall: 0.9910 - auc: 0.9996\n",
      "Epoch 37/100\n",
      "39/39 [==============================] - 1s 32ms/step - loss: 0.0329 - tp: 39410.0000 - fp: 31.0000 - tn: 40067.0000 - fn: 364.0000 - accuracy: 0.9951 - precision: 0.9992 - recall: 0.9908 - auc: 0.9996\n",
      "Epoch 38/100\n"
     ]
    },
    {
     "name": "stdout",
     "output_type": "stream",
     "text": [
      "39/39 [==============================] - 1s 30ms/step - loss: 0.0315 - tp: 39478.0000 - fp: 27.0000 - tn: 40022.0000 - fn: 345.0000 - accuracy: 0.9953 - precision: 0.9993 - recall: 0.9913 - auc: 0.9997 0s - loss: 0.0323 - tp: 15139.0000 - fp: 14.0000 - tn: 15414.0000 - fn: 153.0000 - accuracy: 0.9946 - precision: 0.9991 - re\n",
      "Epoch 39/100\n",
      "39/39 [==============================] - 1s 32ms/step - loss: 0.0297 - tp: 39397.0000 - fp: 17.0000 - tn: 40169.0000 - fn: 289.0000 - accuracy: 0.9962 - precision: 0.9996 - recall: 0.9927 - auc: 0.9997\n",
      "Epoch 40/100\n",
      "39/39 [==============================] - 1s 31ms/step - loss: 0.0291 - tp: 39446.0000 - fp: 10.0000 - tn: 40145.0000 - fn: 271.0000 - accuracy: 0.9965 - precision: 0.9997 - recall: 0.9932 - auc: 0.9996\n",
      "Epoch 41/100\n",
      "39/39 [==============================] - 1s 30ms/step - loss: 0.0270 - tp: 39663.0000 - fp: 9.0000 - tn: 39959.0000 - fn: 241.0000 - accuracy: 0.9969 - precision: 0.9998 - recall: 0.9940 - auc: 0.9997\n",
      "Epoch 42/100\n",
      "39/39 [==============================] - 1s 31ms/step - loss: 0.0261 - tp: 39796.0000 - fp: 8.0000 - tn: 39835.0000 - fn: 233.0000 - accuracy: 0.9970 - precision: 0.9998 - recall: 0.9942 - auc: 0.9997\n",
      "Epoch 43/100\n",
      "39/39 [==============================] - 1s 31ms/step - loss: 0.0244 - tp: 39544.0000 - fp: 9.0000 - tn: 40125.0000 - fn: 194.0000 - accuracy: 0.9975 - precision: 0.9998 - recall: 0.9951 - auc: 0.9998\n",
      "Epoch 44/100\n",
      "39/39 [==============================] - 1s 34ms/step - loss: 0.0239 - tp: 39780.0000 - fp: 6.0000 - tn: 39869.0000 - fn: 217.0000 - accuracy: 0.9972 - precision: 0.9998 - recall: 0.9946 - auc: 0.9997\n",
      "Epoch 45/100\n",
      "39/39 [==============================] - 2s 39ms/step - loss: 0.0227 - tp: 39729.0000 - fp: 3.0000 - tn: 39955.0000 - fn: 185.0000 - accuracy: 0.9976 - precision: 0.9999 - recall: 0.9954 - auc: 0.9998\n",
      "Epoch 46/100\n",
      "39/39 [==============================] - 2s 39ms/step - loss: 0.0227 - tp: 39708.0000 - fp: 3.0000 - tn: 39943.0000 - fn: 218.0000 - accuracy: 0.9972 - precision: 0.9999 - recall: 0.9945 - auc: 0.9998\n",
      "Epoch 47/100\n",
      "39/39 [==============================] - 1s 38ms/step - loss: 0.0219 - tp: 39816.0000 - fp: 2.0000 - tn: 39876.0000 - fn: 178.0000 - accuracy: 0.9977 - precision: 0.9999 - recall: 0.9955 - auc: 0.9998\n",
      "Epoch 48/100\n",
      "39/39 [==============================] - 2s 39ms/step - loss: 0.0210 - tp: 39686.0000 - fp: 4.0000 - tn: 40004.0000 - fn: 178.0000 - accuracy: 0.9977 - precision: 0.9999 - recall: 0.9955 - auc: 0.9998\n",
      "Epoch 49/100\n",
      "39/39 [==============================] - 1s 37ms/step - loss: 0.0206 - tp: 39702.0000 - fp: 2.0000 - tn: 39982.0000 - fn: 186.0000 - accuracy: 0.9976 - precision: 0.9999 - recall: 0.9953 - auc: 0.9998\n",
      "Epoch 50/100\n",
      "39/39 [==============================] - 1s 32ms/step - loss: 0.0199 - tp: 39281.0000 - fp: 1.0000 - tn: 40427.0000 - fn: 163.0000 - accuracy: 0.9979 - precision: 1.0000 - recall: 0.9959 - auc: 0.9998\n",
      "Epoch 51/100\n",
      "39/39 [==============================] - 1s 35ms/step - loss: 0.0204 - tp: 39643.0000 - fp: 0.0000e+00 - tn: 40035.0000 - fn: 194.0000 - accuracy: 0.9976 - precision: 1.0000 - recall: 0.9951 - auc: 0.9997\n",
      "Epoch 52/100\n",
      "39/39 [==============================] - 1s 33ms/step - loss: 0.0191 - tp: 39701.0000 - fp: 1.0000 - tn: 39988.0000 - fn: 182.0000 - accuracy: 0.9977 - precision: 1.0000 - recall: 0.9954 - auc: 0.99980s - loss: 0.0186 - tp: 13243.0000 - fp: 1.0000 - tn: 13329.0000 - fn: 51.0000 - accuracy: 0.9980 - precision: 0.9999 - recall: 0.9962 - au - ETA: 0s - loss: 0.0195 - tp: 23430.0000 - fp: 1.0000 - tn: 23552.0000 - fn: 121.0000 - accuracy: 0.9974 - precision: 1.0000 - recall: 0.9949 - au\n",
      "Epoch 53/100\n",
      "39/39 [==============================] - 1s 37ms/step - loss: 0.0192 - tp: 39829.0000 - fp: 0.0000e+00 - tn: 39856.0000 - fn: 187.0000 - accuracy: 0.9977 - precision: 1.0000 - recall: 0.9953 - auc: 0.9998\n",
      "Epoch 54/100\n",
      "39/39 [==============================] - 1s 34ms/step - loss: 0.0177 - tp: 39925.0000 - fp: 0.0000e+00 - tn: 39784.0000 - fn: 163.0000 - accuracy: 0.9980 - precision: 1.0000 - recall: 0.9959 - auc: 0.9998\n",
      "Epoch 55/100\n",
      "39/39 [==============================] - 1s 30ms/step - loss: 0.0179 - tp: 39675.0000 - fp: 0.0000e+00 - tn: 40019.0000 - fn: 178.0000 - accuracy: 0.9978 - precision: 1.0000 - recall: 0.9955 - auc: 0.9998\n",
      "Epoch 56/100\n",
      "39/39 [==============================] - 1s 28ms/step - loss: 0.0177 - tp: 39616.0000 - fp: 0.0000e+00 - tn: 40087.0000 - fn: 169.0000 - accuracy: 0.9979 - precision: 1.0000 - recall: 0.9958 - auc: 0.9998\n",
      "Epoch 57/100\n",
      "39/39 [==============================] - 1s 31ms/step - loss: 0.0173 - tp: 39754.0000 - fp: 0.0000e+00 - tn: 39939.0000 - fn: 179.0000 - accuracy: 0.9978 - precision: 1.0000 - recall: 0.9955 - auc: 0.9998\n",
      "Epoch 58/100\n",
      "39/39 [==============================] - 1s 38ms/step - loss: 0.0171 - tp: 39921.0000 - fp: 0.0000e+00 - tn: 39774.0000 - fn: 177.0000 - accuracy: 0.9978 - precision: 1.0000 - recall: 0.9956 - auc: 0.9998\n",
      "Epoch 59/100\n",
      "39/39 [==============================] - 1s 38ms/step - loss: 0.0171 - tp: 39817.0000 - fp: 0.0000e+00 - tn: 39859.0000 - fn: 196.0000 - accuracy: 0.9975 - precision: 1.0000 - recall: 0.9951 - auc: 0.9998\n",
      "Epoch 60/100\n",
      "39/39 [==============================] - 1s 36ms/step - loss: 0.0168 - tp: 39780.0000 - fp: 0.0000e+00 - tn: 39899.0000 - fn: 193.0000 - accuracy: 0.9976 - precision: 1.0000 - recall: 0.9952 - auc: 0.9998\n",
      "Epoch 61/100\n",
      "39/39 [==============================] - 2s 39ms/step - loss: 0.0160 - tp: 39576.0000 - fp: 0.0000e+00 - tn: 40118.0000 - fn: 178.0000 - accuracy: 0.9978 - precision: 1.0000 - recall: 0.9955 - auc: 0.9998\n",
      "Epoch 62/100\n",
      "39/39 [==============================] - 2s 41ms/step - loss: 0.0159 - tp: 39772.0000 - fp: 0.0000e+00 - tn: 39924.0000 - fn: 176.0000 - accuracy: 0.9978 - precision: 1.0000 - recall: 0.9956 - auc: 0.9998\n",
      "Epoch 63/100\n",
      "39/39 [==============================] - 2s 40ms/step - loss: 0.0152 - tp: 39600.0000 - fp: 0.0000e+00 - tn: 40112.0000 - fn: 160.0000 - accuracy: 0.9980 - precision: 1.0000 - recall: 0.9960 - auc: 0.9998\n",
      "Epoch 64/100\n",
      "39/39 [==============================] - 1s 37ms/step - loss: 0.0155 - tp: 39638.0000 - fp: 0.0000e+00 - tn: 40045.0000 - fn: 189.0000 - accuracy: 0.9976 - precision: 1.0000 - recall: 0.9953 - auc: 0.9998\n",
      "Epoch 65/100\n",
      "39/39 [==============================] - 2s 40ms/step - loss: 0.0148 - tp: 39906.0000 - fp: 0.0000e+00 - tn: 39797.0000 - fn: 169.0000 - accuracy: 0.9979 - precision: 1.0000 - recall: 0.9958 - auc: 0.9998\n",
      "Epoch 66/100\n",
      "39/39 [==============================] - 1s 37ms/step - loss: 0.0147 - tp: 39801.0000 - fp: 0.0000e+00 - tn: 39896.0000 - fn: 175.0000 - accuracy: 0.9978 - precision: 1.0000 - recall: 0.9956 - auc: 0.9998\n",
      "Epoch 67/100\n",
      "39/39 [==============================] - 1s 38ms/step - loss: 0.0144 - tp: 39774.0000 - fp: 0.0000e+00 - tn: 39932.0000 - fn: 166.0000 - accuracy: 0.9979 - precision: 1.0000 - recall: 0.9958 - auc: 0.9998\n",
      "Epoch 68/100\n",
      "39/39 [==============================] - 1s 31ms/step - loss: 0.0147 - tp: 39653.0000 - fp: 0.0000e+00 - tn: 40030.0000 - fn: 189.0000 - accuracy: 0.9976 - precision: 1.0000 - recall: 0.9953 - auc: 0.9998\n",
      "Epoch 69/100\n",
      "39/39 [==============================] - 1s 32ms/step - loss: 0.0136 - tp: 40051.0000 - fp: 0.0000e+00 - tn: 39657.0000 - fn: 164.0000 - accuracy: 0.9979 - precision: 1.0000 - recall: 0.9959 - auc: 0.9998\n",
      "Epoch 70/100\n",
      "39/39 [==============================] - 1s 31ms/step - loss: 0.0140 - tp: 39853.0000 - fp: 0.0000e+00 - tn: 39840.0000 - fn: 179.0000 - accuracy: 0.9978 - precision: 1.0000 - recall: 0.9955 - auc: 0.9998\n",
      "Epoch 71/100\n",
      "39/39 [==============================] - 1s 32ms/step - loss: 0.0140 - tp: 39552.0000 - fp: 0.0000e+00 - tn: 40126.0000 - fn: 194.0000 - accuracy: 0.9976 - precision: 1.0000 - recall: 0.9951 - auc: 0.9998\n",
      "Epoch 72/100\n",
      "39/39 [==============================] - 1s 36ms/step - loss: 0.0130 - tp: 39815.0000 - fp: 0.0000e+00 - tn: 39894.0000 - fn: 163.0000 - accuracy: 0.9980 - precision: 1.0000 - recall: 0.9959 - auc: 0.9998\n",
      "Epoch 73/100\n",
      "39/39 [==============================] - 1s 35ms/step - loss: 0.0134 - tp: 39543.0000 - fp: 0.0000e+00 - tn: 40152.0000 - fn: 177.0000 - accuracy: 0.9978 - precision: 1.0000 - recall: 0.9955 - auc: 0.9998\n"
     ]
    },
    {
     "name": "stdout",
     "output_type": "stream",
     "text": [
      "Epoch 74/100\n",
      "39/39 [==============================] - 1s 35ms/step - loss: 0.0126 - tp: 39951.0000 - fp: 0.0000e+00 - tn: 39759.0000 - fn: 162.0000 - accuracy: 0.9980 - precision: 1.0000 - recall: 0.9960 - auc: 0.9998\n",
      "Epoch 75/100\n",
      "39/39 [==============================] - 1s 32ms/step - loss: 0.0128 - tp: 39819.0000 - fp: 0.0000e+00 - tn: 39872.0000 - fn: 181.0000 - accuracy: 0.9977 - precision: 1.0000 - recall: 0.9955 - auc: 0.9998\n",
      "Epoch 76/100\n",
      "39/39 [==============================] - 2s 39ms/step - loss: 0.0124 - tp: 39495.0000 - fp: 0.0000e+00 - tn: 40201.0000 - fn: 176.0000 - accuracy: 0.9978 - precision: 1.0000 - recall: 0.9956 - auc: 0.9998\n",
      "Epoch 77/100\n",
      "39/39 [==============================] - 2s 43ms/step - loss: 0.0123 - tp: 39754.0000 - fp: 0.0000e+00 - tn: 39942.0000 - fn: 176.0000 - accuracy: 0.9978 - precision: 1.0000 - recall: 0.9956 - auc: 0.9999\n",
      "Epoch 78/100\n",
      "39/39 [==============================] - 2s 39ms/step - loss: 0.0116 - tp: 39912.0000 - fp: 0.0000e+00 - tn: 39801.0000 - fn: 159.0000 - accuracy: 0.9980 - precision: 1.0000 - recall: 0.9960 - auc: 0.9999\n",
      "Epoch 79/100\n",
      "39/39 [==============================] - 2s 40ms/step - loss: 0.0119 - tp: 39813.0000 - fp: 0.0000e+00 - tn: 39887.0000 - fn: 172.0000 - accuracy: 0.9978 - precision: 1.0000 - recall: 0.9957 - auc: 0.9999\n",
      "Epoch 80/100\n",
      "39/39 [==============================] - 2s 39ms/step - loss: 0.0118 - tp: 39897.0000 - fp: 0.0000e+00 - tn: 39804.0000 - fn: 171.0000 - accuracy: 0.9979 - precision: 1.0000 - recall: 0.9957 - auc: 0.9999\n",
      "Epoch 81/100\n",
      "39/39 [==============================] - 2s 42ms/step - loss: 0.0116 - tp: 39681.0000 - fp: 0.0000e+00 - tn: 40018.0000 - fn: 173.0000 - accuracy: 0.9978 - precision: 1.0000 - recall: 0.9957 - auc: 0.9999\n",
      "Epoch 82/100\n",
      "39/39 [==============================] - 2s 39ms/step - loss: 0.0117 - tp: 39648.0000 - fp: 0.0000e+00 - tn: 40048.0000 - fn: 176.0000 - accuracy: 0.9978 - precision: 1.0000 - recall: 0.9956 - auc: 0.9998\n",
      "Epoch 83/100\n",
      "39/39 [==============================] - 1s 34ms/step - loss: 0.0110 - tp: 39808.0000 - fp: 0.0000e+00 - tn: 39910.0000 - fn: 154.0000 - accuracy: 0.9981 - precision: 1.0000 - recall: 0.9961 - auc: 0.9999\n",
      "Epoch 84/100\n",
      "39/39 [==============================] - 1s 35ms/step - loss: 0.0115 - tp: 39824.0000 - fp: 0.0000e+00 - tn: 39870.0000 - fn: 178.0000 - accuracy: 0.9978 - precision: 1.0000 - recall: 0.9956 - auc: 0.9999\n",
      "Epoch 85/100\n",
      "39/39 [==============================] - 1s 37ms/step - loss: 0.0104 - tp: 39607.0000 - fp: 0.0000e+00 - tn: 40114.0000 - fn: 151.0000 - accuracy: 0.9981 - precision: 1.0000 - recall: 0.9962 - auc: 0.9999\n",
      "Epoch 86/100\n",
      "39/39 [==============================] - 1s 34ms/step - loss: 0.0104 - tp: 39665.0000 - fp: 0.0000e+00 - tn: 40054.0000 - fn: 153.0000 - accuracy: 0.9981 - precision: 1.0000 - recall: 0.9962 - auc: 0.9999\n",
      "Epoch 87/100\n",
      "39/39 [==============================] - 1s 35ms/step - loss: 0.0097 - tp: 39948.0000 - fp: 0.0000e+00 - tn: 39784.0000 - fn: 140.0000 - accuracy: 0.9982 - precision: 1.0000 - recall: 0.9965 - auc: 0.9999\n",
      "Epoch 88/100\n",
      "39/39 [==============================] - 2s 39ms/step - loss: 0.0097 - tp: 39666.0000 - fp: 0.0000e+00 - tn: 40056.0000 - fn: 150.0000 - accuracy: 0.9981 - precision: 1.0000 - recall: 0.9962 - auc: 0.9999\n",
      "Epoch 89/100\n",
      "39/39 [==============================] - 1s 31ms/step - loss: 0.0098 - tp: 39777.0000 - fp: 0.0000e+00 - tn: 39950.0000 - fn: 145.0000 - accuracy: 0.9982 - precision: 1.0000 - recall: 0.9964 - auc: 0.9999\n",
      "Epoch 90/100\n",
      "39/39 [==============================] - 1s 35ms/step - loss: 0.0100 - tp: 40025.0000 - fp: 0.0000e+00 - tn: 39686.0000 - fn: 161.0000 - accuracy: 0.9980 - precision: 1.0000 - recall: 0.9960 - auc: 0.9999\n",
      "Epoch 91/100\n",
      "39/39 [==============================] - 2s 41ms/step - loss: 0.0092 - tp: 39832.0000 - fp: 0.0000e+00 - tn: 39906.0000 - fn: 134.0000 - accuracy: 0.9983 - precision: 1.0000 - recall: 0.9966 - auc: 0.9999\n",
      "Epoch 92/100\n",
      "39/39 [==============================] - 1s 37ms/step - loss: 0.0095 - tp: 39754.0000 - fp: 0.0000e+00 - tn: 39966.0000 - fn: 152.0000 - accuracy: 0.9981 - precision: 1.0000 - recall: 0.9962 - auc: 0.9999\n",
      "Epoch 93/100\n",
      "39/39 [==============================] - 1s 32ms/step - loss: 0.0095 - tp: 39704.0000 - fp: 0.0000e+00 - tn: 40017.0000 - fn: 151.0000 - accuracy: 0.9981 - precision: 1.0000 - recall: 0.9962 - auc: 0.9999\n",
      "Epoch 94/100\n",
      "39/39 [==============================] - 1s 38ms/step - loss: 0.0106 - tp: 39421.0000 - fp: 0.0000e+00 - tn: 40258.0000 - fn: 193.0000 - accuracy: 0.9976 - precision: 1.0000 - recall: 0.9951 - auc: 0.9999\n",
      "Epoch 95/100\n",
      "39/39 [==============================] - 1s 37ms/step - loss: 0.0095 - tp: 39707.0000 - fp: 0.0000e+00 - tn: 40000.0000 - fn: 165.0000 - accuracy: 0.9979 - precision: 1.0000 - recall: 0.9959 - auc: 0.9999\n",
      "Epoch 96/100\n",
      "39/39 [==============================] - 1s 38ms/step - loss: 0.0097 - tp: 39610.0000 - fp: 0.0000e+00 - tn: 40094.0000 - fn: 168.0000 - accuracy: 0.9979 - precision: 1.0000 - recall: 0.9958 - auc: 0.9999\n",
      "Epoch 97/100\n",
      "39/39 [==============================] - 1s 35ms/step - loss: 0.0100 - tp: 39862.0000 - fp: 0.0000e+00 - tn: 39830.0000 - fn: 180.0000 - accuracy: 0.9977 - precision: 1.0000 - recall: 0.9955 - auc: 0.9999\n",
      "Epoch 98/100\n",
      "39/39 [==============================] - 1s 38ms/step - loss: 0.0084 - tp: 40056.0000 - fp: 0.0000e+00 - tn: 39684.0000 - fn: 132.0000 - accuracy: 0.9983 - precision: 1.0000 - recall: 0.9967 - auc: 0.9999\n",
      "Epoch 99/100\n",
      "39/39 [==============================] - 1s 34ms/step - loss: 0.0089 - tp: 39611.0000 - fp: 0.0000e+00 - tn: 40110.0000 - fn: 151.0000 - accuracy: 0.9981 - precision: 1.0000 - recall: 0.9962 - auc: 0.9999\n",
      "Epoch 100/100\n",
      "39/39 [==============================] - 1s 33ms/step - loss: 0.0085 - tp: 39581.0000 - fp: 0.0000e+00 - tn: 40140.0000 - fn: 151.0000 - accuracy: 0.9981 - precision: 1.0000 - recall: 0.9962 - auc: 0.9999\n"
     ]
    }
   ],
   "source": [
    "resampled_steps_per_epoch = np.ceil(2.0*neg/BATCH_SIZE)\n",
    "resampled_steps_per_epoch\n",
    "\n",
    "resampled_model = make_model()\n",
    "resampled_model.load_weights(initial_weights)\n",
    "\n",
    "# Reset the bias to zero, since this dataset is balanced.\n",
    "output_layer = resampled_model.layers[-1] \n",
    "output_layer.bias.assign([0])\n",
    "\n",
    "resampled_history = resampled_model.fit(\n",
    "    resampled_ds,\n",
    "    epochs=EPOCHS,\n",
    "    steps_per_epoch=resampled_steps_per_epoch,\n",
    "    callbacks = [early_stopping])"
   ]
  },
  {
   "cell_type": "code",
   "execution_count": 287,
   "metadata": {},
   "outputs": [
    {
     "name": "stdout",
     "output_type": "stream",
     "text": [
      "loss :  0.0001186592597514391\n",
      "tp :  50.0\n",
      "fp :  0.0\n",
      "tn :  7950.0\n",
      "fn :  0.0\n",
      "accuracy :  1.0\n",
      "precision :  1.0\n",
      "recall :  1.0\n",
      "auc :  0.99999994\n",
      "\n",
      "Legitimate Transactions Detected (True Negatives):  7950\n",
      "Legitimate Transactions Incorrectly Detected (False Positives):  0\n",
      "Fraudulent Transactions Missed (False Negatives):  0\n",
      "Fraudulent Transactions Detected (True Positives):  50\n",
      "Total Fraudulent Transactions:  50\n"
     ]
    },
    {
     "data": {
      "image/png": "[encoded data removed]",
      "text/plain": [
       "<Figure size 360x360 with 2 Axes>"
      ]
     },
     "metadata": {
      "needs_background": "light"
     },
     "output_type": "display_data"
    }
   ],
   "source": [
    "#Evaluate model\n",
    "train_predictions_resampled = resampled_model.predict(train_features, batch_size=BATCH_SIZE)\n",
    "test_predictions_resampled = resampled_model.predict(test_features, batch_size=BATCH_SIZE)\n",
    "\n",
    "resampled_results = resampled_model.evaluate(test_features, test_labels,\n",
    "                                             batch_size=BATCH_SIZE, verbose=0)\n",
    "for name, value in zip(resampled_model.metrics_names, resampled_results):\n",
    "  print(name, ': ', value)\n",
    "print()\n",
    "\n",
    "plot_cm(test_labels, test_predictions_resampled)"
   ]
  },
  {
   "cell_type": "markdown",
   "metadata": {},
   "source": [
    "#### Because training is easier on the balanced data, the above training procedure may overfit quickly. \n",
    "#### So break up the epochs to give the `callbacks.EarlyStopping` finer control over when to stop training."
   ]
  },
  {
   "cell_type": "code",
   "execution_count": 288,
   "metadata": {},
   "outputs": [
    {
     "name": "stdout",
     "output_type": "stream",
     "text": [
      "Train for 20 steps\n",
      "Epoch 1/1000\n",
      "20/20 [==============================] - 2s 105ms/step - loss: 1.1180 - tp: 7847.0000 - fp: 12422.0000 - tn: 8101.0000 - fn: 12590.0000 - accuracy: 0.3894 - precision: 0.3871 - recall: 0.3840 - auc: 0.3438s - loss: 1.1440 - tp: 4805.0000 - fp: 8136.0000 - tn: 5275.0000 - fn: 8408.0000 - accuracy: 0.3786 - precision: 0.3713 - recall: 0.3637 - auc: 0\n",
      "Epoch 2/1000\n",
      "20/20 [==============================] - 1s 32ms/step - loss: 0.9584 - tp: 10087.0000 - fp: 11811.0000 - tn: 8589.0000 - fn: 10473.0000 - accuracy: 0.4560 - precision: 0.4606 - recall: 0.4906 - auc: 0.4442\n",
      "Epoch 3/1000\n",
      "20/20 [==============================] - 1s 30ms/step - loss: 0.8322 - tp: 11803.0000 - fp: 10912.0000 - tn: 9542.0000 - fn: 8703.0000 - accuracy: 0.5211 - precision: 0.5196 - recall: 0.5756 - auc: 0.5435\n",
      "Epoch 4/1000\n",
      "20/20 [==============================] - 1s 33ms/step - loss: 0.7209 - tp: 13389.0000 - fp: 9454.0000 - tn: 11012.0000 - fn: 7105.0000 - accuracy: 0.5957 - precision: 0.5861 - recall: 0.6533 - auc: 0.64360s - loss: 0.7517 - tp: 3206.0000 - fp: 2471.0000 - tn: 2652.0000 - fn: 1911.0000 - accuracy: 0.5721 - precision: 0.5647 - recall: 0.6265 - au\n",
      "Epoch 5/1000\n",
      "20/20 [==============================] - 1s 35ms/step - loss: 0.6348 - tp: 14868.0000 - fp: 8224.0000 - tn: 12209.0000 - fn: 5659.0000 - accuracy: 0.6611 - precision: 0.6439 - recall: 0.7243 - auc: 0.7261\n",
      "Epoch 6/1000\n",
      "20/20 [==============================] - 1s 34ms/step - loss: 0.5650 - tp: 15906.0000 - fp: 7073.0000 - tn: 13405.0000 - fn: 4576.0000 - accuracy: 0.7156 - precision: 0.6922 - recall: 0.7766 - auc: 0.7927\n",
      "Epoch 7/1000\n",
      "20/20 [==============================] - 1s 31ms/step - loss: 0.5027 - tp: 16716.0000 - fp: 5898.0000 - tn: 14389.0000 - fn: 3957.0000 - accuracy: 0.7594 - precision: 0.7392 - recall: 0.8086 - auc: 0.8407\n",
      "Epoch 8/1000\n",
      "20/20 [==============================] - 1s 32ms/step - loss: 0.4539 - tp: 16978.0000 - fp: 4787.0000 - tn: 15851.0000 - fn: 3344.0000 - accuracy: 0.8015 - precision: 0.7801 - recall: 0.8354 - auc: 0.8771\n",
      "Epoch 9/1000\n",
      "20/20 [==============================] - 1s 31ms/step - loss: 0.4077 - tp: 17486.0000 - fp: 3947.0000 - tn: 16546.0000 - fn: 2981.0000 - accuracy: 0.8309 - precision: 0.8158 - recall: 0.8544 - auc: 0.9055\n",
      "Epoch 10/1000\n",
      "20/20 [==============================] - 1s 32ms/step - loss: 0.3723 - tp: 17749.0000 - fp: 3100.0000 - tn: 17494.0000 - fn: 2617.0000 - accuracy: 0.8604 - precision: 0.8513 - recall: 0.8715 - auc: 0.9255\n",
      "Epoch 11/1000\n",
      "20/20 [==============================] - 1s 35ms/step - loss: 0.3413 - tp: 18135.0000 - fp: 2590.0000 - tn: 17918.0000 - fn: 2317.0000 - accuracy: 0.8802 - precision: 0.8750 - recall: 0.8867 - auc: 0.9409\n",
      "Epoch 12/1000\n",
      "20/20 [==============================] - 1s 38ms/step - loss: 0.3104 - tp: 18542.0000 - fp: 2100.0000 - tn: 18286.0000 - fn: 2032.0000 - accuracy: 0.8991 - precision: 0.8983 - recall: 0.9012 - auc: 0.9547\n",
      "Epoch 13/1000\n",
      "20/20 [==============================] - 1s 35ms/step - loss: 0.2843 - tp: 18632.0000 - fp: 1633.0000 - tn: 18846.0000 - fn: 1849.0000 - accuracy: 0.9150 - precision: 0.9194 - recall: 0.9097 - auc: 0.9641\n",
      "Epoch 14/1000\n",
      "20/20 [==============================] - 1s 38ms/step - loss: 0.2668 - tp: 18746.0000 - fp: 1412.0000 - tn: 19025.0000 - fn: 1777.0000 - accuracy: 0.9221 - precision: 0.9300 - recall: 0.9134 - auc: 0.9682\n",
      "Epoch 15/1000\n",
      "20/20 [==============================] - 1s 36ms/step - loss: 0.2452 - tp: 19033.0000 - fp: 1190.0000 - tn: 19221.0000 - fn: 1516.0000 - accuracy: 0.9339 - precision: 0.9412 - recall: 0.9262 - auc: 0.9752\n",
      "Epoch 16/1000\n",
      "20/20 [==============================] - 1s 35ms/step - loss: 0.2286 - tp: 19138.0000 - fp: 1017.0000 - tn: 19318.0000 - fn: 1487.0000 - accuracy: 0.9389 - precision: 0.9495 - recall: 0.9279 - auc: 0.9787\n",
      "Epoch 17/1000\n",
      "20/20 [==============================] - 1s 45ms/step - loss: 0.2157 - tp: 19190.0000 - fp: 839.0000 - tn: 19579.0000 - fn: 1352.0000 - accuracy: 0.9465 - precision: 0.9581 - recall: 0.9342 - auc: 0.9815\n",
      "Epoch 18/1000\n",
      "20/20 [==============================] - 1s 40ms/step - loss: 0.2050 - tp: 19134.0000 - fp: 810.0000 - tn: 19726.0000 - fn: 1290.0000 - accuracy: 0.9487 - precision: 0.9594 - recall: 0.9368 - auc: 0.9836\n",
      "Epoch 19/1000\n",
      "20/20 [==============================] - 1s 32ms/step - loss: 0.1911 - tp: 19447.0000 - fp: 679.0000 - tn: 19620.0000 - fn: 1214.0000 - accuracy: 0.9538 - precision: 0.9663 - recall: 0.9412 - auc: 0.9863\n",
      "Epoch 20/1000\n",
      "20/20 [==============================] - 1s 32ms/step - loss: 0.1804 - tp: 19239.0000 - fp: 534.0000 - tn: 20014.0000 - fn: 1173.0000 - accuracy: 0.9583 - precision: 0.9730 - recall: 0.9425 - auc: 0.9881\n",
      "Epoch 21/1000\n",
      "20/20 [==============================] - 1s 32ms/step - loss: 0.1719 - tp: 19381.0000 - fp: 477.0000 - tn: 20007.0000 - fn: 1095.0000 - accuracy: 0.9616 - precision: 0.9760 - recall: 0.9465 - auc: 0.9896\n",
      "Epoch 22/1000\n",
      "20/20 [==============================] - 1s 32ms/step - loss: 0.1606 - tp: 19507.0000 - fp: 462.0000 - tn: 19995.0000 - fn: 996.0000 - accuracy: 0.9644 - precision: 0.9769 - recall: 0.9514 - auc: 0.9914\n",
      "Epoch 23/1000\n",
      "20/20 [==============================] - 1s 31ms/step - loss: 0.1548 - tp: 19454.0000 - fp: 423.0000 - tn: 20118.0000 - fn: 965.0000 - accuracy: 0.9661 - precision: 0.9787 - recall: 0.9527 - auc: 0.9917\n",
      "Epoch 24/1000\n",
      "20/20 [==============================] - 1s 32ms/step - loss: 0.1455 - tp: 19548.0000 - fp: 351.0000 - tn: 20168.0000 - fn: 893.0000 - accuracy: 0.9696 - precision: 0.9824 - recall: 0.9563 - auc: 0.9928\n",
      "Epoch 25/1000\n",
      "20/20 [==============================] - 1s 32ms/step - loss: 0.1384 - tp: 19544.0000 - fp: 323.0000 - tn: 20309.0000 - fn: 784.0000 - accuracy: 0.9730 - precision: 0.9837 - recall: 0.9614 - auc: 0.9938\n",
      "Epoch 26/1000\n",
      "20/20 [==============================] - 1s 31ms/step - loss: 0.1327 - tp: 19629.0000 - fp: 312.0000 - tn: 20217.0000 - fn: 802.0000 - accuracy: 0.9728 - precision: 0.9844 - recall: 0.9607 - auc: 0.9942\n",
      "Epoch 27/1000\n",
      "20/20 [==============================] - 1s 33ms/step - loss: 0.1265 - tp: 19791.0000 - fp: 305.0000 - tn: 20103.0000 - fn: 761.0000 - accuracy: 0.9740 - precision: 0.9848 - recall: 0.9630 - auc: 0.9946\n",
      "Epoch 28/1000\n",
      "20/20 [==============================] - 1s 36ms/step - loss: 0.1190 - tp: 19919.0000 - fp: 281.0000 - tn: 20054.0000 - fn: 706.0000 - accuracy: 0.9759 - precision: 0.9861 - recall: 0.9658 - auc: 0.9954\n",
      "Epoch 29/1000\n",
      "20/20 [==============================] - 1s 31ms/step - loss: 0.1181 - tp: 19962.0000 - fp: 292.0000 - tn: 19939.0000 - fn: 767.0000 - accuracy: 0.9741 - precision: 0.9856 - recall: 0.9630 - auc: 0.9950\n",
      "Epoch 30/1000\n",
      "20/20 [==============================] - 1s 32ms/step - loss: 0.1126 - tp: 19689.0000 - fp: 277.0000 - tn: 20245.0000 - fn: 749.0000 - accuracy: 0.9750 - precision: 0.9861 - recall: 0.9634 - auc: 0.9955\n",
      "Epoch 31/1000\n",
      "20/20 [==============================] - 1s 32ms/step - loss: 0.1057 - tp: 19749.0000 - fp: 226.0000 - tn: 20321.0000 - fn: 664.0000 - accuracy: 0.9783 - precision: 0.9887 - recall: 0.9675 - auc: 0.9963\n",
      "Epoch 32/1000\n",
      "20/20 [==============================] - 1s 37ms/step - loss: 0.1008 - tp: 19855.0000 - fp: 213.0000 - tn: 20219.0000 - fn: 673.0000 - accuracy: 0.9784 - precision: 0.9894 - recall: 0.9672 - auc: 0.9966\n",
      "Epoch 33/1000\n",
      "20/20 [==============================] - 1s 37ms/step - loss: 0.0976 - tp: 19883.0000 - fp: 233.0000 - tn: 20192.0000 - fn: 652.0000 - accuracy: 0.9784 - precision: 0.9884 - recall: 0.9682 - auc: 0.9968\n",
      "Epoch 34/1000\n",
      "20/20 [==============================] - 1s 35ms/step - loss: 0.0949 - tp: 19965.0000 - fp: 201.0000 - tn: 20127.0000 - fn: 667.0000 - accuracy: 0.9788 - precision: 0.9900 - recall: 0.9677 - auc: 0.9970\n",
      "Epoch 35/1000\n",
      "20/20 [==============================] - 1s 38ms/step - loss: 0.0930 - tp: 19739.0000 - fp: 190.0000 - tn: 20334.0000 - fn: 697.0000 - accuracy: 0.9783 - precision: 0.9905 - recall: 0.9659 - auc: 0.9969\n",
      "Epoch 36/1000\n",
      "20/20 [==============================] - 1s 34ms/step - loss: 0.0895 - tp: 19767.0000 - fp: 191.0000 - tn: 20335.0000 - fn: 667.0000 - accuracy: 0.9791 - precision: 0.9904 - recall: 0.9674 - auc: 0.9971\n",
      "Epoch 37/1000\n"
     ]
    },
    {
     "name": "stdout",
     "output_type": "stream",
     "text": [
      "20/20 [==============================] - 1s 34ms/step - loss: 0.0844 - tp: 20068.0000 - fp: 178.0000 - tn: 20094.0000 - fn: 620.0000 - accuracy: 0.9805 - precision: 0.9912 - recall: 0.9700 - auc: 0.9974\n",
      "Epoch 38/1000\n",
      "20/20 [==============================] - 1s 35ms/step - loss: 0.0832 - tp: 19908.0000 - fp: 165.0000 - tn: 20281.0000 - fn: 606.0000 - accuracy: 0.9812 - precision: 0.9918 - recall: 0.9705 - auc: 0.9976\n",
      "Epoch 39/1000\n",
      "20/20 [==============================] - 1s 36ms/step - loss: 0.0808 - tp: 20011.0000 - fp: 155.0000 - tn: 20177.0000 - fn: 617.0000 - accuracy: 0.9812 - precision: 0.9923 - recall: 0.9701 - auc: 0.9976\n",
      "Epoch 40/1000\n",
      "20/20 [==============================] - 1s 38ms/step - loss: 0.0786 - tp: 19745.0000 - fp: 167.0000 - tn: 20461.0000 - fn: 587.0000 - accuracy: 0.9816 - precision: 0.9916 - recall: 0.9711 - auc: 0.9977\n",
      "Epoch 41/1000\n",
      "20/20 [==============================] - 1s 36ms/step - loss: 0.0762 - tp: 20165.0000 - fp: 151.0000 - tn: 20072.0000 - fn: 572.0000 - accuracy: 0.9823 - precision: 0.9926 - recall: 0.9724 - auc: 0.9978\n",
      "Epoch 42/1000\n",
      "20/20 [==============================] - 1s 38ms/step - loss: 0.0740 - tp: 20059.0000 - fp: 135.0000 - tn: 20219.0000 - fn: 547.0000 - accuracy: 0.9833 - precision: 0.9933 - recall: 0.9735 - auc: 0.9980\n",
      "Epoch 43/1000\n",
      "20/20 [==============================] - 1s 39ms/step - loss: 0.0734 - tp: 19843.0000 - fp: 138.0000 - tn: 20411.0000 - fn: 568.0000 - accuracy: 0.9828 - precision: 0.9931 - recall: 0.9722 - auc: 0.9978\n",
      "Epoch 44/1000\n",
      "20/20 [==============================] - 1s 40ms/step - loss: 0.0711 - tp: 19981.0000 - fp: 141.0000 - tn: 20271.0000 - fn: 567.0000 - accuracy: 0.9827 - precision: 0.9930 - recall: 0.9724 - auc: 0.9980\n",
      "Epoch 45/1000\n",
      "20/20 [==============================] - 1s 36ms/step - loss: 0.0693 - tp: 19961.0000 - fp: 129.0000 - tn: 20312.0000 - fn: 558.0000 - accuracy: 0.9832 - precision: 0.9936 - recall: 0.9728 - auc: 0.9981\n",
      "Epoch 46/1000\n",
      "20/20 [==============================] - 1s 42ms/step - loss: 0.0658 - tp: 20195.0000 - fp: 93.0000 - tn: 20153.0000 - fn: 519.0000 - accuracy: 0.9851 - precision: 0.9954 - recall: 0.9749 - auc: 0.9984\n",
      "Epoch 47/1000\n",
      "20/20 [==============================] - 1s 41ms/step - loss: 0.0653 - tp: 19879.0000 - fp: 107.0000 - tn: 20464.0000 - fn: 510.0000 - accuracy: 0.9849 - precision: 0.9946 - recall: 0.9750 - auc: 0.9985 loss: 0.0658 - tp: 2975.0000 - fp: 13.0000 - tn: 3076.0000 - fn: 80.0000 - accuracy: 0.9849 - precision: 0.9956 - recall: 0.97\n",
      "Epoch 48/1000\n",
      "20/20 [==============================] - 1s 36ms/step - loss: 0.0630 - tp: 20033.0000 - fp: 111.0000 - tn: 20331.0000 - fn: 485.0000 - accuracy: 0.9854 - precision: 0.9945 - recall: 0.9764 - auc: 0.9987\n",
      "Epoch 49/1000\n",
      "20/20 [==============================] - 1s 35ms/step - loss: 0.0604 - tp: 19891.0000 - fp: 107.0000 - tn: 20485.0000 - fn: 477.0000 - accuracy: 0.9857 - precision: 0.9946 - recall: 0.9766 - auc: 0.9987\n",
      "Epoch 50/1000\n",
      "20/20 [==============================] - 1s 33ms/step - loss: 0.0574 - tp: 20173.0000 - fp: 83.0000 - tn: 20294.0000 - fn: 410.0000 - accuracy: 0.9880 - precision: 0.9959 - recall: 0.9801 - auc: 0.9990\n",
      "Epoch 51/1000\n",
      "20/20 [==============================] - 1s 33ms/step - loss: 0.0554 - tp: 20068.0000 - fp: 63.0000 - tn: 20468.0000 - fn: 361.0000 - accuracy: 0.9896 - precision: 0.9969 - recall: 0.9823 - auc: 0.9990\n",
      "Epoch 52/1000\n",
      "20/20 [==============================] - 1s 37ms/step - loss: 0.0548 - tp: 20199.0000 - fp: 69.0000 - tn: 20326.0000 - fn: 366.0000 - accuracy: 0.9894 - precision: 0.9966 - recall: 0.9822 - auc: 0.9991\n",
      "Epoch 53/1000\n",
      "20/20 [==============================] - 1s 35ms/step - loss: 0.0506 - tp: 20190.0000 - fp: 56.0000 - tn: 20434.0000 - fn: 280.0000 - accuracy: 0.9918 - precision: 0.9972 - recall: 0.9863 - auc: 0.9993\n",
      "Epoch 54/1000\n",
      "20/20 [==============================] - 1s 38ms/step - loss: 0.0506 - tp: 20079.0000 - fp: 74.0000 - tn: 20531.0000 - fn: 276.0000 - accuracy: 0.9915 - precision: 0.9963 - recall: 0.9864 - auc: 0.9993\n",
      "Epoch 55/1000\n",
      "20/20 [==============================] - 1s 35ms/step - loss: 0.0489 - tp: 20198.0000 - fp: 63.0000 - tn: 20428.0000 - fn: 271.0000 - accuracy: 0.9918 - precision: 0.9969 - recall: 0.9868 - auc: 0.9992\n",
      "Epoch 56/1000\n",
      "20/20 [==============================] - 1s 37ms/step - loss: 0.0465 - tp: 20139.0000 - fp: 50.0000 - tn: 20557.0000 - fn: 214.0000 - accuracy: 0.9936 - precision: 0.9975 - recall: 0.9895 - auc: 0.9994\n",
      "Epoch 57/1000\n",
      "20/20 [==============================] - 1s 34ms/step - loss: 0.0449 - tp: 20132.0000 - fp: 43.0000 - tn: 20547.0000 - fn: 238.0000 - accuracy: 0.9931 - precision: 0.9979 - recall: 0.9883 - auc: 0.9994\n",
      "Epoch 58/1000\n",
      "20/20 [==============================] - 1s 38ms/step - loss: 0.0434 - tp: 20354.0000 - fp: 51.0000 - tn: 20340.0000 - fn: 215.0000 - accuracy: 0.9935 - precision: 0.9975 - recall: 0.9895 - auc: 0.9995\n",
      "Epoch 59/1000\n",
      "20/20 [==============================] - 1s 38ms/step - loss: 0.0431 - tp: 20160.0000 - fp: 42.0000 - tn: 20528.0000 - fn: 230.0000 - accuracy: 0.9934 - precision: 0.9979 - recall: 0.9887 - auc: 0.9995\n",
      "Epoch 60/1000\n",
      "20/20 [==============================] - 1s 34ms/step - loss: 0.0420 - tp: 20136.0000 - fp: 32.0000 - tn: 20574.0000 - fn: 218.0000 - accuracy: 0.9939 - precision: 0.9984 - recall: 0.9893 - auc: 0.9995\n",
      "Epoch 61/1000\n",
      "20/20 [==============================] - 1s 34ms/step - loss: 0.0403 - tp: 20411.0000 - fp: 34.0000 - tn: 20306.0000 - fn: 209.0000 - accuracy: 0.9941 - precision: 0.9983 - recall: 0.9899 - auc: 0.9995\n",
      "Epoch 62/1000\n",
      "20/20 [==============================] - 1s 33ms/step - loss: 0.0405 - tp: 20215.0000 - fp: 32.0000 - tn: 20490.0000 - fn: 223.0000 - accuracy: 0.9938 - precision: 0.9984 - recall: 0.9891 - auc: 0.9995\n",
      "Epoch 63/1000\n",
      "20/20 [==============================] - 1s 36ms/step - loss: 0.0395 - tp: 20141.0000 - fp: 24.0000 - tn: 20586.0000 - fn: 209.0000 - accuracy: 0.9943 - precision: 0.9988 - recall: 0.9897 - auc: 0.9995\n",
      "Epoch 64/1000\n",
      "20/20 [==============================] - 1s 39ms/step - loss: 0.0375 - tp: 20519.0000 - fp: 33.0000 - tn: 20198.0000 - fn: 210.0000 - accuracy: 0.9941 - precision: 0.9984 - recall: 0.9899 - auc: 0.9995\n",
      "Epoch 65/1000\n",
      "20/20 [==============================] - 1s 35ms/step - loss: 0.0366 - tp: 20217.0000 - fp: 28.0000 - tn: 20553.0000 - fn: 162.0000 - accuracy: 0.9954 - precision: 0.9986 - recall: 0.9921 - auc: 0.9996\n",
      "Epoch 66/1000\n",
      "20/20 [==============================] - 1s 37ms/step - loss: 0.0361 - tp: 20363.0000 - fp: 21.0000 - tn: 20383.0000 - fn: 193.0000 - accuracy: 0.9948 - precision: 0.9990 - recall: 0.9906 - auc: 0.9996\n",
      "Epoch 67/1000\n",
      "20/20 [==============================] - 1s 38ms/step - loss: 0.0350 - tp: 20498.0000 - fp: 26.0000 - tn: 20263.0000 - fn: 173.0000 - accuracy: 0.9951 - precision: 0.9987 - recall: 0.9916 - auc: 0.9996\n",
      "Epoch 68/1000\n",
      "20/20 [==============================] - 1s 34ms/step - loss: 0.0338 - tp: 20303.0000 - fp: 23.0000 - tn: 20486.0000 - fn: 148.0000 - accuracy: 0.9958 - precision: 0.9989 - recall: 0.9928 - auc: 0.9997s - loss: 0.0340 - tp: 5085.0000 - fp: 5.0000 - tn: 5111.0000 - fn: 39.0000 - accuracy: 0.9957 - precision: 0.9990 - recall: 0.9924 \n",
      "Epoch 69/1000\n",
      "20/20 [==============================] - 1s 34ms/step - loss: 0.0330 - tp: 20318.0000 - fp: 14.0000 - tn: 20495.0000 - fn: 133.0000 - accuracy: 0.9964 - precision: 0.9993 - recall: 0.9935 - auc: 0.9997\n",
      "Epoch 70/1000\n",
      "20/20 [==============================] - 1s 41ms/step - loss: 0.0332 - tp: 20190.0000 - fp: 20.0000 - tn: 20601.0000 - fn: 149.0000 - accuracy: 0.9959 - precision: 0.9990 - recall: 0.9927 - auc: 0.9997\n",
      "Epoch 71/1000\n",
      "20/20 [==============================] - 1s 39ms/step - loss: 0.0318 - tp: 20307.0000 - fp: 14.0000 - tn: 20510.0000 - fn: 129.0000 - accuracy: 0.9965 - precision: 0.9993 - recall: 0.9937 - auc: 0.9997\n",
      "Epoch 72/1000\n",
      "20/20 [==============================] - 1s 42ms/step - loss: 0.0310 - tp: 20254.0000 - fp: 5.0000 - tn: 20585.0000 - fn: 116.0000 - accuracy: 0.9970 - precision: 0.9998 - recall: 0.9943 - auc: 0.9997\n",
      "Epoch 73/1000\n"
     ]
    },
    {
     "name": "stdout",
     "output_type": "stream",
     "text": [
      "20/20 [==============================] - 1s 33ms/step - loss: 0.0319 - tp: 20231.0000 - fp: 11.0000 - tn: 20574.0000 - fn: 144.0000 - accuracy: 0.9962 - precision: 0.9995 - recall: 0.9929 - auc: 0.9996\n",
      "Epoch 74/1000\n",
      "20/20 [==============================] - 1s 36ms/step - loss: 0.0301 - tp: 20354.0000 - fp: 15.0000 - tn: 20475.0000 - fn: 116.0000 - accuracy: 0.9968 - precision: 0.9993 - recall: 0.9943 - auc: 0.9997\n",
      "Epoch 75/1000\n",
      "20/20 [==============================] - 1s 37ms/step - loss: 0.0300 - tp: 20221.0000 - fp: 12.0000 - tn: 20607.0000 - fn: 120.0000 - accuracy: 0.9968 - precision: 0.9994 - recall: 0.9941 - auc: 0.9997\n",
      "Epoch 76/1000\n",
      "20/20 [==============================] - 1s 32ms/step - loss: 0.0288 - tp: 20286.0000 - fp: 13.0000 - tn: 20537.0000 - fn: 124.0000 - accuracy: 0.9967 - precision: 0.9994 - recall: 0.9939 - auc: 0.9997\n",
      "Epoch 77/1000\n",
      "20/20 [==============================] - 1s 37ms/step - loss: 0.0290 - tp: 20178.0000 - fp: 7.0000 - tn: 20659.0000 - fn: 116.0000 - accuracy: 0.9970 - precision: 0.9997 - recall: 0.9943 - auc: 0.9997\n",
      "Epoch 78/1000\n",
      "20/20 [==============================] - 1s 42ms/step - loss: 0.0273 - tp: 20324.0000 - fp: 2.0000 - tn: 20518.0000 - fn: 116.0000 - accuracy: 0.9971 - precision: 0.9999 - recall: 0.9943 - auc: 0.9997\n",
      "Epoch 79/1000\n",
      "20/20 [==============================] - 1s 39ms/step - loss: 0.0262 - tp: 20362.0000 - fp: 3.0000 - tn: 20485.0000 - fn: 110.0000 - accuracy: 0.9972 - precision: 0.9999 - recall: 0.9946 - auc: 0.9997\n",
      "Epoch 80/1000\n",
      "20/20 [==============================] - 1s 39ms/step - loss: 0.0259 - tp: 20361.0000 - fp: 5.0000 - tn: 20485.0000 - fn: 109.0000 - accuracy: 0.9972 - precision: 0.9998 - recall: 0.9947 - auc: 0.9997\n",
      "Epoch 81/1000\n",
      "20/20 [==============================] - 1s 38ms/step - loss: 0.0261 - tp: 20347.0000 - fp: 7.0000 - tn: 20480.0000 - fn: 126.0000 - accuracy: 0.9968 - precision: 0.9997 - recall: 0.9938 - auc: 0.9997\n",
      "Epoch 82/1000\n",
      "20/20 [==============================] - 1s 32ms/step - loss: 0.0249 - tp: 20468.0000 - fp: 7.0000 - tn: 20382.0000 - fn: 103.0000 - accuracy: 0.9973 - precision: 0.9997 - recall: 0.9950 - auc: 0.9998\n",
      "Epoch 83/1000\n",
      "20/20 [==============================] - 1s 34ms/step - loss: 0.0260 - tp: 20319.0000 - fp: 4.0000 - tn: 20508.0000 - fn: 129.0000 - accuracy: 0.9968 - precision: 0.9998 - recall: 0.9937 - auc: 0.9997\n",
      "Epoch 84/1000\n",
      "20/20 [==============================] - 1s 41ms/step - loss: 0.0251 - tp: 20231.0000 - fp: 5.0000 - tn: 20603.0000 - fn: 121.0000 - accuracy: 0.9969 - precision: 0.9998 - recall: 0.9941 - auc: 0.9997\n",
      "Epoch 85/1000\n",
      "20/20 [==============================] - 1s 29ms/step - loss: 0.0250 - tp: 20438.0000 - fp: 5.0000 - tn: 20392.0000 - fn: 125.0000 - accuracy: 0.9968 - precision: 0.9998 - recall: 0.9939 - auc: 0.9997\n",
      "Epoch 86/1000\n",
      "20/20 [==============================] - 1s 29ms/step - loss: 0.0240 - tp: 20288.0000 - fp: 2.0000 - tn: 20565.0000 - fn: 105.0000 - accuracy: 0.9974 - precision: 0.9999 - recall: 0.9949 - auc: 0.9997\n",
      "Epoch 87/1000\n",
      "20/20 [==============================] - 1s 29ms/step - loss: 0.0237 - tp: 20370.0000 - fp: 4.0000 - tn: 20465.0000 - fn: 121.0000 - accuracy: 0.9969 - precision: 0.9998 - recall: 0.9941 - auc: 0.9997\n",
      "Epoch 88/1000\n",
      "20/20 [==============================] - 1s 29ms/step - loss: 0.0232 - tp: 20393.0000 - fp: 0.0000e+00 - tn: 20452.0000 - fn: 115.0000 - accuracy: 0.9972 - precision: 1.0000 - recall: 0.9944 - auc: 0.9997\n",
      "Epoch 89/1000\n",
      "20/20 [==============================] - 1s 38ms/step - loss: 0.0235 - tp: 20284.0000 - fp: 2.0000 - tn: 20557.0000 - fn: 117.0000 - accuracy: 0.9971 - precision: 0.9999 - recall: 0.9943 - auc: 0.9997\n",
      "Epoch 90/1000\n",
      "20/20 [==============================] - 1s 35ms/step - loss: 0.0223 - tp: 20491.0000 - fp: 2.0000 - tn: 20372.0000 - fn: 95.0000 - accuracy: 0.9976 - precision: 0.9999 - recall: 0.9954 - auc: 0.9998\n",
      "Epoch 91/1000\n",
      "20/20 [==============================] - 1s 34ms/step - loss: 0.0226 - tp: 20295.0000 - fp: 0.0000e+00 - tn: 20552.0000 - fn: 113.0000 - accuracy: 0.9972 - precision: 1.0000 - recall: 0.9945 - auc: 0.9997\n",
      "Epoch 92/1000\n",
      "20/20 [==============================] - 1s 33ms/step - loss: 0.0223 - tp: 20367.0000 - fp: 0.0000e+00 - tn: 20484.0000 - fn: 109.0000 - accuracy: 0.9973 - precision: 1.0000 - recall: 0.9947 - auc: 0.9997\n",
      "Epoch 93/1000\n",
      "20/20 [==============================] - 1s 28ms/step - loss: 0.0212 - tp: 20306.0000 - fp: 0.0000e+00 - tn: 20568.0000 - fn: 86.0000 - accuracy: 0.9979 - precision: 1.0000 - recall: 0.9958 - auc: 0.9998\n",
      "Epoch 94/1000\n",
      "20/20 [==============================] - 1s 29ms/step - loss: 0.0200 - tp: 20472.0000 - fp: 0.0000e+00 - tn: 20421.0000 - fn: 67.0000 - accuracy: 0.9984 - precision: 1.0000 - recall: 0.9967 - auc: 0.9998\n",
      "Epoch 95/1000\n",
      "20/20 [==============================] - 1s 29ms/step - loss: 0.0207 - tp: 20421.0000 - fp: 0.0000e+00 - tn: 20445.0000 - fn: 94.0000 - accuracy: 0.9977 - precision: 1.0000 - recall: 0.9954 - auc: 0.9998\n",
      "Epoch 96/1000\n",
      "20/20 [==============================] - 1s 28ms/step - loss: 0.0207 - tp: 20170.0000 - fp: 0.0000e+00 - tn: 20697.0000 - fn: 93.0000 - accuracy: 0.9977 - precision: 1.0000 - recall: 0.9954 - auc: 0.9998\n",
      "Epoch 97/1000\n",
      "20/20 [==============================] - 1s 34ms/step - loss: 0.0203 - tp: 20230.0000 - fp: 0.0000e+00 - tn: 20638.0000 - fn: 92.0000 - accuracy: 0.9978 - precision: 1.0000 - recall: 0.9955 - auc: 0.9998\n",
      "Epoch 98/1000\n",
      "20/20 [==============================] - 1s 34ms/step - loss: 0.0205 - tp: 20230.0000 - fp: 0.0000e+00 - tn: 20632.0000 - fn: 98.0000 - accuracy: 0.9976 - precision: 1.0000 - recall: 0.9952 - auc: 0.9998\n",
      "Epoch 99/1000\n",
      "20/20 [==============================] - 1s 41ms/step - loss: 0.0201 - tp: 20339.0000 - fp: 1.0000 - tn: 20523.0000 - fn: 97.0000 - accuracy: 0.9976 - precision: 1.0000 - recall: 0.9953 - auc: 0.9998\n",
      "Epoch 100/1000\n",
      "20/20 [==============================] - 1s 34ms/step - loss: 0.0190 - tp: 20285.0000 - fp: 0.0000e+00 - tn: 20585.0000 - fn: 90.0000 - accuracy: 0.9978 - precision: 1.0000 - recall: 0.9956 - auc: 0.9998\n",
      "Epoch 101/1000\n",
      "20/20 [==============================] - 1s 39ms/step - loss: 0.0197 - tp: 20339.0000 - fp: 1.0000 - tn: 20532.0000 - fn: 88.0000 - accuracy: 0.9978 - precision: 1.0000 - recall: 0.9957 - auc: 0.9998\n",
      "Epoch 102/1000\n",
      "20/20 [==============================] - 1s 32ms/step - loss: 0.0189 - tp: 20496.0000 - fp: 0.0000e+00 - tn: 20363.0000 - fn: 101.0000 - accuracy: 0.9975 - precision: 1.0000 - recall: 0.9951 - auc: 0.9998\n",
      "Epoch 103/1000\n",
      "20/20 [==============================] - 1s 34ms/step - loss: 0.0193 - tp: 20355.0000 - fp: 0.0000e+00 - tn: 20508.0000 - fn: 97.0000 - accuracy: 0.9976 - precision: 1.0000 - recall: 0.9953 - auc: 0.9998\n",
      "Epoch 104/1000\n",
      "19/20 [===========================>..] - ETA: 0s - loss: 0.0185 - tp: 19471.0000 - fp: 0.0000e+00 - tn: 19360.0000 - fn: 81.0000 - accuracy: 0.9979 - precision: 1.0000 - recall: 0.9959 - auc: 0.9998Restoring model weights from the end of the best epoch.\n",
      "20/20 [==============================] - 1s 29ms/step - loss: 0.0186 - tp: 20492.0000 - fp: 0.0000e+00 - tn: 20381.0000 - fn: 87.0000 - accuracy: 0.9979 - precision: 1.0000 - recall: 0.9958 - auc: 0.9998\n",
      "Epoch 00104: early stopping\n"
     ]
    }
   ],
   "source": [
    "#retrain\n",
    "resampled_model = make_model()\n",
    "resampled_model.load_weights(initial_weights)\n",
    "\n",
    "# Reset the bias to zero, since this dataset is balanced.\n",
    "output_layer = resampled_model.layers[-1] \n",
    "output_layer.bias.assign([0])\n",
    "\n",
    "resampled_history = resampled_model.fit(\n",
    "    resampled_ds,\n",
    "    # These are not real epochs\n",
    "    steps_per_epoch = 20,\n",
    "    epochs=10*EPOCHS,\n",
    "    callbacks = [early_stopping])"
   ]
  },
  {
   "cell_type": "code",
   "execution_count": 289,
   "metadata": {},
   "outputs": [
    {
     "name": "stdout",
     "output_type": "stream",
     "text": [
      "loss :  0.0021000141240656374\n",
      "tp :  50.0\n",
      "fp :  0.0\n",
      "tn :  7950.0\n",
      "fn :  0.0\n",
      "accuracy :  1.0\n",
      "precision :  1.0\n",
      "recall :  1.0\n",
      "auc :  0.99999994\n",
      "\n",
      "Legitimate Transactions Detected (True Negatives):  7950\n",
      "Legitimate Transactions Incorrectly Detected (False Positives):  0\n",
      "Fraudulent Transactions Missed (False Negatives):  0\n",
      "Fraudulent Transactions Detected (True Positives):  50\n",
      "Total Fraudulent Transactions:  50\n"
     ]
    },
    {
     "data": {
      "image/png": "[encoded data removed]",
      "text/plain": [
       "<Figure size 360x360 with 2 Axes>"
      ]
     },
     "metadata": {
      "needs_background": "light"
     },
     "output_type": "display_data"
    }
   ],
   "source": [
    "#Evaluate model\n",
    "train_predictions_resampled = resampled_model.predict(train_features, batch_size=BATCH_SIZE)\n",
    "test_predictions_resampled = resampled_model.predict(test_features, batch_size=BATCH_SIZE)\n",
    "\n",
    "resampled_results = resampled_model.evaluate(test_features, test_labels,\n",
    "                                             batch_size=BATCH_SIZE, verbose=0)\n",
    "for name, value in zip(resampled_model.metrics_names, resampled_results):\n",
    "  print(name, ': ', value)\n",
    "print()\n",
    "\n",
    "plot_cm(test_labels, test_predictions_resampled)"
   ]
  },
  {
   "cell_type": "code",
   "execution_count": null,
   "metadata": {},
   "outputs": [],
   "source": []
  },
  {
   "cell_type": "code",
   "execution_count": null,
   "metadata": {},
   "outputs": [],
   "source": []
  },
  {
   "cell_type": "code",
   "execution_count": null,
   "metadata": {},
   "outputs": [],
   "source": []
  },
  {
   "cell_type": "code",
   "execution_count": null,
   "metadata": {},
   "outputs": [],
   "source": []
  },
  {
   "cell_type": "code",
   "execution_count": null,
   "metadata": {},
   "outputs": [],
   "source": []
  },
  {
   "cell_type": "code",
   "execution_count": null,
   "metadata": {},
   "outputs": [],
   "source": []
  }
 ],
 "metadata": {
  "kernelspec": {
   "display_name": "Python 3",
   "language": "python",
   "name": "python3"
  },
  "language_info": {
   "codemirror_mode": {
    "name": "ipython",
    "version": 3
   },
   "file_extension": ".py",
   "mimetype": "text/x-python",
   "name": "python",
   "nbconvert_exporter": "python",
   "pygments_lexer": "ipython3",
   "version": "3.7.6"
  }
 },
 "nbformat": 4,
 "nbformat_minor": 4
}
